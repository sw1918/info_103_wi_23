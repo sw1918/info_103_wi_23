{
 "cells": [
  {
   "cell_type": "markdown",
   "id": "67655e14-ea22-4ff1-9b83-2735028b6dd8",
   "metadata": {},
   "source": [
    "# Demo: Trolling a Reply Bot\n",
    "\n",
    "We are later going to build a bot that, if you message it: \n",
    "- Subject: \"Wanting bot response\", body: \"I want you to ___\" (where the ___ is some action)\n",
    "- then the bot will reply, \"I will now ____\" (where the ___ is that same action).\n",
    "\n",
    "Then we will try trolling it, and fixing it, and trolling it again.\n",
    "\n",
    "## Sending ourselves a message\n",
    "In order to send ourselves a message we can reply to, go to:\n",
    "- [https://www.reddit.com/message/compose/](https://www.reddit.com/message/compose/)\n",
    "\n",
    "Then compose a message to your own account with the subject:\n",
    "- Wanting bot response\n",
    "and a message body of something like:\n",
    "- I want you to jump\n",
    "\n",
    "![The Reddit \"Send a Private Message\" screen, with From \"/u/kthayer_teacher_bot\" filled in by default and uneditable, then To \"kthayer_teacher_bot\", Subject \"Wanting bot response\" and Body \"I want you to jump\"](imgs/send_reddit_message.png)\n",
    "\n",
    "\n",
    "\n",
    "## Log into Reddit (PRAW)\n",
    "Our code starts with our Redddit PRAW setup:"
   ]
  },
  {
   "cell_type": "code",
   "execution_count": null,
   "id": "ed4d794b-94dc-48bc-bd59-557d2251a135",
   "metadata": {
    "tags": []
   },
   "outputs": [],
   "source": [
    "import praw"
   ]
  },
  {
   "cell_type": "markdown",
   "id": "fe7ff131-e8a4-4423-ab35-0c3818c6abd7",
   "metadata": {},
   "source": [
    "(optional) make a fake praw connection with the fake_praw library\n",
    "\n",
    "For testing purposes, we've added this line of code, which loads a fake version of praw, so it wont actually connect to reddit. __If you want to try to actually connect to reddit, don't run this line of code.__"
   ]
  },
  {
   "cell_type": "code",
   "execution_count": null,
   "id": "1cc9e058-bd45-44e4-a93e-4daa302e45bc",
   "metadata": {},
   "outputs": [],
   "source": [
    "%run fake_apis/fake_praw.ipynb"
   ]
  },
  {
   "cell_type": "code",
   "execution_count": null,
   "id": "92e97170-80c2-42b7-b661-2eb909b71f14",
   "metadata": {},
   "outputs": [],
   "source": [
    "%run reddit_keys.py"
   ]
  },
  {
   "cell_type": "code",
   "execution_count": null,
   "id": "a4670d0f-d404-49ae-ad88-5234a60254ff",
   "metadata": {},
   "outputs": [],
   "source": [
    "# Give the praw code your reddit account info so\n",
    "# it can perform reddit actions\n",
    "reddit = praw.Reddit(\n",
    "    username=username, password=password,\n",
    "    client_id=client_id, client_secret=client_secret,\n",
    "    user_agent=\"a custom python script for user /\" + str(username)\n",
    ")"
   ]
  },
  {
   "cell_type": "markdown",
   "id": "b751385e-030f-469d-a53c-f75f553f4f74",
   "metadata": {},
   "source": [
    "https://www.reddit.com/message/compose/\n",
    "\"Wanting bot response\"\n"
   ]
  },
  {
   "cell_type": "markdown",
   "id": "0198af1c-b595-486a-aedc-755ab20b680a",
   "metadata": {},
   "source": [
    "## Bot 1: do whatever we are told\n",
    "Our first bot will find our latest inbox message, and then reply with whatever it is told to do"
   ]
  },
  {
   "cell_type": "markdown",
   "id": "a4d463f2-c04f-4ae4-975e-662ec38cfe3a",
   "metadata": {
    "tags": []
   },
   "source": [
    "### find my latest message\n",
    "We need to find our latest message in our inbox\n",
    "\n",
    "We do this by looking in our reddit inbox for messages (we limit it to one, since we just want the latest).\n",
    "\n",
    "It doesn't directly give us the one message (instead it is in something called an \"iterator\"), but we can use the `next` function to get the message out.\n",
    "\n",
    "We then display the subject of the message just so we can see that it found something.."
   ]
  },
  {
   "cell_type": "code",
   "execution_count": null,
   "id": "871897ce-9319-47df-9fbe-d1e66011340f",
   "metadata": {},
   "outputs": [],
   "source": [
    "# Look up the subreddit \"cuteanimals\", then find the \"hot\" list, getting up to 1 submission\n",
    "messages = reddit.inbox.messages(limit=1)\n",
    "\n",
    "# get the first submission off the list (should only be one anyway)\n",
    "latest_message = next(messages) \n",
    "\n",
    "# display the subject and body of the message, so we can see what we found\n",
    "display(\"latest message subject: \" + str(latest_message.subject))\n",
    "display(\"latest message body: \" + str(latest_message.body))"
   ]
  },
  {
   "cell_type": "markdown",
   "id": "98c79380-fdd8-476f-98e4-53142f950443",
   "metadata": {},
   "source": [
    "### If message matches our pattern, reply\n",
    "\n",
    "We will now see if the message matches our pattern of a message subject of \"Wanting bot response\" with a message body of \"I want you to ___\" and then we will reply.\n",
    "\n",
    "First we will create strings with the patterns we are looking for and save them into variables."
   ]
  },
  {
   "cell_type": "code",
   "execution_count": null,
   "id": "410202a3-5499-44fb-a452-429d81b33a77",
   "metadata": {},
   "outputs": [],
   "source": [
    "expected_subject = \"Wanting bot response\"\n",
    "expected_body_pattern = \"I want you to \""
   ]
  },
  {
   "cell_type": "markdown",
   "id": "b1f0bdfd-37af-4556-b983-c8bdb1c1cdcd",
   "metadata": {},
   "source": [
    "We will check if the message has the subject we are expecting. If it does it will check if the essage body starts with the expected pattern. If it does, then we will find the action from the end of the message body text (based on the expected_pattern length), and reply using that action. \n",
    "\n",
    "We also add \"else\" cases for when we didn't match the patter, and display a message saying what didn't match."
   ]
  },
  {
   "cell_type": "code",
   "execution_count": null,
   "id": "5ee57c3d-ab9e-4134-8c35-c1e3b71c6d2b",
   "metadata": {},
   "outputs": [],
   "source": [
    "# check if the mention text starts with our set phrase\n",
    "if latest_message.subject == expected_subject:\n",
    "    \n",
    "    if latest_message.body.startswith(expected_body_pattern):\n",
    "        # get the action, which should be the end of the string after the expected pattern\n",
    "        action = latest_message.body[len(expected_body_pattern) :]\n",
    "\n",
    "        # make a new message which says we will do the action\n",
    "        message = \"I will now \" + action\n",
    "\n",
    "        # send our message in reply\n",
    "        latest_message.reply(message)\n",
    "        \n",
    "    else: # else code for if the message body didn't match\n",
    "        display(\"The message body (\" + latest_message.body + \") didn't match our pattern (\" + expected_body_pattern + \")\")\n",
    "        \n",
    "else: # else code for if the message subject didn't match\n",
    "    display(\"The message subject (\" + latest_message.subject + \") didn't match our expected subject (\" + expected_subject + \")\" )"
   ]
  },
  {
   "cell_type": "markdown",
   "id": "9780cad7-78d5-4fbd-8332-f1841165484b",
   "metadata": {},
   "source": [
    "Yay! It worked! But there is a problem!"
   ]
  },
  {
   "cell_type": "markdown",
   "id": "c290af8d-bcbc-4d0b-a29b-f2c01ad91961",
   "metadata": {},
   "source": [
    "## Trolling bot 1\n",
    "This bot is really easy to troll, so if I repeat my steps and get a new mention (this code is just a duplication of the code above):"
   ]
  },
  {
   "cell_type": "code",
   "execution_count": null,
   "id": "87bdc703-5377-4188-b2b8-aae5bb0c170b",
   "metadata": {},
   "outputs": [],
   "source": [
    "# Look up the subreddit \"cuteanimals\", then find the \"hot\" list, getting up to 1 submission\n",
    "messages = reddit.inbox.messages(limit=1)\n",
    "\n",
    "# get the first submission off the list (should only be one anyway)\n",
    "latest_message = next(messages) \n",
    "\n",
    "# display the subject and body of the message, so we can see what we found\n",
    "display(\"latest message subject: \" + str(latest_message.subject))\n",
    "display(\"latest message body: \" + str(latest_message.body))\n",
    "\n",
    "expected_subject = \"Wanting bot response\"\n",
    "expected_body_pattern = \"I want you to \"\n",
    "\n",
    "# check if the mention text starts with our set phrase\n",
    "if latest_message.subject == expected_subject:\n",
    "    \n",
    "    if latest_message.body.startswith(expected_body_pattern):\n",
    "        # get the action, which should be the end of the string after the expected pattern\n",
    "        action = latest_message.body[len(expected_body_pattern) :]\n",
    "\n",
    "        # make a new message which says we will do the action\n",
    "        message = \"I will now \" + action\n",
    "\n",
    "        # sen our message in reply\n",
    "        latest_message.reply(message)\n",
    "        \n",
    "    else: # else code for if the message body didn't match\n",
    "        display(\"The message body (\" + latest_message.body + \") didn't match our pattern (\" + expected_body_pattern + \")\")\n",
    "        \n",
    "else: # else code for if the message subject didn't match\n",
    "    display(\"The message subject (\" + latest_message.subject + \") didn't match our expected subject (\" + expected_subject + \")\" )"
   ]
  },
  {
   "cell_type": "markdown",
   "id": "0c9d4a4b-146e-49bf-bf52-0f9824d2623f",
   "metadata": {},
   "source": [
    "Someone messaged us saying at us: `I want you to do something horrible!`, and we replied `I will now do something horrible!`. \n",
    "\n",
    "They could have made us tweet much worse!"
   ]
  },
  {
   "cell_type": "markdown",
   "id": "c015a29f-d259-41c1-a83b-b82574f1a5fb",
   "metadata": {},
   "source": [
    "## Bot 2: Trying to limit actions\n",
    "Let's try this again, but limit the actions we will do.\n",
    "- If someone asks us to \"run\", \"jump\", or \"fly\", we will do it\n",
    "- If someone asks us to do something else we will say:\n",
    "  - \"I do not recognize the command ___\" (with __ being whatever they said)\n",
    "  \n",
    "So, to go back through our steps:\n",
    "### find my latest mention"
   ]
  },
  {
   "cell_type": "code",
   "execution_count": null,
   "id": "b71aa672-1134-472b-8aae-3acf7ae4ae4e",
   "metadata": {},
   "outputs": [],
   "source": [
    "# Look up the subreddit \"cuteanimals\", then find the \"hot\" list, getting up to 1 submission\n",
    "messages = reddit.inbox.messages(limit=1)\n",
    "\n",
    "# get the first submission off the list (should only be one anyway)\n",
    "latest_message = next(messages) \n",
    "\n",
    "# display the subject and body of the message, so we can see what we found\n",
    "display(\"latest message subject: \" + str(latest_message.subject))\n",
    "display(\"latest message body: \" + str(latest_message.body))"
   ]
  },
  {
   "cell_type": "markdown",
   "id": "99499d3f-f70d-46b6-9ec6-14665ab699a6",
   "metadata": {},
   "source": [
    "### If tweet matches our pattern, reply\n",
    "We do the same code for this as before, but after we get the action we are told to do, we put another `if`/`else` to either do the action if we recognize it, or say we didn't recognize the action.\n",
    "\n",
    "We will use `in` to see if the action is in our list of allowed actions (called an allow_list)"
   ]
  },
  {
   "cell_type": "code",
   "execution_count": null,
   "id": "2115a5e1-01d4-4f9f-8670-aa623c26df20",
   "metadata": {},
   "outputs": [],
   "source": [
    "expected_subject = \"Wanting bot response\"\n",
    "expected_body_pattern = \"I want you to \"\n",
    "\n",
    "actions_allow_list = [\"run\", \"jump\", \"fly\"]\n",
    "\n",
    "# check if the mention text starts with our set phrase\n",
    "if latest_message.subject == expected_subject:\n",
    "    \n",
    "    if latest_message.body.startswith(expected_body_pattern):\n",
    "        # get the action, which should be the end of the string after the expected pattern\n",
    "        action = latest_message.body[len(expected_body_pattern) :]\n",
    "        \n",
    "        # See if it is one of our recognized actions\n",
    "        if(action in actions_allow_list):\n",
    "            # make a new message which says we will do the action\n",
    "            message = \"I will now \" + action\n",
    "\n",
    "            # send our message in reply\n",
    "            latest_message.reply(message)\n",
    "            \n",
    "        else: # we didn't recognize the action\n",
    "            # make a new message which says we will NOT do the action\n",
    "            message = \"I do not recognize the command \" + action\n",
    "\n",
    "            # send our message in reply\n",
    "            latest_message.reply(message)\n",
    "        \n",
    "    else: # else code for if the message body didn't match\n",
    "        display(\"The message body (\" + latest_message.body + \") didn't match our pattern (\" + expected_body_pattern + \")\")\n",
    "        \n",
    "else: # else code for if the message subject didn't match\n",
    "    display(\"The message subject (\" + latest_message.subject + \") didn't match our expected subject (\" + expected_subject + \")\" )\n",
    "\n"
   ]
  },
  {
   "cell_type": "markdown",
   "id": "ed81d85f-8ae2-474d-b48e-5c187b1be78b",
   "metadata": {},
   "source": [
    "That one was in our allow list so it worked. Let's do it all again, with the tweet that caused us problems last time\n",
    "\n",
    "_Note: the code below is just copied from the code sections above_"
   ]
  },
  {
   "cell_type": "code",
   "execution_count": null,
   "id": "324b0d40-7407-49bd-a951-12c0101742c0",
   "metadata": {},
   "outputs": [],
   "source": [
    "# Look up the subreddit \"cuteanimals\", then find the \"hot\" list, getting up to 1 submission\n",
    "messages = reddit.inbox.messages(limit=1)\n",
    "\n",
    "# get the first submission off the list (should only be one anyway)\n",
    "latest_message = next(messages) \n",
    "\n",
    "# display the subject and body of the message, so we can see what we found\n",
    "display(\"latest message subject: \" + str(latest_message.subject))\n",
    "display(\"latest message body: \" + str(latest_message.body))\n",
    "\n",
    "expected_subject = \"Wanting bot response\"\n",
    "expected_body_pattern = \"I want you to \"\n",
    "\n",
    "actions_allow_list = [\"run\", \"jump\", \"fly\"]\n",
    "\n",
    "# check if the mention text starts with our set phrase\n",
    "if latest_message.subject == expected_subject:\n",
    "    \n",
    "    if latest_message.body.startswith(expected_body_pattern):\n",
    "        # get the action, which should be the end of the string after the expected pattern\n",
    "        action = latest_message.body[len(expected_body_pattern) :]\n",
    "        \n",
    "        # See if it is one of our recognized actions\n",
    "        if(action in actions_allow_list):\n",
    "            # make a new message which says we will do the action\n",
    "            message = \"I will now \" + action\n",
    "\n",
    "            # send our message in reply\n",
    "            latest_message.reply(message)\n",
    "            \n",
    "        else: # we didn't recognize the action\n",
    "            # make a new message which says we will NOT do the action\n",
    "            message = \"I do not recognize the command \" + action\n",
    "\n",
    "            # send our message in reply\n",
    "            latest_message.reply(message)\n",
    "        \n",
    "    else: # else code for if the message body didn't match\n",
    "        display(\"The message body (\" + latest_message.body + \") didn't match our pattern (\" + expected_body_pattern + \")\")\n",
    "        \n",
    "else: # else code for if the message subject didn't match\n",
    "    display(\"The message subject (\" + latest_message.subject + \") didn't match our expected subject (\" + expected_subject + \")\" )"
   ]
  },
  {
   "cell_type": "markdown",
   "id": "afc64a17-31df-4d18-b56c-407fb2a5bfef",
   "metadata": {},
   "source": [
    "Ok, this time we said `I do not recognize the command do something horrible!`. \n",
    "\n",
    "That looks a little better! Are we safe now?"
   ]
  },
  {
   "cell_type": "markdown",
   "id": "3d46cfe7-52c7-4394-87d3-90aa97af1a17",
   "metadata": {},
   "source": [
    "## Trolling bot 2\n",
    "No, it turns out we are not safe.\n",
    "\n",
    "Let's find the latest mention again and see what happens"
   ]
  },
  {
   "cell_type": "code",
   "execution_count": null,
   "id": "86eb891b-dd4f-40e0-985d-bf9cd6594c42",
   "metadata": {},
   "outputs": [],
   "source": [
    "# Look up the subreddit \"cuteanimals\", then find the \"hot\" list, getting up to 1 submission\n",
    "messages = reddit.inbox.messages(limit=1)\n",
    "\n",
    "# get the first submission off the list (should only be one anyway)\n",
    "latest_message = next(messages) \n",
    "\n",
    "# display the subject and body of the message, so we can see what we found\n",
    "display(\"latest message subject: \" + str(latest_message.subject))\n",
    "display(\"latest message body: \" + str(latest_message.body))\n",
    "\n",
    "expected_subject = \"Wanting bot response\"\n",
    "expected_body_pattern = \"I want you to \"\n",
    "\n",
    "actions_allow_list = [\"run\", \"jump\", \"fly\"]\n",
    "\n",
    "# check if the mention text starts with our set phrase\n",
    "if latest_message.subject == expected_subject:\n",
    "    \n",
    "    if latest_message.body.startswith(expected_body_pattern):\n",
    "        # get the action, which should be the end of the string after the expected pattern\n",
    "        action = latest_message.body[len(expected_body_pattern) :]\n",
    "        \n",
    "        # See if it is one of our recognized actions\n",
    "        if(action in actions_allow_list):\n",
    "            # make a new message which says we will do the action\n",
    "            message = \"I will now \" + action\n",
    "\n",
    "            # send our message in reply\n",
    "            latest_message.reply(message)\n",
    "            \n",
    "        else: # we didn't recognize the action\n",
    "            # make a new message which says we will NOT do the action\n",
    "            message = \"I do not recognize the command \" + action\n",
    "\n",
    "            # send our message in reply\n",
    "            latest_message.reply(message)\n",
    "        \n",
    "    else: # else code for if the message body didn't match\n",
    "        display(\"The message body (\" + latest_message.body + \") didn't match our pattern (\" + expected_body_pattern + \")\")\n",
    "        \n",
    "else: # else code for if the message subject didn't match\n",
    "    display(\"The message subject (\" + latest_message.subject + \") didn't match our expected subject (\" + expected_subject + \")\" )"
   ]
  },
  {
   "cell_type": "markdown",
   "id": "67cefd22-c2fa-456e-b4ac-7be335ce9920",
   "metadata": {},
   "source": [
    "Oh no! Someone tweeted at us:\n",
    "- `I want you to stop talking. But that doesn't mean I won't say horrible things like: I hate everybody!`\n",
    "\n",
    "And we replied:\n",
    "- `I do not recognize the command stop talking. But that doesn't mean I won't say horrible things like: I hate everybody!`\n",
    "\n",
    "Making a bot that is troll proof is very difficult! You either need to severely limit how your bot engages with people, or do a ton of work trying to prevent trolling and fix problems when people find a new way of trolling you.\n",
    "\n",
    "If you want to learn more, you can revisit the story of what went wrong with the Microsoft Tay bot: [How to Make a Bot That Isn't Racist](https://www.vice.com/en_us/article/mg7g3y/how-to-make-a-not-racist-bot)"
   ]
  }
 ],
 "metadata": {
  "kernelspec": {
   "display_name": "Python 3 (ipykernel)",
   "language": "python",
   "name": "python3"
  },
  "language_info": {
   "codemirror_mode": {
    "name": "ipython",
    "version": 3
   },
   "file_extension": ".py",
   "mimetype": "text/x-python",
   "name": "python",
   "nbconvert_exporter": "python",
   "pygments_lexer": "ipython3",
   "version": "3.9.7"
  }
 },
 "nbformat": 4,
 "nbformat_minor": 5
}
