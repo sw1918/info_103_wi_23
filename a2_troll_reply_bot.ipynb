{
 "cells": [
  {
   "cell_type": "markdown",
   "id": "67655e14-ea22-4ff1-9b83-2735028b6dd8",
   "metadata": {},
   "source": [
    "# Programming Assignment 2: Trolling a Reply Bot\n",
    "\n",
    "In this assignment, your job will be to make modify the reply bot below and make your own version of a reply bot (look for the TODO section). Then after you've made it, see if you can troll it. At the end, you will have some reflection questions to answer.\n",
    "\n",
    "When you are done, you will need to download this file (file menu -> download) and turn it in on Canvas.\n",
    "\n",
    "Below is the code for the first reply bot from the book, where if you message it: \n",
    "- Subject: \"Wanting bot response\", body: \"I want you to ___\" (where the ___ is some action)\n",
    "- then the bot will reply, \"I will now ____\" (where the ___ is that same action).\n",
    "\n",
    "## Sending ourselves a message\n",
    "In order to send ourselves a message we can reply to, go to:\n",
    "- [https://www.reddit.com/message/compose/](https://www.reddit.com/message/compose/)\n",
    "\n",
    "Then compose a message to your own account with the subject:\n",
    "- Wanting bot response\n",
    "and a message body of something like:\n",
    "- I want you to jump\n",
    "\n",
    "![The Reddit \"Send a Private Message\" screen, with From \"/u/kthayer_teacher_bot\" filled in by default and uneditable, then To \"kthayer_teacher_bot\", Subject \"Wanting bot response\" and Body \"I want you to jump\"](imgs/send_reddit_message.png)\n",
    "\n",
    "\n",
    "## Reply Bot\n",
    "\n",
    "First we need to do our Reddit PRAW setup:"
   ]
  },
  {
   "cell_type": "code",
   "execution_count": null,
   "id": "ed4d794b-94dc-48bc-bd59-557d2251a135",
   "metadata": {
    "tags": []
   },
   "outputs": [],
   "source": [
    "import praw"
   ]
  },
  {
   "cell_type": "markdown",
   "id": "fe7ff131-e8a4-4423-ab35-0c3818c6abd7",
   "metadata": {},
   "source": [
    "(optional) make a fake praw connection with the fake_praw library\n",
    "\n",
    "For testing purposes, we've added this line of code, which loads a fake version of praw, so it wont actually connect to reddit. __If you want to try to actually connect to reddit, don't run this line of code.__"
   ]
  },
  {
   "cell_type": "code",
   "execution_count": null,
   "id": "1cc9e058-bd45-44e4-a93e-4daa302e45bc",
   "metadata": {},
   "outputs": [],
   "source": [
    "%run fake_apis/fake_praw.ipynb"
   ]
  },
  {
   "cell_type": "markdown",
   "id": "63d6e102-0891-4bb3-8156-d69cc04f4bec",
   "metadata": {},
   "source": [
    "To use this on your real Reddit account, copy your [developer access passwords](https://social-media-ethics-automation.github.io/book_v0/appendix/bot_set_ups/making_reddit_account.html) into the reddit_keys.py file."
   ]
  },
  {
   "cell_type": "code",
   "execution_count": null,
   "id": "92e97170-80c2-42b7-b661-2eb909b71f14",
   "metadata": {},
   "outputs": [],
   "source": [
    "import reddit_keys"
   ]
  },
  {
   "cell_type": "code",
   "execution_count": null,
   "id": "a4670d0f-d404-49ae-ad88-5234a60254ff",
   "metadata": {},
   "outputs": [],
   "source": [
    "# Give the praw code your reddit account info so\n",
    "# it can perform reddit actions\n",
    "reddit = praw.Reddit(\n",
    "    username=reddit_keys.username, password=reddit_keys.password,\n",
    "    client_id=reddit_keys.client_id, client_secret=reddit_keys.client_secret,\n",
    "    user_agent=\"a custom python script for learning for \" + reddit_keys.username\n",
    ")"
   ]
  },
  {
   "cell_type": "markdown",
   "id": "a4d463f2-c04f-4ae4-975e-662ec38cfe3a",
   "metadata": {
    "tags": []
   },
   "source": [
    "### find my latest message\n",
    "We need to find our latest message in our inbox\n",
    "\n",
    "We do this by looking in our reddit inbox for messages (we limit it to one, since we just want the latest).\n",
    "\n",
    "It doesn't directly give us the one message (instead it is in something called an \"iterator\"), but we can use the `next` function to get the message out.\n",
    "\n",
    "We then display the subject of the message just so we can see that it found something."
   ]
  },
  {
   "cell_type": "code",
   "execution_count": null,
   "id": "3c3ff0f8-d311-4362-bd4e-7dd4e307c624",
   "metadata": {},
   "outputs": [],
   "source": [
    "# Look up the subreddit \"cuteanimals\", then find the \"hot\" list, getting up to 1 submission\n",
    "messages = reddit.inbox.messages(limit=1)\n",
    "\n",
    "# get the first submission off the list (should only be one anyway)\n",
    "latest_message = next(messages) \n",
    "\n",
    "# display the subject and body of the message, so we can see what we found\n",
    "display(\"latest message subject: \" + str(latest_message.subject))\n",
    "display(\"latest message body: \" + str(latest_message.body))"
   ]
  },
  {
   "cell_type": "markdown",
   "id": "0198af1c-b595-486a-aedc-755ab20b680a",
   "metadata": {
    "tags": []
   },
   "source": [
    "## TODO: Modify this section (If message matches our pattern, reply)\n",
    "\n",
    "_You must must modify at least one thing in the code below. You could change the expected patterns, or you could change the code that replies, or you could change both._"
   ]
  },
  {
   "cell_type": "markdown",
   "id": "98c79380-fdd8-476f-98e4-53142f950443",
   "metadata": {},
   "source": [
    "We will now see if the message matches our pattern of a message subject of \"Wanting bot response\" with a message body of \"I want you to ___\" and then we will reply.\n",
    "\n",
    "First we will create strings with the patterns we are looking for and save them into variables."
   ]
  },
  {
   "cell_type": "code",
   "execution_count": null,
   "id": "3be9514a-0fb2-4edd-b759-da362f078913",
   "metadata": {},
   "outputs": [],
   "source": [
    "expected_subject = \"Wanting bot response\"\n",
    "expected_body_pattern = \"I want you to \""
   ]
  },
  {
   "cell_type": "markdown",
   "id": "b1f0bdfd-37af-4556-b983-c8bdb1c1cdcd",
   "metadata": {},
   "source": [
    "We will check if the message has the subject we are expecting. If it does it will check if the essage body starts with the expected pattern. If it does, then we will find the action from the end of the message body text (based on the expected_pattern length), and reply using that action. \n",
    "\n",
    "We also add \"else\" cases for when we didn't match the patter, and display a message saying what didn't match."
   ]
  },
  {
   "cell_type": "code",
   "execution_count": null,
   "id": "7be517a7-c73e-4d7e-b0a5-5ebd6a5c4d71",
   "metadata": {},
   "outputs": [],
   "source": [
    "# check if the mention text starts with our set phrase\n",
    "if latest_message.subject == expected_subject:\n",
    "    \n",
    "    if latest_message.body.startswith(expected_body_pattern):\n",
    "        # get the action, which should be the end of the string after the expected pattern\n",
    "        action = latest_message.body[len(expected_body_pattern) :]\n",
    "\n",
    "        # make a new message which says we will do the action\n",
    "        message = \"I will now \" + action\n",
    "\n",
    "        # send our message in reply\n",
    "        latest_message.reply(message)\n",
    "        \n",
    "    else: # else code for if the message body didn't match\n",
    "        display(\"The message body (\" + latest_message.body + \") didn't match our pattern (\" + expected_body_pattern + \")\")\n",
    "        \n",
    "else: # else code for if the message subject didn't match\n",
    "    display(\"The message subject (\" + latest_message.subject + \") didn't match our expected subject (\" + expected_subject + \")\" )"
   ]
  },
  {
   "cell_type": "markdown",
   "id": "7651e8cb-cf17-412a-b04e-7cb2fd4bb522",
   "metadata": {},
   "source": [
    "## Reflection questions\n",
    "1. What changes did you make to the reply bot?\n"
   ]
  },
  {
   "cell_type": "markdown",
   "id": "3965c5f9-ed07-4fc9-b89d-e325d63440b9",
   "metadata": {},
   "source": [
    "TODO: Write your answer here"
   ]
  },
  {
   "cell_type": "markdown",
   "id": "bd104a8b",
   "metadata": {},
   "source": [
    "2. How could you troll this bot? Give an example of a message that would let you troll it. Or, if you don't think it can be trolled, explain why."
   ]
  },
  {
   "cell_type": "code",
   "execution_count": null,
   "id": "a697ca8b-d01c-4910-ad61-6c0c6e4f8698",
   "metadata": {},
   "outputs": [],
   "source": [
    "TODO: Write your answer here"
   ]
  },
  {
   "cell_type": "markdown",
   "id": "609d8713-5bfc-4000-aeb8-72d3e114d905",
   "metadata": {},
   "source": [
    "3. What limitations does trying to prevent trolling put on your ability to create a bot? (write at least 3 sentences)"
   ]
  },
  {
   "cell_type": "markdown",
   "id": "bb901bf3-2f8d-433a-8409-ebcbd12bd3ff",
   "metadata": {},
   "source": [
    "TODO: Write at least 3 sentences here"
   ]
  },
  {
   "cell_type": "markdown",
   "id": "26016eba-6854-45d0-833e-dd4bca6bc8f9",
   "metadata": {},
   "source": [
    "4. Pick two ethics frameworks and compare how they might evaluate the responsibility of someone who is creating a reply bot? (write at least 6 sentences total)"
   ]
  },
  {
   "cell_type": "markdown",
   "id": "0bfe7ec7-bcdb-4952-9223-015565fd10c8",
   "metadata": {},
   "source": [
    "TODO: Write at least 6 sentences here"
   ]
  },
  {
   "cell_type": "markdown",
   "id": "067786b9-af3d-4c61-a2b9-bee535130e9d",
   "metadata": {},
   "source": [
    "5. Pick two ethics frameworks and compare how they might evaluate the responsibility of someone who is considering trolling a reply bot? (write at least 6 sentences total)"
   ]
  },
  {
   "cell_type": "markdown",
   "id": "0c2417bf-c9a4-4dea-a487-507fa420fe7d",
   "metadata": {},
   "source": [
    "TODO: Write at least 6 sentences here"
   ]
  }
 ],
 "metadata": {
  "kernelspec": {
   "display_name": "Python 3 (ipykernel)",
   "language": "python",
   "name": "python3"
  },
  "language_info": {
   "codemirror_mode": {
    "name": "ipython",
    "version": 3
   },
   "file_extension": ".py",
   "mimetype": "text/x-python",
   "name": "python",
   "nbconvert_exporter": "python",
   "pygments_lexer": "ipython3",
   "version": "3.9.7"
  }
 },
 "nbformat": 4,
 "nbformat_minor": 5
}
