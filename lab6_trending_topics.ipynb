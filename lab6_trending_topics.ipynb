{
 "cells": [
  {
   "cell_type": "markdown",
   "id": "702bc075-18b6-476c-9a32-1da3df3c66f5",
   "metadata": {},
   "source": [
    "# Lab 6: Trending Topics"
   ]
  },
  {
   "cell_type": "markdown",
   "id": "550c1fc0-09e4-4cbf-bb92-f1f517856147",
   "metadata": {},
   "source": [
    "In this lab, you'll use what you know about dictionary counters to create trending topics feature for Reddit!\n",
    "\n",
    "Imagine you're in charge of creating a trending topics feature. Given a subreddit, you want to search through the x hottest posts and keep track of which important terms are showing up the most often. \n",
    "\n",
    "First, let's try to do it naively. Go through the normal praw steps:"
   ]
  },
  {
   "cell_type": "code",
   "execution_count": 1,
   "id": "93984639-50b0-49ae-96e0-ca6fc6daa378",
   "metadata": {},
   "outputs": [],
   "source": [
    "import praw"
   ]
  },
  {
   "cell_type": "code",
   "execution_count": 2,
   "id": "aa804534-1215-479f-a7e6-7478d223b023",
   "metadata": {},
   "outputs": [],
   "source": [
    "%run reddit_keys.py"
   ]
  },
  {
   "cell_type": "code",
   "execution_count": 3,
   "id": "71929082-bb53-4312-9551-5363cf47c1f1",
   "metadata": {},
   "outputs": [],
   "source": [
    "reddit = praw.Reddit(\n",
    "    username=username, password=password,\n",
    "    client_id=client_id, client_secret=client_secret,\n",
    "    user_agent=\"a custom python script for user /\" + str(username)\n",
    ")"
   ]
  },
  {
   "cell_type": "markdown",
   "id": "06f8ebf0-3e26-4239-9d1d-e1185efd3ea1",
   "metadata": {},
   "source": [
    "Now, create a function that accepts a subreddit, and returns the top 5 \"trending topics.\" You can do this by using a dictionary counter to keep track of every unique word in a submission's title, counting how many times they appear, and putting the top 5 into a ranked list.\n",
    "\n",
    "To do that, it will be helpful to be able to keep track of individual words! You can use the split function to do this easily, and don't forget to make sure everything is lowercase:"
   ]
  },
  {
   "cell_type": "code",
   "execution_count": 3,
   "id": "960e2173-9acc-4c0d-bee9-83b7b4197628",
   "metadata": {},
   "outputs": [
    {
     "data": {
      "text/plain": [
       "[\"let's\", 'split', 'up', 'a', 'string!']"
      ]
     },
     "execution_count": 3,
     "metadata": {},
     "output_type": "execute_result"
    }
   ],
   "source": [
    "\"Let's split up a string!\".lower().split()"
   ]
  },
  {
   "cell_type": "code",
   "execution_count": null,
   "id": "89266f30-df86-4722-9107-8b0474c108fe",
   "metadata": {},
   "outputs": [],
   "source": [
    "def trending(sub):\n",
    "    submissions = reddit.subreddit(sub).hot(limit=25)\n",
    "    submissions_list = list(submissions)\n",
    "    topics = []\n",
    "    #your code here\n",
    "    return topics\n",
    "\n",
    "#test your function here!"
   ]
  },
  {
   "cell_type": "markdown",
   "id": "6e101716-f035-4a8d-be7f-e32555505065",
   "metadata": {},
   "source": [
    "After you get it working, you might notice some issues. For example, words like \"the\", \"and\", \"it\", etc aren't really topics, but they probably keep appearing as your top topics! How can we get rid of them?\n",
    "\n",
    "For that, we can turn to information theory! There's a term called \"inverse-document frequency,\" that basically tries to quantify how much information a word provides (i.e. how rare it is). Basically, we divide the number of total number of documents, by the number of documents a word appears in. \n",
    "\n",
    "For example, if we have three sentences:\n",
    "1. \"The best ice cream flavor is chocolate.\"\n",
    "2. \"Only idiots think the best ice cream flavor is chocolate.\"\n",
    "3. \"I hate ice cream\"\n",
    "\n",
    "...the word \"the\" appears in two documents (1 and 2), and there are three documents total. So, the idf for the word \"the\" is 3/2 = 1.5. \n",
    "\n",
    "To try and get better topics, your next step is to define a function to calculate the idf (inverse-document frequency) of a word. This will later help you to decide whether some words are too common to consider \"topics\"! \n",
    "\n",
    "First, I asked ChatGPT to come up with a random set of 100 made-up Reddit titles to serve as a corpus of documents:"
   ]
  },
  {
   "cell_type": "code",
   "execution_count": null,
   "id": "342b0a18-8452-4b07-83b6-3cfffb4e839a",
   "metadata": {},
   "outputs": [],
   "source": [
    "corpus = [\n",
    "    \"What's the weirdest thing you've found in a parallel universe?\",\n",
    "    \"My cat learned to speak English and now won't stop giving me advice\",\n",
    "    \"Time traveler here, AMA about the future!\",\n",
    "    \"I accidentally summoned a demon while baking cookies, help!\",\n",
    "    \"Just discovered a hidden society of talking frogs in my backyard, what do I do?\",\n",
    "    \"Ask me anything, I'm a professional dragon tamer\",\n",
    "    \"Invented a device that lets me visit fictional worlds, it's not as great as it sounds\",\n",
    "    \"Help! My pet rock is missing, last seen orbiting Jupiter\",\n",
    "    \"Astronauts of Reddit, what's the scariest thing you've encountered in space?\",\n",
    "    \"I woke up with wings this morning, now what?\",\n",
    "    \"I built a robot that writes Shakespearean poetry, and it's now entered a poetry slam\",\n",
    "    \"Just got hired as a ghost therapist, any advice?\",\n",
    "    \"I accidentally turned my cat into a wizard, and now he won't stop casting spells\",\n",
    "    \"Visited a haunted library and now fictional characters are haunting my house, need advice\",\n",
    "    \"Found a map leading to the Fountain of Unlimited Coffee, who's in?\",\n",
    "    \"My refrigerator has become a portal to another dimension, what snacks should I bring?\",\n",
    "    \"I cloned myself, and now we're both avoiding doing chores\",\n",
    "    \"I can communicate with plants, and they're gossiping about us\",\n",
    "    \"I made a deal with a leprechaun for unlimited pizza, was it worth it?\",\n",
    "    \"Just became the mayor of a town populated by talking animals, any tips for governance?\",\n",
    "    \"Accidentally enrolled in a wizard school, how do I survive the first day?\",\n",
    "    \"I accidentally started a dance-off with aliens, and now they won't leave\",\n",
    "    \"Bought a cursed mirror on eBay, now my reflection has a mind of its own\",\n",
    "    \"My pet rock is evolving, should I be concerned?\",\n",
    "    \"I found a portal to the internet in my backyard, what subreddits should I visit?\",\n",
    "    \"I'm a time-traveling detective solving crimes in different centuries, AMA\",\n",
    "    \"My cat started a book club for other cats, and I'm the only human invited\",\n",
    "    \"Just adopted a ghost, any tips for a happy afterlife?\",\n",
    "    \"I turned my basement into a portal to the land of unicorns, now what?\",\n",
    "    \"I befriended a ghost, and now they're my roommate, any ghost etiquette tips?\",\n",
    "    \"I discovered a potion that turns everything into chocolate, chaos ensued\",\n",
    "    \"Aliens mistook me for their leader, and now I have to give a speech, help!\",\n",
    "    \"I accidentally opened a portal to the land of sentient pizza, now they want to conquer Earth\",\n",
    "    \"I can communicate with dolphins, and they have strong opinions about human fashion\",\n",
    "    \"My cat hacked my computer and started an online business, should I be proud?\",\n",
    "    \"I found a genie in a bottle, but all he grants are really specific wishes\",\n",
    "    \"I'm a time-traveling barber, AMA about the weirdest hairstyles in history\",\n",
    "    \"Accidentally enrolled in a wizard cooking class, now my soup is casting spells\",\n",
    "    \"I discovered a secret society of talking plants, and they have a plan for world domination\",\n",
    "    \"Just adopted a ghost dog, any tips on walking a transparent pet?\",\n",
    "    \"I became a superhero with the power of controlling spaghetti, it's messier than you think\",\n",
    "    \"I'm a professional dragon therapist, AMA about helping dragons with their emotional issues\",\n",
    "    \"My cat is attending Hogwarts, and I'm not sure how to feel about it\",\n",
    "    \"Found a map to the land of perpetual pizza, packing my bags now\",\n",
    "    \"I accidentally swapped bodies with my pet goldfish, AMA\",\n",
    "    \"Started a support group for people with haunted furniture, join us every Tuesday\",\n",
    "    \"Accidentally became the king of a medieval kingdom, now I have to learn jousting\",\n",
    "    \"I accidentally created a portal to a world without memes, how do I fix this?\",\n",
    "    \"Just received a letter from my future self, and it's full of spoilers\",\n",
    "    \"I befriended a ghost, and now they're my personal stylist, any fashion tips from the afterlife?\",\n",
    "    \"My cat joined a rock band, and they're about to release their first album\",\n",
    "    \"I'm a time-traveling chef, AMA about cooking in different eras\",\n",
    "    \"Accidentally became a wizard's apprentice, now my broom won't stop misbehaving\",\n",
    "    \"Found a genie who grants wishes but only in the form of interpretative dance\",\n",
    "    \"My pet robot learned to breakdance, and now he's challenging other robots to dance-offs\",\n",
    "    \"I discovered a secret society of time-traveling librarians, they have overdue books from every era\",\n",
    "    \"I can talk to inanimate objects, and they have strong opinions about interior design\",\n",
    "    \"Accidentally became a detective in a world where everyone communicates through interpretive dance\",\n",
    "    \"I adopted a ghost cat, and now my allergies are haunting me\",\n",
    "    \"My cat started a podcast for other cats, and it's surprisingly popular\",\n",
    "    \"I discovered a portal to a world where cats are the rulers and humans are the pets\",\n",
    "    \"Accidentally started a revolution in a parallel universe, any tips for diplomatic negotiations?\",\n",
    "    \"I found a treasure map, but the treasure is just a really good sandwich\",\n",
    "    \"My pet turtle learned to play the piano, and now he's composing symphonies\",\n",
    "    \"I became a wizard's personal chef, now I have to cook magical meals every day\",\n",
    "    \"I accidentally joined a secret society of time-traveling bakers, and now I'm stuck in the Renaissance with a loaf of bread\",\n",
    "    \"My cat learned to use a smartphone and won't stop taking selfies\",\n",
    "    \"I discovered a parallel universe where socks are the dominant species, and they have a complex society\",\n",
    "    \"Accidentally started a game of hide and seek with interdimensional beings, and now they're really good at it\",\n",
    "    \"My pet parrot learned to speak Klingon, and now he's giving me orders in an alien language\",\n",
    "    \"I found a portal to a world where puns are the currency, and now I'm a billionaire\",\n",
    "    \"Accidentally joined a secret society of time-traveling stand-up comedians, and now I'm performing in ancient Rome\",\n",
    "    \"My cat joined a circus, and he's the star of the tightrope-walking act\",\n",
    "    \"I discovered a parallel universe where everyone communicates through interpretive dance, and now I can't stop dancing\",\n",
    "    \"Accidentally became a superhero with the power of extreme puns, villains beware\",\n",
    "    \"My pet hamster learned to drive a tiny car, and now he's chauffeuring his rodent friends\",\n",
    "    \"I found a portal to a world where dogs are the rulers, and humans are the loyal companions\",\n",
    "    \"Accidentally became a wizard's apprentice, and now my homework is casting spells\",\n",
    "    \"My cat became a detective and solved the mystery of the missing catnip\",\n",
    "    \"I discovered a parallel universe where gravity works in reverse, and now I can't stay on the ground\",\n",
    "    \"Accidentally started a band with interdimensional beings, our first single is a hit in multiple universes\",\n",
    "    \"My pet snake learned to play the guitar, and now he's forming a reptilian rock band\",\n",
    "    \"I found a portal to a world where llamas are the dominant species, and they have a llama monarchy\",\n",
    "    \"Accidentally enrolled in a wizard's improv class, and now my jokes are casting spells\",\n",
    "    \"My cat started a fashion line for other cats, and it's taking the catwalk by storm\",\n",
    "    \"I discovered a parallel universe where humans communicate through meows, and now I'm fluent in cat\",\n",
    "    \"Accidentally became a superhero with the power of telekinetic marshmallow control, it's stickier than it sounds\",\n",
    "    \"My pet chameleon learned to mimic human speech, and now he's prank calling my neighbors\",\n",
    "    \"I found a portal to a world where squirrels are the rulers, and humans are the ones hoarding nuts\",\n",
    "    \"Accidentally joined a secret society of time-traveling synchronized swimmers, and now I'm performing in the Victorian era\",\n",
    "]"
   ]
  },
  {
   "cell_type": "markdown",
   "id": "e35da2b6-cf83-4bf1-a542-0cb46be0b1f3",
   "metadata": {},
   "source": [
    "Now, define a function that takes a string, and calculates the idf of that string, using that corpus:"
   ]
  },
  {
   "cell_type": "code",
   "execution_count": null,
   "id": "a6a9a9ec-91fa-42ac-adf2-0dc4e5e1ce37",
   "metadata": {},
   "outputs": [],
   "source": [
    "def idf(string):\n",
    "    #your code here"
   ]
  },
  {
   "cell_type": "markdown",
   "id": "8e054c7b-a91d-4b5e-8a95-17d00e194f66",
   "metadata": {},
   "source": [
    "Finally, modify your trending function, to only consider trending topics above a certain idf threshold (you can play around with this a bit to decide what would be a good cutoff point). Does this seem to help?"
   ]
  },
  {
   "cell_type": "code",
   "execution_count": null,
   "id": "1d2be18a-3813-44de-a425-88adb5e40f95",
   "metadata": {},
   "outputs": [],
   "source": []
  }
 ],
 "metadata": {
  "kernelspec": {
   "display_name": "Python 3 (ipykernel)",
   "language": "python",
   "name": "python3"
  },
  "language_info": {
   "codemirror_mode": {
    "name": "ipython",
    "version": 3
   },
   "file_extension": ".py",
   "mimetype": "text/x-python",
   "name": "python",
   "nbconvert_exporter": "python",
   "pygments_lexer": "ipython3",
   "version": "3.12.5"
  }
 },
 "nbformat": 4,
 "nbformat_minor": 5
}
