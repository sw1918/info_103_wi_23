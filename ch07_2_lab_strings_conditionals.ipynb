{
 "cells": [
  {
   "cell_type": "markdown",
   "id": "f945d49a-b2be-4da7-9a9e-b2d3f5e9cb1c",
   "metadata": {},
   "source": [
    "# Practice: Conditionals and String Manipulation"
   ]
  },
  {
   "cell_type": "markdown",
   "id": "de5607ce-e3b9-48b5-b87c-79313e3e6ef7",
   "metadata": {},
   "source": [
    "## IF ELSE Statements\n",
    "Look at the following code example and try running it"
   ]
  },
  {
   "cell_type": "code",
   "execution_count": null,
   "id": "c65f9959-3201-4afd-9bde-ba1ca5b6f998",
   "metadata": {},
   "outputs": [],
   "source": [
    "x = 5\n",
    "\n",
    "if x < 11:\n",
    "    print('A')\n",
    "elif x >= 13:\n",
    "    print('B')\n",
    "else:\n",
    "    print('C')"
   ]
  },
  {
   "cell_type": "markdown",
   "id": "2e84ce24-7809-45d4-a29e-0a059f2bfff4",
   "metadata": {},
   "source": [
    "Now what would happen if x was changed to 30? What would the output be?\n",
    "\n",
    "_Do Not Code. Please answer this question as a markdown block. Modify the code above to check your answer afterwords._"
   ]
  },
  {
   "cell_type": "markdown",
   "id": "7afb1733-6bcd-4027-80d5-5fe461a126bf",
   "metadata": {},
   "source": [
    "TODO: Put your answer here"
   ]
  },
  {
   "cell_type": "markdown",
   "id": "8b360afa-bfdb-4cfd-a32a-672a9e241941",
   "metadata": {},
   "source": [
    "What value would the `x` variable have to be in order to get the output 'C'?\n",
    "\n",
    "_Again, Do Not Code. Please answer this question as a markdown block Modify the code above to check your answer afterwords_"
   ]
  },
  {
   "cell_type": "markdown",
   "id": "de613b7f-275d-4148-8ee6-b7f104098254",
   "metadata": {},
   "source": [
    "TODO: Put your answer here"
   ]
  },
  {
   "cell_type": "markdown",
   "id": "04a7b9ae-b0ef-430e-a985-57e3add4cda8",
   "metadata": {},
   "source": [
    "## String Manipulation\n",
    "\n",
    "Now, make a variable with your name in it, called `my_name`"
   ]
  },
  {
   "cell_type": "code",
   "execution_count": null,
   "id": "74222eb9-7d4d-4d2c-b57e-60048242fd9c",
   "metadata": {},
   "outputs": [],
   "source": [
    "# TODO: enter your code here"
   ]
  },
  {
   "cell_type": "markdown",
   "id": "30a396b6-e8e1-4b5f-95d6-7168c1d8cbda",
   "metadata": {},
   "source": [
    "Write code to display the first letter of your name"
   ]
  },
  {
   "cell_type": "code",
   "execution_count": null,
   "id": "e82ca111-f2dd-4a95-a180-78599697c57c",
   "metadata": {},
   "outputs": [],
   "source": [
    "# TODO: enter your code here"
   ]
  },
  {
   "cell_type": "markdown",
   "id": "b4595704-e1c3-4060-8577-86a9e6b778d1",
   "metadata": {},
   "source": [
    "Write code to display the last letter of your name"
   ]
  },
  {
   "cell_type": "code",
   "execution_count": null,
   "id": "ff031ffe-2f7d-4c6d-9fea-361d694424a3",
   "metadata": {},
   "outputs": [],
   "source": [
    "# TODO: enter your code here"
   ]
  },
  {
   "cell_type": "markdown",
   "id": "f6e9341c-2b86-45ed-89d2-824d1ec5e01b",
   "metadata": {},
   "source": [
    "## Ifs with Strings\n",
    "Save a string in a variable called `message` and have it end with either a question mark `?`, an exclamation mark `!`, or a period `.`"
   ]
  },
  {
   "cell_type": "code",
   "execution_count": null,
   "id": "75da07f3-7602-4182-8377-e6c15eeb8155",
   "metadata": {},
   "outputs": [],
   "source": [
    "# TODO: enter your code here"
   ]
  },
  {
   "cell_type": "markdown",
   "id": "bdd45ae0-18f5-4bac-b3b3-cde67df7a191",
   "metadata": {},
   "source": [
    "Now, make a set of if/elif/else statements which will display either:\n",
    "- `The message was a question`\n",
    "- `The message was an exclamation`\n",
    "- `The message was a statement`\n",
    "- `The message ended unexpectedly`\n",
    "\n",
    "depending on what character the message ended in a `?`, `!`, `.`, or something else. Hint: use the `endswith` function."
   ]
  },
  {
   "cell_type": "code",
   "execution_count": null,
   "id": "e4099d26-72d7-410f-8bae-502538fa3a6b",
   "metadata": {},
   "outputs": [],
   "source": [
    "# TODO: enter your code here"
   ]
  },
  {
   "cell_type": "markdown",
   "id": "737d9db0-526b-47a9-9aa0-1512661e2441",
   "metadata": {},
   "source": [
    "Now, go back and modify the message string to see if the different if/elif/else options all work"
   ]
  }
 ],
 "metadata": {
  "kernelspec": {
   "display_name": "Python 3 (ipykernel)",
   "language": "python",
   "name": "python3"
  },
  "language_info": {
   "codemirror_mode": {
    "name": "ipython",
    "version": 3
   },
   "file_extension": ".py",
   "mimetype": "text/x-python",
   "name": "python",
   "nbconvert_exporter": "python",
   "pygments_lexer": "ipython3",
   "version": "3.9.7"
  }
 },
 "nbformat": 4,
 "nbformat_minor": 5
}
