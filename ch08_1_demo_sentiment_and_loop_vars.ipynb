{
 "cells": [
  {
   "cell_type": "markdown",
   "id": "0e560754-f971-4df9-b443-e7e4de6ccba4",
   "metadata": {},
   "source": [
    "# Demo: Sentiment Analysis and Loop Variables\n",
    "\n",
    "## Sentiment Analysis\n",
    "In order to test out data mining on Twitter, we are going to use a Natural Language Processing library, which gives us functions to work with langauge data such as sentences, words, etc.\n",
    "\n",
    "You don't need to know the details of how these work internally, but we will be using the \"[Natural Language Toolkit](https://www.nltk.org/)\" along with the \"Valence Aware Dictionary and sEntiment Reasoner\" (or VADER) lexicon.\n",
    "\n",
    "So let's get the library and lexicon now."
   ]
  },
  {
   "cell_type": "code",
   "execution_count": null,
   "id": "671f96d0-aa8b-4e8e-894e-cdfb9e62e292",
   "metadata": {},
   "outputs": [],
   "source": [
    "import nltk\n",
    "nltk.download([\"vader_lexicon\"])"
   ]
  },
  {
   "cell_type": "markdown",
   "id": "4df3445d-c595-45e6-8198-ced26782e529",
   "metadata": {},
   "source": [
    "We will now have the libary make a \"Sentiment Intensity Analyzer\" for us, which we save in a variable called `sia`"
   ]
  },
  {
   "cell_type": "code",
   "execution_count": null,
   "id": "e7ccd20a-738e-47cc-ac2a-b7905babc928",
   "metadata": {},
   "outputs": [],
   "source": [
    "from nltk.sentiment import SentimentIntensityAnalyzer\n",
    "sia = SentimentIntensityAnalyzer()"
   ]
  },
  {
   "cell_type": "markdown",
   "id": "12db4596-8a3b-4afc-b2f0-3b4efcf428fc",
   "metadata": {},
   "source": [
    "Now that we have the \"Sentiment Intensity Analyzer\" we can try it out on different sentences to have the computer guess how positive or negative they are. Let's start with a really positive sentance:"
   ]
  },
  {
   "cell_type": "code",
   "execution_count": null,
   "id": "15d2b2f4-d00f-4518-abc4-9fd2adcb969e",
   "metadata": {},
   "outputs": [],
   "source": [
    "sentence = \"I love love love pizza!!!!!!!!\"\n",
    "sia.polarity_scores(sentence)[\"compound\"]"
   ]
  },
  {
   "cell_type": "markdown",
   "id": "fb25974c-5796-47bc-af8f-df1440a98739",
   "metadata": {},
   "source": [
    "In the above code, we ran a `polarity_scores` function on the sentence and pulled out the `compound` result. In this case it came back as `0.941`, which is close to 1 and indicates a positive statement.\n",
    "\n",
    "Now let's try a really  negative one:"
   ]
  },
  {
   "cell_type": "code",
   "execution_count": null,
   "id": "ab17fa11-a410-4b3d-b6fc-545f0c26f043",
   "metadata": {},
   "outputs": [],
   "source": [
    "sentence = \"I hate hate hate pizza!!!!!!!!\"\n",
    "sia.polarity_scores(sentence)[\"compound\"]"
   ]
  },
  {
   "cell_type": "markdown",
   "id": "85c7e0ba-2046-45b6-9c93-5afab38fc193",
   "metadata": {},
   "source": [
    "You can see that this sentence came out as `-0.9227`, which is close to -1 and indiates a negative statement.\n",
    "\n",
    "Let's try once more with a more neutral sentence"
   ]
  },
  {
   "cell_type": "code",
   "execution_count": null,
   "id": "bfcb0e30-9f6a-4c9c-b1a2-2d9a89fb6f09",
   "metadata": {},
   "outputs": [],
   "source": [
    "sentence = \"I guess I'll eat pizza if you really want me to.\"\n",
    "sia.polarity_scores(sentence)[\"compound\"]"
   ]
  },
  {
   "cell_type": "markdown",
   "id": "930de609-698b-4ea2-8f78-69e48e27a5a4",
   "metadata": {},
   "source": [
    "The sentiment analyzer showed this sentence as `0.1513`, which is positve but close to 0, so indicates a slightly positive statement.\n",
    "\n",
    "The Sentiment Intensity Analyzer is far from perfect, but we can use it some to try and find trends in social media posts."
   ]
  },
  {
   "cell_type": "markdown",
   "id": "3aa83266-7b40-41aa-a837-237447ea3bdc",
   "metadata": {},
   "source": [
    "### looping with sentiments\n",
    "If we want to look at trends over a series of sentences (or social media posts), we can use for loops.\n",
    "\n",
    "So let's make an array of sentences and then do a loop to look at the sentiment of each sentence."
   ]
  },
  {
   "cell_type": "code",
   "execution_count": null,
   "id": "76005503-d37a-44fb-a25a-7a831616b14d",
   "metadata": {},
   "outputs": [],
   "source": [
    "# Make an array of movie reviews (each one a string)\n",
    "movie_reviews = [\n",
    "    \"That movie was pretty good.\",\n",
    "    \"I like the movie a lot!\",\n",
    "    \"I thought the movie was boring\",\n",
    "    \"I'd watch the movie again\",\n",
    "    \"That sure was an exciting movie!\"\n",
    "]"
   ]
  },
  {
   "cell_type": "code",
   "execution_count": null,
   "id": "6fab39a1-f4bc-40a0-9161-4755da3b4646",
   "metadata": {},
   "outputs": [],
   "source": [
    "# loop through each review\n",
    "for review in movie_reviews:\n",
    "    # find the sentiment (compound polarity score) of the review\n",
    "    review_sentiment = sia.polarity_scores(review)[\"compound\"]\n",
    "    \n",
    "    # print out the sentiment and the original review\n",
    "    print(\"Sentiment: \" + str(review_sentiment))\n",
    "    print(\"   Review: \" + review)\n",
    "    print() # print a blank line to space out each review sentiment printout"
   ]
  },
  {
   "cell_type": "markdown",
   "id": "dfcbab80-cf0f-481e-8420-f194426e2524",
   "metadata": {},
   "source": [
    "We can now see at a glance the sentiments for each of our movie review sentences (and we can consider how accurate we think the sentiment scores are).\n",
    "\n",
    "But what might be even more useful would be to do something like the average sentiment of all reviews, or what percentage were positive. \n",
    "\n",
    "In order to figure this out, we are going to make use of variables to track information while we are looping.\n",
    "\n",
    "## Loop Variables\n",
    "\n",
    "First let's consider how to count the number of movie reviews in our list.\n",
    "\n",
    "Python provides us an easy way of counting the how many movie reviews there were, by using the `len` function like this:"
   ]
  },
  {
   "cell_type": "code",
   "execution_count": null,
   "id": "9767bde9-2b05-4c08-b779-cf0e7daa9324",
   "metadata": {},
   "outputs": [],
   "source": [
    "len(movie_reviews)"
   ]
  },
  {
   "cell_type": "markdown",
   "id": "1c17287f-ec5c-4bf5-8498-2fd72d928143",
   "metadata": {},
   "source": [
    "But we can also use a variable to keep track of how many reviews we've seen so far as we go through our loop. \n",
    "\n",
    "_Note: while this strategy requires more code than just doing `len(movie_reviews)`, it will build us to doing more complicate tracking as we loop_\n",
    "\n",
    "### loop count\n",
    "\n",
    "We start by making a variable, which we will call `num_reviews` to track the number of reviews we've seen so far, and we'll set it to 0 since we haven't gone through any reviews yet.\n",
    "\n",
    "Then as part of our loop, each time we go through a review we will add 1 to our `num_reviews` variable"
   ]
  },
  {
   "cell_type": "code",
   "execution_count": null,
   "id": "fb4bbab0-1641-4516-8124-2466f3c1314a",
   "metadata": {},
   "outputs": [],
   "source": [
    "num_reviews = 0 # we haven't seen any reviews yet\n",
    "\n",
    "for review in movie_reviews:\n",
    "    # we're looking at a review, so add one to num_reviews\n",
    "    num_reviews = num_reviews + 1\n",
    "    print(\"we've now looked at \" + str(num_reviews) + \" reviews\")\n",
    "          \n",
    "print(\"After the for, we see there were \" + str(num_reviews) + \" total reviews\")"
   ]
  },
  {
   "cell_type": "markdown",
   "id": "c784fc77-9f6c-406a-a757-f7fb3cfb8867",
   "metadata": {},
   "source": [
    "We can rewrite the above code using a Python shorthand of `+=`, which means:\n",
    "- `num_reviews = num_reviews + 1`\n",
    "\n",
    "can be rewritten as\n",
    "- `num_reviews += 1`"
   ]
  },
  {
   "cell_type": "code",
   "execution_count": null,
   "id": "0de56524-1761-4689-ad1f-78bbcbb1c949",
   "metadata": {},
   "outputs": [],
   "source": [
    "num_reviews = 0 # we haven't seen any reviews yet\n",
    "\n",
    "for review in movie_reviews:\n",
    "    # we're looking at a review, so add one to num_reviews\n",
    "    num_reviews += 1\n",
    "    print(\"we've now looked at \" + str(num_reviews) + \" reviews\")\n",
    "          \n",
    "print(\"After the for, we see there were \" + str(num_reviews) + \" total reviews\")"
   ]
  },
  {
   "cell_type": "markdown",
   "id": "30b2a93f-ba9c-4172-bc2a-3b0e631a645e",
   "metadata": {},
   "source": [
    "### loop average\n",
    "Now let's loop through the list of reviews again, but this time try to find the average sentiment of all reviews.\n",
    "\n",
    "To find the average of all the sentiments, we need to add all the sentiments together and then divide by the number of reviews. \n",
    "\n",
    "So what we will do is make another variable at the start of our loop called `total_sentiment` and each time we loop through a new review, we will add that review's sentiment to the `total_sentiment`. Then at the end, the average will be the `total_sentiment` divided by the `num_reviews`."
   ]
  },
  {
   "cell_type": "code",
   "execution_count": null,
   "id": "fea202af-f0c2-459f-8f64-2fde7e904ead",
   "metadata": {},
   "outputs": [],
   "source": [
    "num_reviews = 0 # we haven't seen any reviews yet\n",
    "total_sentiment = 0 # we haven't seen any review sentiment yet\n",
    "\n",
    "for review in movie_reviews:\n",
    "    # we're looking at a review, so add one to num_reviews\n",
    "    num_reviews += 1\n",
    "    \n",
    "    # find the sentiment (compound polarity score) of the review\n",
    "    review_sentiment = sia.polarity_scores(review)[\"compound\"]\n",
    "    \n",
    "    #add the current review sentiment to the total sentiment\n",
    "    total_sentiment += review_sentiment\n",
    "\n",
    "# now that the loop is done, the average_sentiment is \n",
    "#     the total_sentiment divided by the num_reviews\n",
    "average_sentiment = total_sentiment / num_reviews\n",
    "\n",
    "print(\"The average sentiment of the reviews was: \" + str(average_sentiment))"
   ]
  },
  {
   "cell_type": "markdown",
   "id": "0a712d69-009c-43a7-a99a-e1b23e13937a",
   "metadata": {},
   "source": [
    "So that let us find the average sentiment of our reviews, which were generally positive.\n",
    "\n",
    "We could also find out what percentage of reviews were positive by finding the number of reviews that had a sentiment bigger than 0, and then dividing by the total number of reviews and multiplying the answer by 100.\n",
    "\n",
    "In this case we make a variable before the loop called `num_positive_reviews`, and add 1 to it whenever we find a review that is positive (using an `if` statement), like this:"
   ]
  },
  {
   "cell_type": "code",
   "execution_count": null,
   "id": "4fa04c06-49a8-4773-8573-44e9eb6cbdd2",
   "metadata": {},
   "outputs": [],
   "source": [
    "num_reviews = 0 # we haven't seen any reviews yet\n",
    "num_positive_reviews = 0 # we haven't seen any positive reviews yet\n",
    "\n",
    "for review in movie_reviews:\n",
    "    # we're looking at a review, so add one to num_reviews\n",
    "    num_reviews += 1\n",
    "    \n",
    "    # find the sentiment (compound polarity score) of the review\n",
    "    review_sentiment = sia.polarity_scores(review)[\"compound\"]\n",
    "    \n",
    "    # if the sentiment was positive (bigger than 0), add one to the num_positive_reviews\n",
    "    if review_sentiment > 0:\n",
    "        num_positive_reviews += 1\n",
    "\n",
    "# now that the loop is done, the percentage of positive reviews is \n",
    "#     the num_positive_reviews divided by the num_reviews, and then multiplied by 100\n",
    "precent_positive = num_positive_reviews / num_reviews * 100\n",
    "\n",
    "print(\"The percentage of positive reviews was: \" + str(precent_positive))"
   ]
  }
 ],
 "metadata": {
  "kernelspec": {
   "display_name": "Python 3 (ipykernel)",
   "language": "python",
   "name": "python3"
  },
  "language_info": {
   "codemirror_mode": {
    "name": "ipython",
    "version": 3
   },
   "file_extension": ".py",
   "mimetype": "text/x-python",
   "name": "python",
   "nbconvert_exporter": "python",
   "pygments_lexer": "ipython3",
   "version": "3.9.7"
  }
 },
 "nbformat": 4,
 "nbformat_minor": 5
}
