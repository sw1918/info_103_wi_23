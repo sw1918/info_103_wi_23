{
    "cells": [
     {
      "cell_type": "markdown",
      "id": "574eeeee-eb48-4af0-9815-6b10faa827a9",
      "metadata": {},
      "source": [
       "# Demo: Dictionary Counters\n",
       "We've already seen in Chapter 8 how to make loop variables in order to keep track of something we are looping over. We are now going to learn a way of using dictionaries to do that which will help us solve more problems.\n",
       "\n",
       "But first, let's remember how we did loop variables\n",
       "\n",
       "## Loop Variables (review)\n",
       "\n",
       "To use loop variables, we create a variable before our loop, and give it an initial value (often 0). Then within the loop over each item in our list, we can optionally add something to our loop variable. After the loop, our variable will have our final result.\n",
       "\n",
       "For example, here is code to count the number of \"i\"s in \"Mississippi\":"
      ]
     },
     {
      "cell_type": "code",
      "execution_count": 1,
      "id": "50d7fb67-a970-4e7a-a722-6062201ee44c",
      "metadata": {},
      "outputs": [
       {
        "data": {
         "text/plain": [
          "\"total number of i's was: 4\""
         ]
        },
        "metadata": {},
        "output_type": "display_data"
       }
      ],
      "source": [
       "# create a loop variable to track the total number of i's\n",
       "# start it with 0, since we've seen 0 i's so far\n",
       "num_i = 0\n",
       "\n",
       "# go through each letter in the word\n",
       "for letter in \"Mississippi\":\n",
       "    # if the letter was an i, then add one to our loop variable\n",
       "    if letter == \"i\":\n",
       "        num_i += 1\n",
       "\n",
       "# we now have the total number of i's\n",
       "display(\"total number of i's was: \" + str(num_i))"
      ]
     },
     {
      "cell_type": "markdown",
      "id": "e23a96ac-1e27-4827-a28e-7e7d9f8de59b",
      "metadata": {},
      "source": [
       "In the code above we made a variable to count the number of \"i\"s. But what if we wanted to count the other letters? Then we'd need one variable for each letter. For the code above we could do this:"
      ]
     },
     {
      "cell_type": "code",
      "execution_count": 2,
      "id": "afd039cf-c685-45db-bdcc-e1434e0488c6",
      "metadata": {},
      "outputs": [
       {
        "data": {
         "text/plain": [
          "\"total number of M's was: 1\""
         ]
        },
        "metadata": {},
        "output_type": "display_data"
       },
       {
        "data": {
         "text/plain": [
          "\"total number of i's was: 4\""
         ]
        },
        "metadata": {},
        "output_type": "display_data"
       },
       {
        "data": {
         "text/plain": [
          "\"total number of s's was: 4\""
         ]
        },
        "metadata": {},
        "output_type": "display_data"
       },
       {
        "data": {
         "text/plain": [
          "\"total number of p's was: 2\""
         ]
        },
        "metadata": {},
        "output_type": "display_data"
       }
      ],
      "source": [
       "# create a loop variable to track the total number of each possible letter\n",
       "# start it with 0, since we've seen 0 letters so far\n",
       "num_M = 0\n",
       "num_i = 0\n",
       "num_s = 0\n",
       "num_p = 0\n",
       "\n",
       "# go through each letter in the word\n",
       "for letter in \"Mississippi\":\n",
       "    # check each letter, then add one to the correct loop variable\n",
       "    if letter == \"M\":\n",
       "        num_M += 1\n",
       "    elif letter == \"i\":\n",
       "        num_i += 1\n",
       "    elif letter == \"s\":\n",
       "        num_s += 1\n",
       "    elif letter == \"p\":\n",
       "        num_p += 1\n",
       "\n",
       "# we now have the total number of i's\n",
       "display(\"total number of M's was: \" + str(num_M))\n",
       "display(\"total number of i's was: \" + str(num_i))\n",
       "display(\"total number of s's was: \" + str(num_s))\n",
       "display(\"total number of p's was: \" + str(num_p))"
      ]
     },
     {
      "cell_type": "markdown",
      "id": "7caac110-974d-408c-9c22-2f2cc19692ab",
      "metadata": {},
      "source": [
       "Now what if we didn't know what letters were possibly in the word we wanted to check? We'd need to make 26 variables, or if we had capital and lowercase letters separate, then we'd need 52 variables. But what about numbers? Punctuation? Other symbols?\n",
       "\n",
       "Making separate loop variables is going to become a real pain. But there is another strategy we can use:"
      ]
     },
     {
      "cell_type": "markdown",
      "id": "babcb465-cf1d-46f7-983e-90dff9a8d133",
      "metadata": {},
      "source": [
       "## Dictionary Counters\n",
       "We can make use of dictionaries, which are good for looking up values, to store information about each letter we come across.\n",
       "\n",
       "So instead of having the variables: `num_M`, `num_i`, `num_s`, and `num_p`, we could have a dictionary called `letter_counts` that we want in the end to look like this:\n",
       "```\n",
       "{\n",
       "    \"M\": 1,\n",
       "    \"i\": 4,\n",
       "    \"s\": 4,\n",
       "    \"p\": 2\n",
       "}\n",
       "```\n",
       "\n",
       "The way we can build up this dictionary in code is that we can create our `letter_counts` dictionary before the loop, and initialize it empty (`{}`), with no letters or count values.\n",
       "\n",
       "Then, in our loop, when we see a letter, we can look it up in our dictionary. If we don't find it in our dictionary, we add that letter and set it's count to 1 (since we just saw one). If we did find a count already in our dictionary, then we add one to the count.\n",
       "\n",
       "At the end, we will have entries in our dictionary for all the letters we found, showing their count. All the letters that don't have entries in are dictionary are ones we didn't find (implying their count is 0).\n",
       "\n",
       "Here is the code re-written with a dictionary counter:"
      ]
     },
     {
      "cell_type": "code",
      "execution_count": 3,
      "id": "6499782c-3d11-4c26-a89a-59d33897653c",
      "metadata": {},
      "outputs": [
       {
        "data": {
         "text/plain": [
          "'total letter counts are: '"
         ]
        },
        "metadata": {},
        "output_type": "display_data"
       },
       {
        "data": {
         "text/plain": [
          "{'M': 1, 'i': 4, 's': 4, 'p': 2}"
         ]
        },
        "metadata": {},
        "output_type": "display_data"
       }
      ],
      "source": [
       "# create a dictionary counter before the loop\n",
       "# it has no entries, since we have seen no letters yet\n",
       "letter_counts = {}\n",
       "\n",
       "# go through each letter in the word\n",
       "for letter in \"Mississippi\":\n",
       "    if letter not in letter_counts: # If there is no entry for this letter yet \n",
       "        letter_counts[letter] = 1   # then make an entry set to 1\n",
       "    else: # otherwise, there was an entry\n",
       "        letter_counts[letter] += 1  # so add one to that entry\n",
       "\n",
       "# we now have the total number of letters\n",
       "display(\"total letter counts are: \")\n",
       "display(letter_counts)"
      ]
     },
     {
      "cell_type": "markdown",
      "id": "d8246c27-a22e-4ef8-9101-672d14fe99dd",
      "metadata": {},
      "source": [
       "Now we don't have to figure out what letters we are expecting, and we will just add as many entries to our dictionary as letters we come accross. We we can change our string we are looking through and our code still works:"
      ]
     },
     {
      "cell_type": "code",
      "execution_count": 4,
      "id": "f8d0e44c-5ab1-4961-8fe7-642b101ba266",
      "metadata": {},
      "outputs": [
       {
        "data": {
         "text/plain": [
          "'total letter counts are:'"
         ]
        },
        "metadata": {},
        "output_type": "display_data"
       },
       {
        "data": {
         "text/plain": [
          "{'u': 1,\n",
          " 'n': 1,\n",
          " 'e': 5,\n",
          " 'x': 1,\n",
          " 'p': 1,\n",
          " 'c': 1,\n",
          " 't': 3,\n",
          " 'd': 1,\n",
          " ' ': 2,\n",
          " 'l': 1,\n",
          " 'r': 1,\n",
          " 's': 1,\n",
          " ':': 1,\n",
          " '&': 2,\n",
          " '$': 2,\n",
          " '*': 1}"
         ]
        },
        "metadata": {},
        "output_type": "display_data"
       }
      ],
      "source": [
       "# create a dictionary counter before the loop\n",
       "# it has no entries, since we have seen no letters yet\n",
       "letter_counts = {}\n",
       "\n",
       "# go through each letter in the string\n",
       "for letter in \"unexpected letters: &$$*&\":\n",
       "    if letter not in letter_counts: # If there is no entry for this letter yet \n",
       "        letter_counts[letter] = 1   # then make an entry set to 1\n",
       "    else: # otherwise, there was an entry\n",
       "        letter_counts[letter] += 1  # so add one to that entry\n",
       "\n",
       "# we now have the total number of letters\n",
       "display(\"total letter counts are:\")\n",
       "display(letter_counts)"
      ]
     },
     {
      "cell_type": "markdown",
      "id": "839d2b31-5bba-4fdc-b1f5-1b92da8b1492",
      "metadata": {},
      "source": [
       "One final trick we'll do with our count dictionary, is order it by the most common letters (with the most common ones first).\n",
       "\n",
       "This code has a few different Python features, so don't worry about it too much, but we'll explain it a little below"
      ]
     },
     {
      "cell_type": "code",
      "execution_count": 5,
      "id": "f466d95c-8205-4f5c-b035-154b9352040f",
      "metadata": {},
      "outputs": [
       {
        "data": {
         "text/plain": [
          "'total letter counts (sorted) are:'"
         ]
        },
        "metadata": {},
        "output_type": "display_data"
       },
       {
        "data": {
         "text/plain": [
          "[('e', 5),\n",
          " ('t', 3),\n",
          " (' ', 2),\n",
          " ('&', 2),\n",
          " ('$', 2),\n",
          " ('u', 1),\n",
          " ('n', 1),\n",
          " ('x', 1),\n",
          " ('p', 1),\n",
          " ('c', 1),\n",
          " ('d', 1),\n",
          " ('l', 1),\n",
          " ('r', 1),\n",
          " ('s', 1),\n",
          " (':', 1),\n",
          " ('*', 1)]"
         ]
        },
        "metadata": {},
        "output_type": "display_data"
       }
      ],
      "source": [
       "# Sort the letter counts (and save in a new variable: sorted_letter_counts)\n",
       "sorted_letter_counts = sorted(letter_counts.items(), key=lambda x: -x[1])\n",
       "\n",
       "display(\"total letter counts (sorted) are:\")\n",
       "display(sorted_letter_counts)"
      ]
     },
     {
      "cell_type": "markdown",
      "id": "2e73deaa-e3af-4556-a828-b69af5832031",
      "metadata": {},
      "source": [
       "The code above had a few new features. Again don't worry about understanding it too much, but the pieces of this code are:\n",
       "- `sorted()` - a function that takes a list, and a function that gets the value to use for sorting\n",
       "- `letter_counts.items()` - this takes a dictionary and gets all the key-value pairs (together in a list-like datatype called a \"tuple\"). So it has, for example ('e', 5) to mean the dictionary said the count for e was 5.\n",
       "- `key=lambda x: -x[1]` - this part is for getting the key (that is, the thing to be sorted)\n",
       "  - it takes a function (in this case a function that we don't give a name, which we call a `lambda` function)\n",
       "  - the function for each of the key-value pairs (saved into a variable called `x`), gets the value out (the second thing in the key-value pair, so `x[1]`) and makes it negative (`-x[1]`) so it puts the highest count first"
      ]
     }
    ],
    "metadata": {
     "kernelspec": {
      "display_name": "Python 3 (ipykernel)",
      "language": "python",
      "name": "python3"
     },
     "language_info": {
      "codemirror_mode": {
       "name": "ipython",
       "version": 3
      },
      "file_extension": ".py",
      "mimetype": "text/x-python",
      "name": "python",
      "nbconvert_exporter": "python",
      "pygments_lexer": "ipython3",
      "version": "3.9.7"
     }
    },
    "nbformat": 4,
    "nbformat_minor": 5
   }