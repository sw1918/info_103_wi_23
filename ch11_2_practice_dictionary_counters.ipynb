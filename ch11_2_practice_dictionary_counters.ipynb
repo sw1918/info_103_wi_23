{
    "cells": [
     {
      "cell_type": "markdown",
      "id": "574eeeee-eb48-4af0-9815-6b10faa827a9",
      "metadata": {},
      "source": [
       "# Practice: Dictionary Counters\n",
       "\n",
       "Now it's your turn to practice dictionary counters\n",
       "\n",
       "1. Copy the code from the demo that counts letters in a string. Modify the string to be something else and find the letter_counts (no need to sort)"
      ]
     },
     {
      "cell_type": "code",
      "execution_count": null,
      "id": "50d7fb67-a970-4e7a-a722-6062201ee44c",
      "metadata": {},
      "outputs": [],
      "source": [
       "# TODO: enter your code here"
      ]
     },
     {
      "cell_type": "markdown",
      "id": "58884768-d9f1-4e25-8cc7-f77eb5776846",
      "metadata": {},
      "source": [
       "Now let's try this with words.\n",
       "\n",
       "The code below makes a string, and then splits it into words by dividing it apart at each space."
      ]
     },
     {
      "cell_type": "code",
      "execution_count": null,
      "id": "3cd1d341-38d4-4634-9bef-4b8b93eacf7d",
      "metadata": {},
      "outputs": [],
      "source": [
       "# Save a poem into a string (we can use \"\"\" to make a multiline string)\n",
       "# Fire and Ice BY ROBERT FROST (now public domain)\n",
       "poem = \"\"\"Some say the world will end in fire,\n",
       "Some say in ice.\n",
       "From what I’ve tasted of desire\n",
       "I hold with those who favor fire.\n",
       "But if it had to perish twice,\n",
       "I think I know enough of hate\n",
       "To say that for destruction ice\n",
       "Is also great\n",
       "And would suffice.\"\"\"\n",
       "\n",
       "# split the string (all lowercase) into words\n",
       "import re # import the Regular Expressions library, to help us split words\n",
       "\n",
       "#make the poem all lowercase\n",
       "lower_case_poem = poem.lower()\n",
       "\n",
       "# split the poem into pieces at all spaces and newlines (\\s), and ,'s and .'s\n",
       "poem_split_by_spaces_and_punctuation = re.split((\"[\\s,.]\"), lower_case_poem)\n",
       "\n",
       "# get rid of some empty strings \"\" that ended up in our list\n",
       "split_poem = list(filter(None, poem_split_by_spaces_and_punctuation))\n",
       "\n",
       "print(split_poem)"
      ]
     },
     {
      "cell_type": "markdown",
      "id": "70069d7b-2cc5-4e74-af2c-898a541ca238",
      "metadata": {},
      "source": [
       "2. Make code that counts how often each word appears in the poem (it should be very similar to the code from problem 1 above"
      ]
     },
     {
      "cell_type": "code",
      "execution_count": null,
      "id": "3844fbd2-3a58-4ca3-862f-aea5e6f7b885",
      "metadata": {},
      "outputs": [],
      "source": [
       "# TODO: enter your code here"
      ]
     }
    ],
    "metadata": {
     "kernelspec": {
      "display_name": "Python 3 (ipykernel)",
      "language": "python",
      "name": "python3"
     },
     "language_info": {
      "codemirror_mode": {
       "name": "ipython",
       "version": 3
      },
      "file_extension": ".py",
      "mimetype": "text/x-python",
      "name": "python",
      "nbconvert_exporter": "python",
      "pygments_lexer": "ipython3",
      "version": "3.9.7"
     }
    },
    "nbformat": 4,
    "nbformat_minor": 5
   }