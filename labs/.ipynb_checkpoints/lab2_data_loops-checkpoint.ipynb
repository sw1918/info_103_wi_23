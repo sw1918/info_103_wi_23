{
 "cells": [
  {
   "cell_type": "markdown",
   "id": "84fb2ae3-2d70-4f95-a667-ad3bf03fdddf",
   "metadata": {},
   "source": [
    "# Lab 2: Python Basic Data, Lists Loops"
   ]
  },
  {
   "cell_type": "markdown",
   "id": "628e6cd8-4c3d-44f3-8593-63d2abf93d58",
   "metadata": {},
   "source": [
    "## Greeting\n",
    "In Python, there are several different \"data types,\" which are different categories of variables you can do different things with. For example, there are: \n",
    "\n",
    "int (Simple integers like 1, 2, 5216...)\n",
    "str (Strings of text, like \"Hi\", \"My name is Spencer\", \"?!?!?!?!?!?!?\"...)\n",
    "bool (Booleans, which are variables that can only take the value True or False)\n",
    "float (Numbers with decimal points, like 1.1, 2.56, 0.000002...)\n",
    "\n",
    "...and several others that we'll talk about later!\n",
    "\n",
    "First, Make a new variable called `greeting_part_1` and assign it the string: `\"Welcome, \"`\n",
    "\n",
    "Note: There is an extra space after the word"
   ]
  },
  {
   "cell_type": "code",
   "execution_count": 12,
   "id": "a96fb237-4afe-4069-b40a-d7587e091095",
   "metadata": {},
   "outputs": [],
   "source": [
    "# TODO: enter your code here"
   ]
  },
  {
   "cell_type": "markdown",
   "id": "ca6dd79e-914b-455a-ba6d-7e366ffd6499",
   "metadata": {
    "jupyter": {
     "source_hidden": true
    }
   },
   "source": [
    "Make a new variable called `greeting_part_2` and assign it the string: `\"! It is nice to meet you!\"`\n",
    "\n",
    "Note: this string starts with an exlamation mark."
   ]
  },
  {
   "cell_type": "code",
   "execution_count": 13,
   "id": "624ddfba-3921-4414-be08-9f1d582060c1",
   "metadata": {},
   "outputs": [],
   "source": [
    "# TODO: enter your code here"
   ]
  },
  {
   "cell_type": "markdown",
   "id": "3b5fd24d-0852-4470-848d-ce77b63e5c4d",
   "metadata": {},
   "source": [
    "Make a variable called name_1 and assign it with a string of someone's name."
   ]
  },
  {
   "cell_type": "code",
   "execution_count": 14,
   "id": "e90cd23a-39d0-4d10-a443-d4abd98d9a89",
   "metadata": {},
   "outputs": [],
   "source": [
    "# TODO: enter your code here"
   ]
  },
  {
   "cell_type": "markdown",
   "id": "610ac225-1874-471d-95b0-476a4e17c18b",
   "metadata": {},
   "source": [
    "Now, combine them all together into a new variable called `full_greeting`. Combine the parts together by taking `greeting_part_1` then adding `name` then adding `greeting_part_2`.\n",
    "\n",
    "Then display the variable `full_greeting`."
   ]
  },
  {
   "cell_type": "code",
   "execution_count": 17,
   "id": "9cab338f-7bfa-4d49-b990-2a03ef166d24",
   "metadata": {},
   "outputs": [
    {
     "data": {
      "text/plain": [
       "'Welcome, Kyle! It is nice to meet you!'"
      ]
     },
     "metadata": {},
     "output_type": "display_data"
    }
   ],
   "source": [
    "# TODO: enter your code here"
   ]
  },
  {
   "cell_type": "markdown",
   "id": "333e8f8e-f643-45c2-8255-8968bccdfb18",
   "metadata": {},
   "source": [
    "Now make a variable called `name_2` with another name in it and make a variable `called_full_greeting_2` the same way you did `full_greeting`, but with `name_2` instead.\n",
    "\n",
    "Then display the variable `full_greeting_2`"
   ]
  },
  {
   "cell_type": "code",
   "execution_count": 16,
   "id": "98c12dd1-57ea-46a7-b1ce-842442c4d66e",
   "metadata": {},
   "outputs": [
    {
     "data": {
      "text/plain": [
       "'Welcome, Susan! It is nice to meet you!'"
      ]
     },
     "metadata": {},
     "output_type": "display_data"
    }
   ],
   "source": [
    "# TODO: enter your code here"
   ]
  },
  {
   "cell_type": "markdown",
   "id": "919230dc-48f3-4229-b818-4ba2eeca31ec",
   "metadata": {},
   "source": [
    "## Engagement report"
   ]
  },
  {
   "cell_type": "markdown",
   "id": "e05f7cac-8465-4cca-a00f-7970ee186313",
   "metadata": {},
   "source": [
    "Make up numbers for tweet metrics and save them into variables: `number_likes`, `number_retweets`, `number_quote_tweets`"
   ]
  },
  {
   "cell_type": "code",
   "execution_count": 19,
   "id": "e9b8a8bd-254e-4643-9a3e-8d4cbcc45f8e",
   "metadata": {},
   "outputs": [],
   "source": [
    "# TODO: enter your code here"
   ]
  },
  {
   "cell_type": "markdown",
   "id": "5fc4ae83-96e8-40b6-81ab-4598f3960f09",
   "metadata": {},
   "source": [
    "Write three different `display()` function calls, one to report on each of those variables.\n",
    "\n",
    "Inside the parentheses first put a string like, `\"The number of likes is: \"` and then add the relevant variable to it, but remember, since the variable has a number in it, you have to put a `str()` function call around that variable name"
   ]
  },
  {
   "cell_type": "code",
   "execution_count": 21,
   "id": "f594bd73-d258-4852-adfb-c02ba43068cb",
   "metadata": {},
   "outputs": [
    {
     "data": {
      "text/plain": [
       "'The number of likes is: 8'"
      ]
     },
     "metadata": {},
     "output_type": "display_data"
    },
    {
     "data": {
      "text/plain": [
       "'The number of retweets is: 3'"
      ]
     },
     "metadata": {},
     "output_type": "display_data"
    },
    {
     "data": {
      "text/plain": [
       "'The number of quote tweets is: 7'"
      ]
     },
     "metadata": {},
     "output_type": "display_data"
    }
   ],
   "source": [
    "# TODO: enter your code here"
   ]
  },
  {
   "cell_type": "markdown",
   "id": "a0dc71da-c567-4a8d-b709-cacdb848694a",
   "metadata": {},
   "source": [
    "Make a new variable called `total_engagement` and save the total number of all the likes, retweets and quote tweets. \n",
    "\n",
    "Then display that information the way you did the other variables."
   ]
  },
  {
   "cell_type": "code",
   "execution_count": 23,
   "id": "7b6cef74-7bfc-4024-b3ed-3b64ad938ffe",
   "metadata": {},
   "outputs": [
    {
     "data": {
      "text/plain": [
       "'The total engagement is: 18'"
      ]
     },
     "metadata": {},
     "output_type": "display_data"
    }
   ],
   "source": [
    "# TODO: enter your code here"
   ]
  },
  {
   "cell_type": "markdown",
   "id": "681e3cd9-87f0-4411-b0d3-523d865f46a5",
   "metadata": {},
   "source": [
    "## Is your tweet too long"
   ]
  },
  {
   "cell_type": "markdown",
   "id": "b3046575-e4de-4862-bf3f-b425472e2664",
   "metadata": {},
   "source": [
    "Make a variable called `tweet_1` with a string of your choosing that is fairly short"
   ]
  },
  {
   "cell_type": "code",
   "execution_count": 34,
   "id": "70828c7c-a485-4362-b1e3-15a11cbd9531",
   "metadata": {},
   "outputs": [],
   "source": [
    "# TODO: enter your code here"
   ]
  },
  {
   "cell_type": "markdown",
   "id": "9166c55b-3334-4189-a0c6-ec8ee08083fe",
   "metadata": {},
   "source": [
    "Make a variable called `tweet_1_length`, and save the length of the string `tweet_1` into it (using the `len()` function)"
   ]
  },
  {
   "cell_type": "code",
   "execution_count": 35,
   "id": "88aac72c-37f4-4655-abb4-e4bdb49ec5ac",
   "metadata": {},
   "outputs": [],
   "source": [
    "# TODO: enter your code here"
   ]
  },
  {
   "cell_type": "markdown",
   "id": "4dcd4bf1-3f99-432e-9569-f3cb17439fa9",
   "metadata": {},
   "source": [
    "Check if the `tweet_1_length` is less than or equal to 280 characters (the max length of a tweet) using the less than or equal operator: `<=`, and save the result into a variable called `is_tweet_1_short_enough` (note that this is a boolean)"
   ]
  },
  {
   "cell_type": "code",
   "execution_count": 36,
   "id": "32b757c4-6fc5-4890-be89-8a43e8c56a03",
   "metadata": {},
   "outputs": [],
   "source": [
    "# TODO: enter your code here"
   ]
  },
  {
   "cell_type": "markdown",
   "id": "aac94395-9738-45ed-82b6-c91720c38c81",
   "metadata": {},
   "source": [
    "Use the `display()` function to display a string (`\"Is tweet 1 short enough? \"`), adding the variable `is_tweet_1_short_enough` to that string.\n",
    "\n",
    "Remember, since the variable has a boolean and not a string in it, you have to put a str() function call around that variable name"
   ]
  },
  {
   "cell_type": "code",
   "execution_count": 37,
   "id": "667055b5-aa79-4afa-9d67-f8442c51cb7f",
   "metadata": {},
   "outputs": [
    {
     "data": {
      "text/plain": [
       "'Is tweet 1 short enough? True'"
      ]
     },
     "metadata": {},
     "output_type": "display_data"
    }
   ],
   "source": [
    "# TODO: enter your code here"
   ]
  },
  {
   "cell_type": "markdown",
   "id": "ce946e38-f2bd-4060-a0d9-5da4ebe74519",
   "metadata": {},
   "source": [
    "Make a variable called `tweet_2` with a string of your choosing that is very long (over 280 characters)"
   ]
  },
  {
   "cell_type": "code",
   "execution_count": 38,
   "id": "3f87c4ec-8455-4889-a98a-24d969e2f760",
   "metadata": {},
   "outputs": [],
   "source": [
    "# TODO: enter your code here"
   ]
  },
  {
   "cell_type": "markdown",
   "id": "c502eb06-7d3a-4ebe-b624-ee721dbbb7b8",
   "metadata": {},
   "source": [
    "Repeat the rest of the steps from before, but with tweet_2\n",
    "- find tweet_2_length\n",
    "- make a variable is_tweet_2_short_enough\n",
    "- display the result"
   ]
  },
  {
   "cell_type": "code",
   "execution_count": 40,
   "id": "473537c7-fbc6-4226-94cd-435122dc428d",
   "metadata": {},
   "outputs": [
    {
     "data": {
      "text/plain": [
       "'Is tweet 2 short enough? False'"
      ]
     },
     "metadata": {},
     "output_type": "display_data"
    }
   ],
   "source": [
    "# TODO: enter your code here"
   ]
  },
  {
   "cell_type": "markdown",
   "id": "9dccaffb-e47d-4e7a-8893-98a2b5690a53",
   "metadata": {},
   "source": [
    "## Lists\n",
    "\n",
    "In python, sometimes we want to store several variables inside another variable. This is called a list. For example, we can have a list of pets:\n",
    "\n",
    "mylist = [\"dog\", \"cat\", \"fish\"]\n",
    "\n",
    "If we want to take something out of our list, we can use its index. In Python, items in a list start at index 0, then 1, and so on. So if we want to get the first item in a list, we could call:\n",
    "\n",
    "mylist[0]\n",
    "\n",
    "Which give us:\n",
    "\n",
    "\"dog\"\n",
    "\n",
    "If we wanted to change the second item in a list, we could do mylist[1] = \"zebra\"\n",
    "\n",
    "Which would turn our list into: \n",
    "\n",
    "[\"dog\", \"zebra\", \"fish\"]\n",
    "\n",
    "We can also add things to lists using the \"append\" function. For example, if we run mylist.append(\"hamster\"), we would now have:\n",
    "\n",
    "[\"dog\", \"zebra\", \"fish\", \"hamster\"]"
   ]
  },
  {
   "cell_type": "markdown",
   "id": "278b1a56-fd68-40b3-8924-1678447cca24",
   "metadata": {},
   "source": [
    "Now, make a list of names (at least three), and save it in a variable called `names`"
   ]
  },
  {
   "cell_type": "code",
   "execution_count": null,
   "id": "059b8411-0b85-4607-b7da-cae4bea42e04",
   "metadata": {},
   "outputs": [],
   "source": [
    "#TODO enter your code here"
   ]
  },
  {
   "cell_type": "markdown",
   "id": "f7fb6b80-7bac-4130-b732-31aedd0e1e34",
   "metadata": {},
   "source": [
    "Next, use the print() function to print the third name in your list (remember, list index starts at 0...)"
   ]
  },
  {
   "cell_type": "code",
   "execution_count": null,
   "id": "a8455629-88b1-4bca-8e54-b7898bfd790f",
   "metadata": {},
   "outputs": [],
   "source": [
    "#TODO enter your code here"
   ]
  },
  {
   "cell_type": "markdown",
   "id": "03205987-a9b7-40b8-b4f1-dbe937972431",
   "metadata": {},
   "source": [
    "## Loops\n",
    "\n",
    "In python, we can use loops as a way of running the same chunk of code over and over again, usually on a different variable or in some different context. \n",
    "\n",
    "There are two types of loops in python: \"For loops\", and \"while loops.\" In this lab, we'll focus on \"for loops\", which allow us to run a block of code on every variable in a list. For example, if we have a list of posts called \"post_list\", we could run the following code:\n",
    "\n",
    "for post in post_list:\n",
    "    display(post)\n",
    "\n",
    "...the program will go through every element in our list of posts, and display. To break this down, the keyword \"for\" means you're starting a for loop, \"post\" is the name we're giving to the elements in the list we're iterating through, \"in\" is a required keyword before we specify our list, and \"post_list\" is the list of posts. We add a \":\" to the end to show we're starting a loop. \n",
    "\n",
    "A more generic version might look like:\n",
    "\n",
    "for x in some_list:\n",
    "    do_something(x)\n",
    "    do_another_thing(x)\n",
    "    ..."
   ]
  },
  {
   "cell_type": "markdown",
   "id": "0904ecf4-de2d-4797-bd4f-32f0eb137a9c",
   "metadata": {},
   "source": [
    "Now, you should loop through every name in your \"names\" list from before, and for each name display \"[name] is awesome!\" "
   ]
  },
  {
   "cell_type": "code",
   "execution_count": null,
   "id": "f27f2737-bb18-4beb-b4ce-de24f850e240",
   "metadata": {},
   "outputs": [],
   "source": [
    "#TODO enter your code here"
   ]
  },
  {
   "cell_type": "markdown",
   "id": "138c1b52-a66b-4e75-a1fd-1a0c18f62ea4",
   "metadata": {},
   "source": [
    "Now, do the same thing as before, but for each name, first make a string that has \"[name] is awesome!\" and save it in a variable, then use the .upper() function on the string to make it all uppercase and save it into a variable, then display the final string."
   ]
  },
  {
   "cell_type": "code",
   "execution_count": null,
   "id": "b2ba8236-1892-405c-8988-58a3f1621ec0",
   "metadata": {},
   "outputs": [],
   "source": [
    "#TODO enter your code here"
   ]
  }
 ],
 "metadata": {
  "kernelspec": {
   "display_name": "Python 3 (ipykernel)",
   "language": "python",
   "name": "python3"
  },
  "language_info": {
   "codemirror_mode": {
    "name": "ipython",
    "version": 3
   },
   "file_extension": ".py",
   "mimetype": "text/x-python",
   "name": "python",
   "nbconvert_exporter": "python",
   "pygments_lexer": "ipython3",
   "version": "3.12.0"
  },
  "vscode": {
   "interpreter": {
    "hash": "369f2c481f4da34e4445cda3fffd2e751bd1c4d706f27375911949ba6bb62e1c"
   }
  }
 },
 "nbformat": 4,
 "nbformat_minor": 5
}
