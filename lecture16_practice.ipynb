{
 "cells": [
  {
   "cell_type": "markdown",
   "id": "ca8a4d07-9426-4e40-ace6-0a81a2d74558",
   "metadata": {},
   "source": [
    "#Practice: Timed actions"
   ]
  },
  {
   "cell_type": "markdown",
   "id": "0fe66180-e66c-47ee-9785-26b892297ddc",
   "metadata": {},
   "source": [
    "What if you don't want something to run forever? In this practice, you'll combine schedule and datetime to create a loop that says \"Happy new minute!\" every minute, and stops after 5 minutes. "
   ]
  },
  {
   "cell_type": "markdown",
   "id": "2f72bcb0-1165-4ca5-ace0-0b39e3bd99d3",
   "metadata": {},
   "source": [
    "## Timed actions\n",
    "load `schedule` library and `time` library that helps us with scheduling. If you want more detail about how the schedule libary works, you can look it up here: https://schedule.readthedocs.io/en/stable/"
   ]
  },
  {
   "cell_type": "code",
   "execution_count": 4,
   "id": "e8f829a3-96df-4f34-a508-a68680f38451",
   "metadata": {},
   "outputs": [],
   "source": [
    "import schedule\n",
    "from time import sleep\n",
    "from datetime import datetime"
   ]
  },
  {
   "cell_type": "markdown",
   "id": "73720111-081e-4a79-afdc-4021d06f2357",
   "metadata": {},
   "source": [
    "If we call datetime.now(), we get a datetime object that describes the exact time and date right now. "
   ]
  },
  {
   "cell_type": "code",
   "execution_count": 5,
   "id": "928a5480-1f06-48f4-850e-b0531cfd7816",
   "metadata": {},
   "outputs": [
    {
     "data": {
      "text/plain": [
       "datetime.datetime(2023, 12, 1, 13, 38, 26, 846780)"
      ]
     },
     "execution_count": 5,
     "metadata": {},
     "output_type": "execute_result"
    }
   ],
   "source": [
    "datetime.now()"
   ]
  },
  {
   "cell_type": "markdown",
   "id": "2463800b-ec93-45ed-850a-342286806d1f",
   "metadata": {},
   "source": [
    "You can also subtract two datetime objects to get a timedelta object, which describes the difference between two datetimes. "
   ]
  },
  {
   "cell_type": "code",
   "execution_count": 9,
   "id": "ff949102-83d9-4c6c-b73a-1ba6eea7aad3",
   "metadata": {},
   "outputs": [
    {
     "name": "stdout",
     "output_type": "stream",
     "text": [
      "0:00:03.000466\n"
     ]
    }
   ],
   "source": [
    "t1 = datetime.now()\n",
    "sleep(3)\n",
    "t2 = datetime.now()\n",
    "tdif = t2 - t1\n",
    "print(tdif)"
   ]
  },
  {
   "cell_type": "markdown",
   "id": "6c4fda93-3d9a-4db7-a3e7-e7a77d04e63a",
   "metadata": {},
   "source": [
    "If you want to turn that timedelta object into a number we can work with in python, you can convert it into seconds:"
   ]
  },
  {
   "cell_type": "code",
   "execution_count": 11,
   "id": "383a3a4c-55a8-413c-a8d7-17985a02048a",
   "metadata": {},
   "outputs": [
    {
     "data": {
      "text/plain": [
       "3.000466"
      ]
     },
     "execution_count": 11,
     "metadata": {},
     "output_type": "execute_result"
    }
   ],
   "source": [
    "tdif.total_seconds()"
   ]
  },
  {
   "cell_type": "markdown",
   "id": "a0d58662-bc33-4a1a-9d54-8b8960745458",
   "metadata": {},
   "source": [
    "Define a function that will be a task to run on a schedule"
   ]
  },
  {
   "cell_type": "code",
   "execution_count": null,
   "id": "d89bd401-af82-4daf-8b41-5ba75748fb41",
   "metadata": {},
   "outputs": [],
   "source": [
    "# Define a function that when run will say that it will post \"it's lunchtime!\"\n",
    "def say_happy_minute():\n",
    "    # when the function is run, post to reddit\n",
    "    print(\"Happy new minute!\")"
   ]
  },
  {
   "cell_type": "markdown",
   "id": "1b991ed9-7106-44af-bb0e-8d81e9189530",
   "metadata": {},
   "source": [
    "Now, create a loop that calls \"say_happy_minute()\" every minute at the \"X:00\" seconds mark, and stops after 5 minutes have passed. "
   ]
  },
  {
   "cell_type": "code",
   "execution_count": null,
   "id": "5af07ec4-febe-45b9-8d87-09b67ba29289",
   "metadata": {},
   "outputs": [],
   "source": []
  }
 ],
 "metadata": {
  "kernelspec": {
   "display_name": "Python 3 (ipykernel)",
   "language": "python",
   "name": "python3"
  },
  "language_info": {
   "codemirror_mode": {
    "name": "ipython",
    "version": 3
   },
   "file_extension": ".py",
   "mimetype": "text/x-python",
   "name": "python",
   "nbconvert_exporter": "python",
   "pygments_lexer": "ipython3",
   "version": "3.12.0"
  }
 },
 "nbformat": 4,
 "nbformat_minor": 5
}
