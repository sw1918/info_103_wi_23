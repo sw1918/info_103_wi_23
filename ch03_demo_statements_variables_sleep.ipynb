{
 "cells": [
  {
   "cell_type": "markdown",
   "id": "d3e7c20d-b299-4362-83de-72c7f85e73a1",
   "metadata": {},
   "source": [
    "# Demo: Statements, Variables, and Sleep"
   ]
  },
  {
   "cell_type": "markdown",
   "id": "491104c0-adbd-4838-8461-7712f682a855",
   "metadata": {},
   "source": [
    "## Statements\n",
    "As we said before, a computer program in a programming language like Python is often composed of a list of statements, that is steps to be run in order (like a recipe):\n",
    "```text\n",
    "- statement 1\n",
    "- statement 2\n",
    "- statement 3\n",
    "```\n",
    "\n",
    "In Python, generally each new line of code is a new statement, to be run after the previous statement.\n",
    "\n",
    "We will start writing statements using a line of code that looks like this which runs a function called `display`:\n",
    "\n",
    "```display(\"Ethics might be relevant!\")```\n",
    "\n",
    "Below you will see this line of code (one statement), and right below it will be displayed the text in the quotes (\"Ethics might be relevant!\")."
   ]
  },
  {
   "cell_type": "code",
   "execution_count": 1,
   "id": "37b02677-d2de-4b04-8363-f4197e2ad289",
   "metadata": {},
   "outputs": [
    {
     "data": {
      "text/plain": [
       "'Ethics might be relevant!'"
      ]
     },
     "metadata": {},
     "output_type": "display_data"
    }
   ],
   "source": [
    "display(\"Ethics might be relevant!\")"
   ]
  },
  {
   "cell_type": "markdown",
   "id": "6c755bce-be52-4634-9d3e-e6dee35f09d4",
   "metadata": {},
   "source": [
    "Now let's try several statements in a row, with mulitple lines of code that display text:"
   ]
  },
  {
   "cell_type": "code",
   "execution_count": 3,
   "id": "ee237683-988d-4092-9b2c-23c95185e6c7",
   "metadata": {},
   "outputs": [
    {
     "data": {
      "text/plain": [
       "'This book is about:'"
      ]
     },
     "metadata": {},
     "output_type": "display_data"
    },
    {
     "data": {
      "text/plain": [
       "'  - Social Media'"
      ]
     },
     "metadata": {},
     "output_type": "display_data"
    },
    {
     "data": {
      "text/plain": [
       "'  - Ethics'"
      ]
     },
     "metadata": {},
     "output_type": "display_data"
    },
    {
     "data": {
      "text/plain": [
       "'  - Automation'"
      ]
     },
     "metadata": {},
     "output_type": "display_data"
    }
   ],
   "source": [
    "display(\"This book is about:\")\n",
    "display(\"  - Social Media\")\n",
    "display(\"  - Ethics\")\n",
    "display(\"  - Automation\")"
   ]
  },
  {
   "cell_type": "markdown",
   "id": "5faa75dc-79cf-4c12-94dc-e534c423cd05",
   "metadata": {},
   "source": [
    "Now that we've made multple statements in a row, let's do something a little more complicated than just displaying text by using variables."
   ]
  },
  {
   "cell_type": "markdown",
   "id": "ecbc77ca-26bc-46e3-84a9-84c4bb114fe1",
   "metadata": {},
   "source": [
    "## Variables and assignment (single \"=\")\n",
    "\n",
    "As we said in the previous section, Variables are a way of saving information on the computer, so we can use it later in the computer program, similar to how we might put mix ingredients in different bowls, using the mix from each bowl at the relevant time.\n",
    "\n",
    "In a computer program, these variables are given names so we can more easily get the information back out again.\n",
    "\n",
    "### Saving a text value\n",
    "To store something in a variable (called \"assigning\" it a value), write the variable name, followed by an \"=\" symbol, followed by whatever we want to save in the variable. For example:"
   ]
  },
  {
   "cell_type": "code",
   "execution_count": 27,
   "id": "562ada28-2f06-4572-95a5-6d40e0fb7ec1",
   "metadata": {},
   "outputs": [],
   "source": [
    "greetings_message = \"Hello and welcome to programming with variables!\""
   ]
  },
  {
   "cell_type": "markdown",
   "id": "987a5603-da30-4d3b-8043-a7f0adab1ee2",
   "metadata": {},
   "source": [
    "The line of code above saved the text \"Hello and welcome to programming with variables!\" into a variable called \"`greetings_message`\"\n",
    "\n",
    "Since this was just saving something into the computer, there is nothing displayed after we run that line of code.\n",
    "\n",
    "Note: The `=` symbol in Python does not mean the same thing it does in a math formula. In a math formula, \"=\" means that both sides of the equation are the same (like \"1 + 1 = 2\"). In Python, `=` means that the value on the right gets stored into the variable on the left (this is called \"assignment\", that is, assigning a value into a variable)."
   ]
  },
  {
   "cell_type": "markdown",
   "id": "5b5d227f-ff8a-48d8-96bc-b948fd9f750f",
   "metadata": {},
   "source": [
    "### Variable names\n",
    "When we choose a variable name for storing information, we try to choose a name that will help us remember what was save there and what we will use that information for. So `greeting_message` helps us remember that what we saved in there was a greeting.\n",
    "\n",
    "One thing you might notice is that the variable name `greeting_message` has an underscore (`_`) instead of a space between the words. That's because one of Python's rules is that variable names can't have spaces in them, so we just use `_` instead. You can read some more variable naming rules [here](https://www.w3schools.com/python/gloss_python_variable_names.asp)."
   ]
  },
  {
   "cell_type": "markdown",
   "id": "9dd993a0-ae62-496a-863b-6209e94b7e54",
   "metadata": {},
   "source": [
    "### Displaying a value\n",
    "If we want to see what we saved in the variable we can display it using the display function."
   ]
  },
  {
   "cell_type": "code",
   "execution_count": 3,
   "id": "bb6b507a-f458-4e96-976d-f59332367090",
   "metadata": {},
   "outputs": [
    {
     "data": {
      "text/plain": [
       "'Hello and welcome to programming with variables!'"
      ]
     },
     "metadata": {},
     "output_type": "display_data"
    }
   ],
   "source": [
    "display(greetings_message)"
   ]
  },
  {
   "cell_type": "markdown",
   "id": "e664d310-d213-430a-b132-8fc94cf67b81",
   "metadata": {},
   "source": [
    "### Storing numbers\n",
    "We can also store numbers in variables. For example, we can save \n",
    "- the number of likes a tweet has in a variable called \"`number_likes`\"\n",
    "- the number of replies a tweet has in a variable called \"`number_replies`\"\n",
    "- the number of quote tweets a tweet has in a variable called \"`number_quote_tweets`\"\n",
    "\n",
    "(We're just invent numbers for these for now)"
   ]
  },
  {
   "cell_type": "code",
   "execution_count": 7,
   "id": "1bd08a65-b62d-4367-ba64-9a24b5ad45f4",
   "metadata": {},
   "outputs": [],
   "source": [
    "number_likes = 30\n",
    "number_replies = 12\n",
    "number_quote_tweets = 8"
   ]
  },
  {
   "cell_type": "markdown",
   "id": "ba177678-1316-4e93-bc87-af8038d3f637",
   "metadata": {},
   "source": [
    "Again, the computer shows no output after running these lines of code, but the computer now has numbers saved for \"`number_likes`\", \"`number_replies`\", and \"`number_quote_tweets`\"\n",
    "\n",
    "### Displaying multiple variables\n",
    "We can see what is saved in those variables by calling the `display` function again:"
   ]
  },
  {
   "cell_type": "code",
   "execution_count": 9,
   "id": "7a78433c-bc7a-4635-b0e9-06a676f7dffb",
   "metadata": {},
   "outputs": [
    {
     "data": {
      "text/plain": [
       "30"
      ]
     },
     "metadata": {},
     "output_type": "display_data"
    },
    {
     "data": {
      "text/plain": [
       "12"
      ]
     },
     "metadata": {},
     "output_type": "display_data"
    },
    {
     "data": {
      "text/plain": [
       "8"
      ]
     },
     "metadata": {},
     "output_type": "display_data"
    }
   ],
   "source": [
    "display(number_likes)\n",
    "display(number_replies)\n",
    "display(number_quote_tweets)"
   ]
  },
  {
   "cell_type": "markdown",
   "id": "a07230d9-1f9a-42b5-8977-de32ed638c07",
   "metadata": {},
   "source": [
    "### Taking from variables and storing in new variable\n",
    "In python we can look up variables and do something with them and save them into new variables. For example, if we consider \"total engagement\" of a tweet to be the sum of all the number of likes, replies, and quote tweets, we can calculate that and store it into a new variable:"
   ]
  },
  {
   "cell_type": "code",
   "execution_count": 11,
   "id": "8893dd06-3620-4241-81e5-1f2d4b2187ea",
   "metadata": {},
   "outputs": [],
   "source": [
    "total_engagement = number_likes + number_replies + number_quote_tweets"
   ]
  },
  {
   "cell_type": "markdown",
   "id": "ef13ca66-b718-42ad-b022-a9e99bf8631a",
   "metadata": {},
   "source": [
    "And then we can see what was saved in that new variable:"
   ]
  },
  {
   "cell_type": "code",
   "execution_count": 12,
   "id": "5c94c142-9c0b-4204-8936-ffce151db706",
   "metadata": {},
   "outputs": [
    {
     "data": {
      "text/plain": [
       "50"
      ]
     },
     "metadata": {},
     "output_type": "display_data"
    }
   ],
   "source": [
    "display(total_engagement)"
   ]
  },
  {
   "cell_type": "markdown",
   "id": "d7a1d503-2027-4322-b610-102433fc7c2c",
   "metadata": {},
   "source": [
    "### Updating a variable value\n",
    "One particular trick we can do with variables is look up what is currently stored in the variable, update the value, and resave it into the same variable. \n",
    "\n",
    "For example if I have a variable called `current_likes` that has the the number 5 stored in it:"
   ]
  },
  {
   "cell_type": "code",
   "execution_count": 15,
   "id": "9028cbde-bfe5-48a8-8d70-62bf9a2631c5",
   "metadata": {},
   "outputs": [],
   "source": [
    "current_likes = 5"
   ]
  },
  {
   "cell_type": "markdown",
   "id": "0a6781b5-e790-41e1-b9ce-6ee87107c0a0",
   "metadata": {},
   "source": [
    "Now, if someone pressed the like button, we'd want to make that number one higher (6). \n",
    "\n",
    "To do this, we can look up the value in current likes and add 1 to it by writing `current_likes + 1`, and then we can store this updated value into current_likes but putting `current_likes =` in front, like this:"
   ]
  },
  {
   "cell_type": "code",
   "execution_count": 16,
   "id": "6ccce5bc-155c-4a06-802d-882a138d5504",
   "metadata": {},
   "outputs": [],
   "source": [
    "current_likes = current_likes + 1"
   ]
  },
  {
   "cell_type": "markdown",
   "id": "d5a15fb9-ebbd-4133-8907-feb8c9def1f1",
   "metadata": {},
   "source": [
    "Remember: the `=` sign in programming isn't saying both sides are equal like in math, it is saying, take the value on the right of the `=`, and store it into the variable on the left of the `=`.\n",
    "\n",
    "We can display the current_likes and see it is now 6"
   ]
  },
  {
   "cell_type": "code",
   "execution_count": 17,
   "id": "c6991808-70df-4ad9-b2f2-231e784c9066",
   "metadata": {},
   "outputs": [
    {
     "data": {
      "text/plain": [
       "6"
      ]
     },
     "metadata": {},
     "output_type": "display_data"
    }
   ],
   "source": [
    "display(current_likes)"
   ]
  },
  {
   "cell_type": "markdown",
   "id": "5ac4b7fa-914d-4f59-893a-27997ce14fe1",
   "metadata": {},
   "source": [
    "We can run the same line of code again and see the number get higher each time"
   ]
  },
  {
   "cell_type": "code",
   "execution_count": 19,
   "id": "13b5e908-b25a-494d-a2eb-a404408150a2",
   "metadata": {},
   "outputs": [
    {
     "data": {
      "text/plain": [
       "7"
      ]
     },
     "metadata": {},
     "output_type": "display_data"
    }
   ],
   "source": [
    "current_likes = current_likes + 1\n",
    "display(current_likes)"
   ]
  },
  {
   "cell_type": "code",
   "execution_count": 20,
   "id": "49ff73c2-29ab-48fc-8389-615cb808c231",
   "metadata": {},
   "outputs": [
    {
     "data": {
      "text/plain": [
       "8"
      ]
     },
     "metadata": {},
     "output_type": "display_data"
    }
   ],
   "source": [
    "current_likes = current_likes + 1\n",
    "display(current_likes)"
   ]
  },
  {
   "cell_type": "markdown",
   "id": "e820cc57-3d53-4593-a556-82ef002cb1cd",
   "metadata": {},
   "source": [
    "### Other options for displaying\n",
    "Before we move on we wanted to show you two more ways of viewing a variable:\n",
    "\n",
    "There is a function called `print` that does almost the exact same thing as `display`, it \"prints\" the output to the screen (not to paper). Note: `print` is a commonly used function in Python, so you may see `print` if you look at other Python code.\n",
    "\n",
    "\n",
    "\n",
    "- just write variable name (if it is the last thing in the code block\n",
    "- print()"
   ]
  },
  {
   "cell_type": "code",
   "execution_count": 21,
   "id": "0aaf3fe8-2507-440b-ba50-df2117e6bcef",
   "metadata": {},
   "outputs": [
    {
     "name": "stdout",
     "output_type": "stream",
     "text": [
      "8\n"
     ]
    }
   ],
   "source": [
    "print(current_likes)"
   ]
  },
  {
   "cell_type": "markdown",
   "id": "0c9eb687-8486-4cfa-9166-73afe1229799",
   "metadata": {},
   "source": [
    "The other way of displaying a variable value is to just write the name of the variable. "
   ]
  },
  {
   "cell_type": "code",
   "execution_count": 22,
   "id": "38e2c053-4a6c-46ba-bb72-98ba6fed6f28",
   "metadata": {},
   "outputs": [
    {
     "data": {
      "text/plain": [
       "8"
      ]
     },
     "execution_count": 22,
     "metadata": {},
     "output_type": "execute_result"
    }
   ],
   "source": [
    "current_likes"
   ]
  },
  {
   "cell_type": "markdown",
   "id": "acb4c827-6b58-4153-811b-f8da63ba9c90",
   "metadata": {},
   "source": [
    "But this way of displaying a variable will only work if it is the last line of code in the code block. So if I write a bunch of variables on their own lines, only the last one will be displayed:"
   ]
  },
  {
   "cell_type": "code",
   "execution_count": 23,
   "id": "0977f8c4-68ba-4c4a-827d-7d05e453ff71",
   "metadata": {},
   "outputs": [
    {
     "data": {
      "text/plain": [
       "8"
      ]
     },
     "execution_count": 23,
     "metadata": {},
     "output_type": "execute_result"
    }
   ],
   "source": [
    "number_likes\n",
    "number_replies\n",
    "number_quote_tweets\n",
    "current_likes"
   ]
  },
  {
   "cell_type": "markdown",
   "id": "a0a6cbfb-f8e8-4818-a716-38d9f08919a8",
   "metadata": {},
   "source": [
    "## Sleep (pausing)\n",
    "\n",
    "One thing we can make our code do is pause before continuing. To do this we will use a function called `sleep` that comes from a code library called `time`. \n",
    "\n",
    "So we will start by importing that `sleep` function from `time`:\n"
   ]
  },
  {
   "cell_type": "code",
   "execution_count": 25,
   "id": "fc8e319b-4bc6-4b03-b647-691b52c13260",
   "metadata": {},
   "outputs": [],
   "source": [
    "from time import sleep"
   ]
  },
  {
   "cell_type": "markdown",
   "id": "25a0dfc3-0604-4558-bd25-84a3feaf2e45",
   "metadata": {},
   "source": [
    "Now that we have sleep imported, we can use it to pause between code actions. This will be most noticeable when we are displaying something, like this:"
   ]
  },
  {
   "cell_type": "code",
   "execution_count": 26,
   "id": "112afd11-e8f2-415d-8dbf-6932f1b7cc1c",
   "metadata": {},
   "outputs": [
    {
     "data": {
      "text/plain": [
       "'I am displaying a message before pausing for two seconds'"
      ]
     },
     "metadata": {},
     "output_type": "display_data"
    },
    {
     "data": {
      "text/plain": [
       "'I have finished my two second pause. Now I will pause for 3 more seconds'"
      ]
     },
     "metadata": {},
     "output_type": "display_data"
    },
    {
     "data": {
      "text/plain": [
       "'I have finished the three second pause, and now I am done'"
      ]
     },
     "metadata": {},
     "output_type": "display_data"
    }
   ],
   "source": [
    "display(\"I am displaying a message before pausing for two seconds\")\n",
    "\n",
    "sleep(2)\n",
    "\n",
    "display(\"I have finished my two second pause. Now I will pause for 3 more seconds\")\n",
    "\n",
    "sleep(3)\n",
    "\n",
    "display(\"I have finished the three second pause, and now I am done\")"
   ]
  },
  {
   "cell_type": "markdown",
   "id": "1e1f6e6a-6b43-431d-a464-5ad96d7ea960",
   "metadata": {},
   "source": [
    "If you run the code above you will see that the program pauses as it displays the output above.\n",
    "\n",
    "These pauses may come in handy when posting tweets, to make it look like your bot is taking time to type in the text. You will get a chance to try that in the next practice section."
   ]
  }
 ],
 "metadata": {
  "kernelspec": {
   "display_name": "Python 3 (ipykernel)",
   "language": "python",
   "name": "python3"
  },
  "language_info": {
   "codemirror_mode": {
    "name": "ipython",
    "version": 3
   },
   "file_extension": ".py",
   "mimetype": "text/x-python",
   "name": "python",
   "nbconvert_exporter": "python",
   "pygments_lexer": "ipython3",
   "version": "3.9.7"
  }
 },
 "nbformat": 4,
 "nbformat_minor": 5
}
