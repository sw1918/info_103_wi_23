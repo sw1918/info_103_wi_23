{
 "cells": [
  {
   "cell_type": "markdown",
   "id": "faf79779-95ad-498f-8c19-9a6766d205a4",
   "metadata": {},
   "source": [
    "# Demo: Dictionaries\n",
    "\n",
    "We've talked about lists, but the other data organization we need to work with social media data is `dictionaries`.\n",
    "\n",
    "As we mentioned in chapter 4, dictionaries allow us to combine pieces of information by naming them (sort of like variables).\n",
    "\n",
    "So for example, the information about a user might have the following pieces of data:\n",
    "- Username\n",
    "- Twitter handle\n",
    "- Profile Picture:\n",
    "- Follows\n",
    "\n",
    "Python has two ways of doing these types of dictionaries: `dict` and objects"
   ]
  },
  {
   "cell_type": "markdown",
   "id": "faf353f9-9945-46c3-b0f7-9938ac6c89dc",
   "metadata": {},
   "source": [
    "## Dictionaries (`dict`)\n",
    "We can create dictionaries in Python by storing values into `key`s inside of curly braces `{` `}`, like this:"
   ]
  },
  {
   "cell_type": "code",
   "execution_count": null,
   "id": "aaeacf5c-1831-447f-b3db-374f12934d81",
   "metadata": {},
   "outputs": [],
   "source": [
    "user_1 = {\n",
    "    \"username\": \"kylethayer\",\n",
    "    \"twitter_handle\": \"@kylemthayer\",\n",
    "    \"profile_picture\": \"kylethayer.jpg\",\n",
    "    \"follows\": [\"@SusanNotess\", \"@UW\", \"@UW_iSchool\", \"@ajlunited\"]\n",
    "}"
   ]
  },
  {
   "cell_type": "markdown",
   "id": "b19c94d0-294a-4f4a-a73d-4651a3d0d96f",
   "metadata": {},
   "source": [
    "In the code above, inside of the curly braces are a set of lines. Each line has a string (the `key`, or name of the value), followed by a colon (`:`), followed by a value that is to be saved for the key. At the end of all but the last line is a comma (`,`) which indicates that another `key` and value will come next.\n",
    "\n",
    "Now that we've saved some values for some keys in the dictionary now saved in user_1, we can look up the values by using square brackets (`[`, `]`) with the key name inside, like this:"
   ]
  },
  {
   "cell_type": "code",
   "execution_count": null,
   "id": "99bb8716-2b5f-4e0e-9188-11ba38dc5e21",
   "metadata": {},
   "outputs": [],
   "source": [
    "user_1_username = user_1[\"username\"]\n",
    "display(user_1_username)"
   ]
  },
  {
   "cell_type": "code",
   "execution_count": null,
   "id": "8d96a9b3-c09e-4125-a664-d4dd77639d3a",
   "metadata": {},
   "outputs": [],
   "source": [
    "user_1_handle = user_1[\"twitter_handle\"]\n",
    "display(user_1_handle)"
   ]
  },
  {
   "cell_type": "code",
   "execution_count": null,
   "id": "4fa4f670-6657-41bc-8a77-557e0c35c987",
   "metadata": {},
   "outputs": [],
   "source": [
    "user_1_picture = user_1[\"profile_picture\"]\n",
    "display(user_1_picture)"
   ]
  },
  {
   "cell_type": "code",
   "execution_count": null,
   "id": "2fc90b1c-f626-4987-b275-ccbf1b5c36d5",
   "metadata": {},
   "outputs": [],
   "source": [
    "user_1_follows = user_1[\"follows\"]\n",
    "display(user_1_follows)"
   ]
  },
  {
   "cell_type": "markdown",
   "id": "f8075810-d7ee-4cff-abec-ec9103f4205f",
   "metadata": {},
   "source": [
    "## Objects\n",
    "The other way of saving information that works similarly in Python is through an object. We won't be creating any in this book, but we will have to get data from some.\n",
    "\n",
    "The main difference from what we will need is that while in dictionaries we use square brackets and put the key name in quotes as a string (e.g., `user_1[\"profile_picture\"]`), in an object you use a period (`.`) and don't put they key name (called a `field`) in quotes (e.g., `user_1.profile_picture`)\n",
    "\n",
    "We have already seen code that used this period to get something from an object a few times, specifically getting functions from them, like:\n",
    "- `client.create_tweet(...`\n",
    "- `normal_message.upper()`\n",
    "\n",
    "When we go through data from twitter, sometimes we will need to use `.` to get parts of the information out of objects, and sometimes we will need to use `[\" \"]` to get information out of dictionaries."
   ]
  },
  {
   "cell_type": "markdown",
   "id": "086be723-f3be-42bf-8ada-ba7f88718d5e",
   "metadata": {},
   "source": [
    "## Looping through lists of dictionaries\n",
    "Now that we've seen loops, lists, and dictionaries, we can go to Reddit, run a search and look through multiple submissions:"
   ]
  },
  {
   "cell_type": "markdown",
   "id": "4cb96ef3-8f5e-420e-9273-9010e89dce0e",
   "metadata": {},
   "source": [
    "### load praw library"
   ]
  },
  {
   "cell_type": "code",
   "execution_count": null,
   "id": "01b1b258-c3b7-48b5-9576-0b5012e2592f",
   "metadata": {},
   "outputs": [],
   "source": [
    "# Load some code called \"praw\" that will help us work with reddit\n",
    "import praw"
   ]
  },
  {
   "cell_type": "markdown",
   "id": "9cc3a006-f750-4636-b48b-49fcfed023d1",
   "metadata": {},
   "source": [
    "### (optional) step 1b: make a fake praw connection with the fake_praw library\n",
    "For testing purposes, we've added this line of code, which loads a fake version of praw, so it wont actually connect to reddit. __If you want to try to actually connect to reddit, don't run this line of code.__"
   ]
  },
  {
   "cell_type": "code",
   "execution_count": null,
   "id": "a42161a4-3102-4517-afba-3e64a02d85f0",
   "metadata": {},
   "outputs": [],
   "source": [
    "%run fake_apis/fake_praw.ipynb"
   ]
  },
  {
   "cell_type": "markdown",
   "id": "adbe69cf-a3b0-43a7-acb6-19f7e7eb5945",
   "metadata": {},
   "source": [
    "### load your developer access passwords"
   ]
  },
  {
   "cell_type": "code",
   "execution_count": null,
   "id": "46e18dcd-e58f-4083-b1c2-55ece3b0c3be",
   "metadata": {},
   "outputs": [],
   "source": [
    "%run reddit_keys.py"
   ]
  },
  {
   "cell_type": "markdown",
   "id": "dafb7221-0c46-4499-8c63-db191d5163ef",
   "metadata": {},
   "source": [
    "### give praw (or fake_praw) your developer access passwords"
   ]
  },
  {
   "cell_type": "code",
   "execution_count": null,
   "id": "cbe7a923-fc70-4b2e-a541-5dd5119309c2",
   "metadata": {},
   "outputs": [],
   "source": [
    "# Give the praw code your reddit account info so\n",
    "# it can perform reddit actions\n",
    "reddit = praw.Reddit(\n",
    "    username=username, password=password,\n",
    "    client_id=client_id, client_secret=client_secret,\n",
    "    user_agent=\"a custom python script for user /\" + str(username)\n",
    ")"
   ]
  },
  {
   "cell_type": "markdown",
   "id": "80f48f9d-30f4-47e5-bf2f-ff4bb66b02a1",
   "metadata": {},
   "source": [
    "### find a list of submissions\n",
    "We can now do a search and find a list of submissions.\n",
    "\n",
    "_Note: If you run this on real reddit, we can’t gurantee anything about how offensive what you might find is._"
   ]
  },
  {
   "cell_type": "code",
   "execution_count": null,
   "id": "9f945e19-4e7d-4626-a468-de8af347355f",
   "metadata": {},
   "outputs": [],
   "source": [
    "# Look up the subreddit \"cuteanimals\", then find the \"hot\" list, getting up to 10 submission\n",
    "submissions = reddit.subreddit(\"cuteanimals\").hot(limit=10)\n",
    "\n",
    "# Note: The submissions come back from Reddit as an\n",
    "# \"iterator\" instead of a \"list.\" We can write our\n",
    "# normal for loops with it as an iterator, but we will\n",
    "# turn it into a list, since we are using those in this class\n",
    "\n",
    "submissions_list = list(submissions)"
   ]
  },
  {
   "cell_type": "markdown",
   "id": "7b487d9c-2741-4042-8756-702358f4db1c",
   "metadata": {},
   "source": [
    "## Loop through the list of submissions\n",
    "The variable `submissions_list` now has a list of Reddit submissions. So we can use a for loop to go through each submission, and then use `.` to access info from each tweet (other pieces of information would need `[\" \"]` to access).\n",
    "\n",
    "For each of the tweets, we will use `print` to display information about the tweet"
   ]
  },
  {
   "cell_type": "code",
   "execution_count": null,
   "id": "f5817cce-16b5-48e6-8a40-c90c0ab4079c",
   "metadata": {},
   "outputs": [],
   "source": [
    "for submission in submissions_list:\n",
    "    print(\"Info for submission with id: \" + str(submission.id))\n",
    "    print(\"  title: \" + str(submission.title))\n",
    "    print(\"  author: \" + str(submission.author))\n",
    "    print(\"  created_utc: \" + str(submission.created_utc))\n",
    "    print(\"  selftext: \" + str(submission.selftext))\n",
    "    print(\"  url: \" + str(submission.url))\n",
    "    print(\"  score (upvotes): \" + str(submission.score))\n",
    "    print()"
   ]
  }
 ],
 "metadata": {
  "kernelspec": {
   "display_name": "Python 3 (ipykernel)",
   "language": "python",
   "name": "python3"
  },
  "language_info": {
   "codemirror_mode": {
    "name": "ipython",
    "version": 3
   },
   "file_extension": ".py",
   "mimetype": "text/x-python",
   "name": "python",
   "nbconvert_exporter": "python",
   "pygments_lexer": "ipython3",
   "version": "3.9.7"
  },
  "vscode": {
   "interpreter": {
    "hash": "369f2c481f4da34e4445cda3fffd2e751bd1c4d706f27375911949ba6bb62e1c"
   }
  }
 },
 "nbformat": 4,
 "nbformat_minor": 5
}
