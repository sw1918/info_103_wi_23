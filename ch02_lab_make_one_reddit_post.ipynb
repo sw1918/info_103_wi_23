{
 "cells": [
  {
   "attachments": {},
   "cell_type": "markdown",
   "id": "8e8b04f7-3262-427e-b125-ec9e4284d0d9",
   "metadata": {
    "tags": []
   },
   "source": [
    "# Lab 1: Make One Reddit Post"
   ]
  },
  {
   "cell_type": "markdown",
   "id": "144e173b-2a04-44b4-a45d-7b335e40f918",
   "metadata": {},
   "source": [
    "## Running this Jupyter Notebook\n",
    "This page is called a \"Jupyter Notebook\" which it is a text page that has runnable Python code in it.\n",
    "\n",
    "You are hopefully looking at this Jupyter Notebook in a code editor called Jupyter Lab\n",
    "\n",
    "![a screenshot of this page viewed in jupyter lab, with menus and options above the editable page](imgs/jupyter_lab.png)\n",
    "\n",
    "In Jupyter Lab you can double click any section to edit it, and you can press the triangle \"run\" button to run the code (or display the text).\n",
    "\n",
    "![a screenshot of this page viewed in jupyter lab,with the triangle \"run\" button circled. Next to it are a square \"interrupt the kernal\" button and other options](imgs/jupyter_run_code.png)\n",
    "\n",
    "When the code runs, the little number to the left of the code block should change. There might also be some output from your action displyed below the code block.\n",
    "\n",
    "So now you can go through the rest of this page and select and run each section of code.\n"
   ]
  },
  {
   "attachments": {},
   "cell_type": "markdown",
   "id": "13f89d63-a8e7-48e2-b744-ecfdf8bdad87",
   "metadata": {},
   "source": [
    "## Here is the bot code you can run!\n",
    "Our demo Reddit bot code is below, broken up into different sections. \n",
    "\n",
    "You can select each section of the code below and run it to see what it does.\n",
    "\n",
    "By default this code uses a fake version of our Reddit connection so it doesn't connect to a real Reddit account.\n",
    "\n",
    "If you want to actually connect to your Reddit account, you can put your special developer access passwords in the reddit_keys.py file, and then when you run the code make sure to skip the code section that makes a fake Reddit connection with \"fake_praw\"."
   ]
  },
  {
   "cell_type": "markdown",
   "id": "71630ecc-59b1-421a-94b8-7c973e0a3c12",
   "metadata": {},
   "source": [
    "### Step 1: Load Tweepy code"
   ]
  },
  {
   "cell_type": "code",
   "execution_count": null,
   "id": "d93d5346-7256-48dd-9687-5919aabf6f74",
   "metadata": {},
   "outputs": [],
   "source": [
    "# Load some code called \"praw\" that will help us work with reddit\n",
    "import praw"
   ]
  },
  {
   "attachments": {},
   "cell_type": "markdown",
   "id": "bc6fe80b-f477-481e-8b82-3981b8cf75a4",
   "metadata": {},
   "source": [
    "### (Optional) Step 1b: Make a fake praw connection with the fake_praw library\n",
    "For testing purposes, we've added this line of code, which loads a fake version of praw, so it wont actually connect to reddit. __If you want to try to actually connect to reddit, don't run this line of code.__"
   ]
  },
  {
   "cell_type": "code",
   "execution_count": null,
   "id": "ec45f3fb-204c-4948-a822-1608972f54bb",
   "metadata": {},
   "outputs": [],
   "source": [
    "%run fake_apis/fake_praw.ipynb"
   ]
  },
  {
   "attachments": {},
   "cell_type": "markdown",
   "id": "17ab3bf1-b204-41dd-806c-4b923beb4079",
   "metadata": {},
   "source": [
    "### Step 2: Load your developer access passwords\n",
    "For this class we are saving our reddit developer access passwords in a separate file called reddit_keys.py. This way we only have to copy the keys in once, and people looking at our screens (mostly) wont be able to see these passwords. \n",
    "\n",
    "So, to use this on your real twitter account, copy your [developer access passwords](https://social-media-ethics-automation.github.io/book_v0/appendix/bot_set_ups/making_reddit_account.html) into the  reddit_keys.py file.\n",
    "\n",
    "After you copy your values into the reddit_keys.py file, make sure that file is saved, and then you might have to restart the kernal on this notebook with either the circle arrow button:\n",
    "\n",
    "![a screenshot of the buttons at the top of this notebook tab, where after the \"run\" triangle, the \"interrupt the kernal\" square, is the arrow going in a circle \"restart the kernal\" button.](imgs/kernal_restart_button.png)\n",
    "\n",
    "or in the Kernal menu:\n",
    "\n",
    "![a screenshot of this page viewed in jupyter lab, with the kernel menu open, and the \"Restart Kernal and Clear All Outputs\" option selected](imgs/restart_kernel_small.png)"
   ]
  },
  {
   "cell_type": "code",
   "execution_count": null,
   "id": "6c17ccfc-269d-4d21-80f8-d7dbe0576423",
   "metadata": {},
   "outputs": [],
   "source": [
    "%run reddit_keys.py"
   ]
  },
  {
   "attachments": {},
   "cell_type": "markdown",
   "id": "42779d83-d829-41e5-9b05-cf9c68cd3ca4",
   "metadata": {},
   "source": [
    "### Step 4: Give praw (or fake_praw) your developer access passwords"
   ]
  },
  {
   "cell_type": "code",
   "execution_count": null,
   "id": "f2bcdc6b-b6e7-4348-9b9a-231aed259ed1",
   "metadata": {},
   "outputs": [],
   "source": [
    "# Give the praw code your reddit account info so\n",
    "# it can perform reddit actions\n",
    "reddit = praw.Reddit(\n",
    "    username=username, password=password,\n",
    "    client_id=client_id, client_secret=client_secret,\n",
    "    user_agent=\"a custom python script for user /\" + str(username)\n",
    ")"
   ]
  },
  {
   "attachments": {},
   "cell_type": "markdown",
   "id": "006459cb-1a07-4a60-91b0-031174339753",
   "metadata": {},
   "source": [
    "### Step 5: Submit a post to Reddit"
   ]
  },
  {
   "cell_type": "code",
   "execution_count": null,
   "id": "b44dafab-9d25-4620-b6bd-bd4149400eca",
   "metadata": {},
   "outputs": [],
   "source": [
    "# Post a reddit post\n",
    "# TODO: modify the text in the quotes below to change what and where this bot posts to reddit:\n",
    "# TODO: You might also want to create your own new subreddit to hopefully avoid getting rate limit errors\n",
    "reddit.subreddit(\n",
    "   \"info_103_sp23\"\n",
    ").submit(\n",
    "   \"A bot post\", \n",
    "   selftext = \"This post was made by a computer program!\"\n",
    ")"
   ]
  },
  {
   "attachments": {},
   "cell_type": "markdown",
   "id": "262d3a68-2d60-4d3a-b413-28d50dce2726",
   "metadata": {},
   "source": [
    "### Step 6: Modify the code above to create a different reddit post"
   ]
  },
  {
   "cell_type": "code",
   "execution_count": null,
   "id": "1ce1b13a-50ca-46f5-8495-1e06fe060279",
   "metadata": {},
   "outputs": [],
   "source": []
  }
 ],
 "metadata": {
  "kernelspec": {
   "display_name": "Python 3",
   "language": "python",
   "name": "python3"
  },
  "language_info": {
   "codemirror_mode": {
    "name": "ipython",
    "version": 3
   },
   "file_extension": ".py",
   "mimetype": "text/x-python",
   "name": "python",
   "nbconvert_exporter": "python",
   "pygments_lexer": "ipython3",
   "version": "3.10.4 (tags/v3.10.4:9d38120, Mar 23 2022, 23:13:41) [MSC v.1929 64 bit (AMD64)]"
  },
  "vscode": {
   "interpreter": {
    "hash": "369f2c481f4da34e4445cda3fffd2e751bd1c4d706f27375911949ba6bb62e1c"
   }
  }
 },
 "nbformat": 4,
 "nbformat_minor": 5
}
