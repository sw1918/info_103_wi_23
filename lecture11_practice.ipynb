{
 "cells": [
  {
   "cell_type": "markdown",
   "id": "67655e14-ea22-4ff1-9b83-2735028b6dd8",
   "metadata": {},
   "source": [
    "# Practice: Find the most viral story\n",
    "The code below copies the code from today's demo.\n",
    "## Log into Reddit (PRAW)\n",
    "Our code starts with our Redddit PRAW setup:"
   ]
  },
  {
   "cell_type": "code",
   "execution_count": null,
   "id": "ed4d794b-94dc-48bc-bd59-557d2251a135",
   "metadata": {
    "tags": []
   },
   "outputs": [],
   "source": [
    "import praw"
   ]
  },
  {
   "cell_type": "code",
   "execution_count": null,
   "id": "92e97170-80c2-42b7-b661-2eb909b71f14",
   "metadata": {},
   "outputs": [],
   "source": [
    "%run reddit_keys.py"
   ]
  },
  {
   "cell_type": "code",
   "execution_count": null,
   "id": "a4670d0f-d404-49ae-ad88-5234a60254ff",
   "metadata": {},
   "outputs": [],
   "source": [
    "# Give the praw code your reddit account info so\n",
    "# it can perform reddit actions\n",
    "reddit = praw.Reddit(\n",
    "    username=username, password=password,\n",
    "    client_id=client_id, client_secret=client_secret,\n",
    "    user_agent=\"a custom python script for user /\" + str(username)\n",
    ")"
   ]
  },
  {
   "cell_type": "markdown",
   "id": "dd127827-635b-44ca-8a8e-757b346569d0",
   "metadata": {},
   "source": [
    "## Try to find the most viral story you can!\n",
    "\n",
    "In the code below, we're checking the \"news\" subreddit, for the top 10 (\"limit=10\") most hot (\".hot\") stories. But, we don't need to just do current hot stories; we have options! By replacing the hot() function with top(), rising(), or controversial() functions, we can find the highest ranked posts (top), the posts that are gaining upvotes most quickly (rising), or the ones with the worst upvote/downvote ratios (controversial). These are all just different algorithms reddit uses to serve posts (more on that in the next lecture). \n",
    "\n",
    "You also have options. The \"limit\" parameter tells the function how many posts to give us. We can also us the \"time_filter\" parameter, which accepts a string, to tell us what time period we want posts from. \n",
    "\n",
    "For example, if we want the most 5 controversial posts of the year, we can do messages = reddit.subreddit(\"controversial\").top(limit=5, time_filter=\"year\"). The options for time_filter are \"day\", \"week\", \"month\", \"year\", and \"all\".\n",
    "\n",
    "Modify the code below, and try to find the most viral news story you can!"
   ]
  },
  {
   "cell_type": "code",
   "execution_count": null,
   "id": "b04cc392-6477-4547-a5c0-344064766fb6",
   "metadata": {},
   "outputs": [],
   "source": [
    "# Look up the subreddit \"cuteanimals\", then find the \"hot\" list, getting up to 1 submission\n",
    "messages = reddit.subreddit(\"news\").hot(limit=10)\n",
    "\n",
    "# get the first submission off the list (should only be one anyway)\n",
    "messages_list = list(messages) \n",
    "\n",
    "for submission in messages_list:\n",
    "\n",
    "    # display the subject and body of the message, so we can see what we found\n",
    "    display(\"latest message subject: \" + str(submission.title))\n",
    "    display(\"latest message body: \" + str(submission.url))\n",
    "    display(\"latest message time: \" + str(datetime.datetime.fromtimestamp(submission.created_utc)))\n",
    "    \n",
    "    duplicate_submissions = list(submission.duplicates(params={'crossposts_only': True, 'limit': 100}))\n",
    "\n",
    "    ordered_duplicate_submissions = sorted(\n",
    "        duplicate_submissions, key=lambda x: x.created_utc\n",
    "    )\n",
    "    \n",
    "    print(\"duplicates:\")\n",
    "    for duplicate_submission in ordered_duplicate_submissions:\n",
    "        print(\"  subreddit: \" + str(duplicate_submission.subreddit))\n",
    "\n",
    "    print()\n"
   ]
  }
 ],
 "metadata": {
  "kernelspec": {
   "display_name": "Python 3 (ipykernel)",
   "language": "python",
   "name": "python3"
  },
  "language_info": {
   "codemirror_mode": {
    "name": "ipython",
    "version": 3
   },
   "file_extension": ".py",
   "mimetype": "text/x-python",
   "name": "python",
   "nbconvert_exporter": "python",
   "pygments_lexer": "ipython3",
   "version": "3.12.0"
  }
 },
 "nbformat": 4,
 "nbformat_minor": 5
}
