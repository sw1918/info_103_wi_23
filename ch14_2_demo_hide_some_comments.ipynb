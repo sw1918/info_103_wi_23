{
 "cells": [
  {
   "cell_type": "markdown",
   "id": "0cd4388e-b71c-4bd1-a60e-d2ef3933f3de",
   "metadata": {},
   "source": [
    "# Demo: Hide Some Comments\n",
    "\n",
    "Now we will use our code from before, but we will skip displaying some comments, and we can make up whatever rule we want to do this.\n",
    "\n",
    "First let's make our fake conversation data:"
   ]
  },
  {
   "cell_type": "code",
   "execution_count": 1,
   "id": "5f9c5c6e-940e-4910-b0d4-a843669b261b",
   "metadata": {},
   "outputs": [],
   "source": [
    "comment_about_exam = {\n",
    "    'text': 'That last exam in sure was hard!',\n",
    "    'replies':[{\n",
    "        'text': 'It sure was hard, what score did you get? ',\n",
    "        'replies': [{\n",
    "            'text': 'I got a 67% :(',\n",
    "            'replies': []\n",
    "        },{\n",
    "            'text': 'I got a 73%',\n",
    "            'replies': []\n",
    "        }]\n",
    "    }, {\n",
    "        'text': 'I didn\\'t think it was that bad',\n",
    "        'replies': [{\n",
    "            'text': 'how was that not a super hard exam?',\n",
    "            'replies': []\n",
    "        }, {\n",
    "            'text': 'of course you didn\\'t',\n",
    "            'replies': [{\n",
    "                'text': 'what\\'s that supposed to mean?',\n",
    "                'replies': [{\n",
    "                    'text': 'you\\'re an overacheiver',\n",
    "                    'replies': [{\n",
    "                        'text': 'and that\\'s bad how?',\n",
    "                        'replies': []\n",
    "                    }]\n",
    "                }]\n",
    "            }]\n",
    "        }]\n",
    "    }]\n",
    "}"
   ]
  },
  {
   "cell_type": "markdown",
   "id": "9badcac1-e8f5-446a-82cf-df51e704359e",
   "metadata": {},
   "source": [
    "We'll copy that function to help us display the tweets nicely again too"
   ]
  },
  {
   "cell_type": "code",
   "execution_count": 2,
   "id": "dd2d3325-37ca-4d13-b1cf-09c962654e2c",
   "metadata": {},
   "outputs": [],
   "source": [
    "from IPython.display import HTML, Image, display\n",
    "import html\n",
    "def display_indented(text, left_margin=0):\n",
    "    display(\n",
    "        HTML(\n",
    "            \"<pre style='border:solid 1px;padding:3px;margin-left:\"+ str(left_margin) + \"px'>\" + \n",
    "            html.escape(text) + \n",
    "            \"</pre>\"\n",
    "        )\n",
    "    )"
   ]
  },
  {
   "cell_type": "markdown",
   "id": "9a7881dd-f2f4-41d7-b027-23bf46123d76",
   "metadata": {},
   "source": [
    "## Display everything\n",
    "\n",
    "If we want to display everything, we can use the recursive function from the last section:"
   ]
  },
  {
   "cell_type": "code",
   "execution_count": 3,
   "id": "1c22b0d6-50ea-436f-b101-527b2f58f8ce",
   "metadata": {},
   "outputs": [],
   "source": [
    "def print_comment_and_replies(comment, num_indents=0):\n",
    "    # print indented tweet\n",
    "    display_indented(comment['text'], left_margin=num_indents*20)\n",
    "    \n",
    "    #print replies (and the replies of those, etc.)\n",
    "    for reply in comment['replies']:\n",
    "        print_comment_and_replies(reply, num_indents = num_indents + 1)"
   ]
  },
  {
   "cell_type": "markdown",
   "id": "303bb992-7e66-4cad-beb7-6db83a945300",
   "metadata": {},
   "source": [
    "And when we test this out, we can see the result"
   ]
  },
  {
   "cell_type": "code",
   "execution_count": 4,
   "id": "44cdabd3-5c6c-4b38-8fc8-4b3dfeae11c7",
   "metadata": {},
   "outputs": [
    {
     "data": {
      "text/html": [
       "<pre style='border:solid 1px;padding:3px;margin-left:0px'>That last exam in sure was hard!</pre>"
      ],
      "text/plain": [
       "<IPython.core.display.HTML object>"
      ]
     },
     "metadata": {},
     "output_type": "display_data"
    },
    {
     "data": {
      "text/html": [
       "<pre style='border:solid 1px;padding:3px;margin-left:20px'>It sure was hard, what score did you get? </pre>"
      ],
      "text/plain": [
       "<IPython.core.display.HTML object>"
      ]
     },
     "metadata": {},
     "output_type": "display_data"
    },
    {
     "data": {
      "text/html": [
       "<pre style='border:solid 1px;padding:3px;margin-left:40px'>I got a 67% :(</pre>"
      ],
      "text/plain": [
       "<IPython.core.display.HTML object>"
      ]
     },
     "metadata": {},
     "output_type": "display_data"
    },
    {
     "data": {
      "text/html": [
       "<pre style='border:solid 1px;padding:3px;margin-left:40px'>I got a 73%</pre>"
      ],
      "text/plain": [
       "<IPython.core.display.HTML object>"
      ]
     },
     "metadata": {},
     "output_type": "display_data"
    },
    {
     "data": {
      "text/html": [
       "<pre style='border:solid 1px;padding:3px;margin-left:20px'>I didn&#x27;t think it was that bad</pre>"
      ],
      "text/plain": [
       "<IPython.core.display.HTML object>"
      ]
     },
     "metadata": {},
     "output_type": "display_data"
    },
    {
     "data": {
      "text/html": [
       "<pre style='border:solid 1px;padding:3px;margin-left:40px'>how was that not a super hard exam?</pre>"
      ],
      "text/plain": [
       "<IPython.core.display.HTML object>"
      ]
     },
     "metadata": {},
     "output_type": "display_data"
    },
    {
     "data": {
      "text/html": [
       "<pre style='border:solid 1px;padding:3px;margin-left:40px'>of course you didn&#x27;t</pre>"
      ],
      "text/plain": [
       "<IPython.core.display.HTML object>"
      ]
     },
     "metadata": {},
     "output_type": "display_data"
    },
    {
     "data": {
      "text/html": [
       "<pre style='border:solid 1px;padding:3px;margin-left:60px'>what&#x27;s that supposed to mean?</pre>"
      ],
      "text/plain": [
       "<IPython.core.display.HTML object>"
      ]
     },
     "metadata": {},
     "output_type": "display_data"
    },
    {
     "data": {
      "text/html": [
       "<pre style='border:solid 1px;padding:3px;margin-left:80px'>you&#x27;re an overacheiver</pre>"
      ],
      "text/plain": [
       "<IPython.core.display.HTML object>"
      ]
     },
     "metadata": {},
     "output_type": "display_data"
    },
    {
     "data": {
      "text/html": [
       "<pre style='border:solid 1px;padding:3px;margin-left:100px'>and that&#x27;s bad how?</pre>"
      ],
      "text/plain": [
       "<IPython.core.display.HTML object>"
      ]
     },
     "metadata": {},
     "output_type": "display_data"
    }
   ],
   "source": [
    "print_comment_and_replies(comment_about_exam)"
   ]
  },
  {
   "cell_type": "markdown",
   "id": "ab2008d2-c2e5-4ff3-bcd5-3805c25ba4a6",
   "metadata": {},
   "source": [
    "## Display only some\n",
    "If we want to make a rule for what to display, we will first make a new function called `should_display` which will look at a comment/reply and return `True` if it should be displayed, or `False` if it should be hidden.\n",
    "\n",
    "For our first rule, let's say we will display all messages that are more than 16 characters long. If a comment/reply is shorter than that, we won't display it or any of the replies to it."
   ]
  },
  {
   "cell_type": "code",
   "execution_count": 5,
   "id": "bf33fdf3-38cb-4f08-bdec-a30ba7935b69",
   "metadata": {},
   "outputs": [],
   "source": [
    "def should_display(comment):\n",
    "    # only display if the length of the comment text is more than 20 characters long \n",
    "    if(len(comment[\"text\"]) > 20):\n",
    "        return True\n",
    "    else:\n",
    "        return False"
   ]
  },
  {
   "cell_type": "markdown",
   "id": "35555025-3dda-4035-9db7-1f16fa4d56bd",
   "metadata": {},
   "source": [
    "Now we will make a new version of our recursive `print_tweet_and_replies` with an added `if` statement that checks whether the `should_display` function says if we should display that comment and its replies:"
   ]
  },
  {
   "cell_type": "code",
   "execution_count": 6,
   "id": "a9d802f0-d235-4edf-9627-8310b54008bb",
   "metadata": {},
   "outputs": [],
   "source": [
    "def print_comment_and_replies(comment, num_indents=0):\n",
    "    if(should_display(comment)):\n",
    "        # print indented tweet\n",
    "        display_indented(comment['text'], left_margin=num_indents*20)\n",
    "\n",
    "        #print replies (and the replies of those, etc.)\n",
    "        for reply in comment['replies']:\n",
    "            print_comment_and_replies(reply, num_indents = num_indents + 1)"
   ]
  },
  {
   "cell_type": "markdown",
   "id": "eba2f8a7-2ce9-4a5b-a6fc-93a3cdb618fb",
   "metadata": {},
   "source": [
    "Now let's test it out and see that fewer of the messages were printed out (only the long ones)"
   ]
  },
  {
   "cell_type": "code",
   "execution_count": 7,
   "id": "99385f94-ebea-4d3b-8868-d20f457c66cf",
   "metadata": {},
   "outputs": [
    {
     "data": {
      "text/html": [
       "<pre style='border:solid 1px;padding:3px;margin-left:0px'>That last exam in sure was hard!</pre>"
      ],
      "text/plain": [
       "<IPython.core.display.HTML object>"
      ]
     },
     "metadata": {},
     "output_type": "display_data"
    },
    {
     "data": {
      "text/html": [
       "<pre style='border:solid 1px;padding:3px;margin-left:20px'>It sure was hard, what score did you get? </pre>"
      ],
      "text/plain": [
       "<IPython.core.display.HTML object>"
      ]
     },
     "metadata": {},
     "output_type": "display_data"
    },
    {
     "data": {
      "text/html": [
       "<pre style='border:solid 1px;padding:3px;margin-left:20px'>I didn&#x27;t think it was that bad</pre>"
      ],
      "text/plain": [
       "<IPython.core.display.HTML object>"
      ]
     },
     "metadata": {},
     "output_type": "display_data"
    },
    {
     "data": {
      "text/html": [
       "<pre style='border:solid 1px;padding:3px;margin-left:40px'>how was that not a super hard exam?</pre>"
      ],
      "text/plain": [
       "<IPython.core.display.HTML object>"
      ]
     },
     "metadata": {},
     "output_type": "display_data"
    }
   ],
   "source": [
    "print_comment_and_replies(comment_about_exam)"
   ]
  },
  {
   "cell_type": "markdown",
   "id": "e775eb88-ff78-4d69-a971-4ff4e7157cd6",
   "metadata": {},
   "source": [
    "## Making up new rules\n",
    "We can make up whatever rules we want for what to display. For example, we might search for offensive words and hide those, or we could hide ones with negative sentiment. \n",
    "\n",
    "As one more simple example here, we will make a new rule that only displays a message if it got replies (we will assume that if no one bothered to reply, than it isn't worth displaying).\n",
    "\n",
    "To make this change we will redefine our `should_display` function with the new rule, and then re-run `print_tweet_and_replies`"
   ]
  },
  {
   "cell_type": "code",
   "execution_count": 8,
   "id": "81c1805d-afcb-4ae1-bdc1-cd6674b4377f",
   "metadata": {},
   "outputs": [],
   "source": [
    "def should_display(comment):\n",
    "    # only display if there are more than 0 replies\n",
    "    if(len(comment[\"replies\"]) > 0):\n",
    "        return True\n",
    "    else:\n",
    "        return False"
   ]
  },
  {
   "cell_type": "code",
   "execution_count": 9,
   "id": "c3d81538-51c7-4367-b91c-ee302984341b",
   "metadata": {},
   "outputs": [
    {
     "data": {
      "text/html": [
       "<pre style='border:solid 1px;padding:3px;margin-left:0px'>That last exam in sure was hard!</pre>"
      ],
      "text/plain": [
       "<IPython.core.display.HTML object>"
      ]
     },
     "metadata": {},
     "output_type": "display_data"
    },
    {
     "data": {
      "text/html": [
       "<pre style='border:solid 1px;padding:3px;margin-left:20px'>It sure was hard, what score did you get? </pre>"
      ],
      "text/plain": [
       "<IPython.core.display.HTML object>"
      ]
     },
     "metadata": {},
     "output_type": "display_data"
    },
    {
     "data": {
      "text/html": [
       "<pre style='border:solid 1px;padding:3px;margin-left:20px'>I didn&#x27;t think it was that bad</pre>"
      ],
      "text/plain": [
       "<IPython.core.display.HTML object>"
      ]
     },
     "metadata": {},
     "output_type": "display_data"
    },
    {
     "data": {
      "text/html": [
       "<pre style='border:solid 1px;padding:3px;margin-left:40px'>of course you didn&#x27;t</pre>"
      ],
      "text/plain": [
       "<IPython.core.display.HTML object>"
      ]
     },
     "metadata": {},
     "output_type": "display_data"
    },
    {
     "data": {
      "text/html": [
       "<pre style='border:solid 1px;padding:3px;margin-left:60px'>what&#x27;s that supposed to mean?</pre>"
      ],
      "text/plain": [
       "<IPython.core.display.HTML object>"
      ]
     },
     "metadata": {},
     "output_type": "display_data"
    },
    {
     "data": {
      "text/html": [
       "<pre style='border:solid 1px;padding:3px;margin-left:80px'>you&#x27;re an overacheiver</pre>"
      ],
      "text/plain": [
       "<IPython.core.display.HTML object>"
      ]
     },
     "metadata": {},
     "output_type": "display_data"
    }
   ],
   "source": [
    "print_comment_and_replies(comment_about_exam)"
   ]
  },
  {
   "cell_type": "code",
   "execution_count": null,
   "id": "c7b786f5-471a-40c3-b789-61c4229bdc7a",
   "metadata": {},
   "outputs": [],
   "source": []
  }
 ],
 "metadata": {
  "kernelspec": {
   "display_name": "Python 3 (ipykernel)",
   "language": "python",
   "name": "python3"
  },
  "language_info": {
   "codemirror_mode": {
    "name": "ipython",
    "version": 3
   },
   "file_extension": ".py",
   "mimetype": "text/x-python",
   "name": "python",
   "nbconvert_exporter": "python",
   "pygments_lexer": "ipython3",
   "version": "3.10.4"
  }
 },
 "nbformat": 4,
 "nbformat_minor": 5
}
