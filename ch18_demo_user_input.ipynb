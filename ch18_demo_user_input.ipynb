{
 "cells": [
  {
   "cell_type": "markdown",
   "id": "86ade5c2-99e3-46e1-9d47-01a988b50ba9",
   "metadata": {},
   "source": [
    "# Demo of User Input\n",
    "\n",
    "We can ask the user to type something in using the `input` function"
   ]
  },
  {
   "cell_type": "code",
   "execution_count": 1,
   "id": "46213759-3bd8-4b61-9062-6d8e937ca0e7",
   "metadata": {},
   "outputs": [
    {
     "name": "stdin",
     "output_type": "stream",
     "text": [
      "Type something in here: Hi there!\n"
     ]
    }
   ],
   "source": [
    "user_input = input(\"Type something in here:\")"
   ]
  },
  {
   "cell_type": "code",
   "execution_count": 12,
   "id": "ca0970a4-c07c-4c8f-a38c-539bd1b6eb0a",
   "metadata": {},
   "outputs": [
    {
     "name": "stdin",
     "output_type": "stream",
     "text": [
      "Type something in here: sdaf\n"
     ]
    },
    {
     "name": "stdout",
     "output_type": "stream",
     "text": [
      "you typed in: sdaf\n"
     ]
    }
   ],
   "source": [
    "user_input = input(\"Type something in here:\")\n",
    "\n",
    "print(\"you typed in: \" + user_input)"
   ]
  },
  {
   "cell_type": "code",
   "execution_count": 8,
   "id": "cfad78fa-e269-4974-b2a2-b792e30e81e1",
   "metadata": {},
   "outputs": [
    {
     "name": "stdin",
     "output_type": "stream",
     "text": [
      "Choose your action: \n",
      "  1. list latest messages \n",
      "  2. delete last message \n",
      " 1\n"
     ]
    },
    {
     "name": "stdout",
     "output_type": "stream",
     "text": [
      "Pretending to print the latest messages:\n",
      "  1. I am angry at everyone\n",
      "  2. How are you all today\n",
      "\n"
     ]
    }
   ],
   "source": [
    "user_input = input(\"Choose your action: \\n\" +\n",
    "                   \"  1. list latest messages \\n\" + \n",
    "                   \"  2. delete last message \\n\"\n",
    "                  )\n",
    "\n",
    "if user_input == \"1\":\n",
    "    print(\"Pretending to print the latest messages:\")\n",
    "    print(\"  1. I am angry at everyone\")\n",
    "    print(\"  2. How are you all today\")\n",
    "    print()\n",
    "elif user_input == \"2\":\n",
    "    print(\"Pretending to delete the latest message\")\n",
    "    print()"
   ]
  },
  {
   "cell_type": "markdown",
   "id": "c2291de5-4db6-466d-b9a5-f9f0482c6e93",
   "metadata": {},
   "source": [
    "## Use a while loop to repeat actions"
   ]
  },
  {
   "cell_type": "code",
   "execution_count": 10,
   "id": "6a32acd9-8424-40e9-8654-e085673746a7",
   "metadata": {},
   "outputs": [
    {
     "name": "stdin",
     "output_type": "stream",
     "text": [
      "Choose your action: \n",
      "  1. list latest messages \n",
      "  2. delete last message \n",
      "  3. apologize for last message \n",
      "  Type 'exit' when you are done \n",
      " 1\n"
     ]
    },
    {
     "name": "stdout",
     "output_type": "stream",
     "text": [
      "Pretending to print the latest messages:\n",
      "  1. I am angry at everyone\n",
      "  2. How are you all today\n",
      "\n"
     ]
    },
    {
     "name": "stdin",
     "output_type": "stream",
     "text": [
      "Choose your action: \n",
      "  1. list latest messages \n",
      "  2. delete last message \n",
      "  3. apologize for last message \n",
      "  Type 'exit' when you are done \n",
      " 3\n"
     ]
    },
    {
     "name": "stdout",
     "output_type": "stream",
     "text": [
      "Pretending to post this message:\n",
      "   Sorry about that last message! I didn't mean it!\n",
      "\n"
     ]
    },
    {
     "name": "stdin",
     "output_type": "stream",
     "text": [
      "Choose your action: \n",
      "  1. list latest messages \n",
      "  2. delete last message \n",
      "  3. apologize for last message \n",
      "  Type 'exit' when you are done \n",
      " exit\n"
     ]
    }
   ],
   "source": [
    "# temporarily save something in user_input so we can start our loop\n",
    "user_input = \"temporary_fake_input\"\n",
    "\n",
    "while user_input != \"exit\":\n",
    "    user_input = input(\"Choose your action: \\n\" +\n",
    "                   \"  1. list latest messages \\n\" + \n",
    "                   \"  2. delete last message \\n\" +\n",
    "                   \"  3. apologize for last message \\n\" + \n",
    "                   \"  Type 'exit' when you are done \\n\" \n",
    "                  )\n",
    "\n",
    "    if user_input == \"1\":\n",
    "        print(\"Pretending to print the latest messages:\")\n",
    "        print(\"  1. I am angry at everyone\")\n",
    "        print(\"  2. How are you all today\")\n",
    "        print()\n",
    "    elif user_input == \"2\":\n",
    "        print(\"Pretending to delete the latest message\")\n",
    "        print()\n",
    "    elif user_input == \"3\":\n",
    "        print(\"Pretending to post this message:\")\n",
    "        print(\"   Sorry about that last message! I didn't mean it!\")\n",
    "        print()"
   ]
  },
  {
   "cell_type": "code",
   "execution_count": null,
   "id": "c96658d1-b01a-4c99-966f-619228d214f1",
   "metadata": {},
   "outputs": [],
   "source": []
  }
 ],
 "metadata": {
  "kernelspec": {
   "display_name": "Python 3 (ipykernel)",
   "language": "python",
   "name": "python3"
  },
  "language_info": {
   "codemirror_mode": {
    "name": "ipython",
    "version": 3
   },
   "file_extension": ".py",
   "mimetype": "text/x-python",
   "name": "python",
   "nbconvert_exporter": "python",
   "pygments_lexer": "ipython3",
   "version": "3.9.7"
  }
 },
 "nbformat": 4,
 "nbformat_minor": 5
}
