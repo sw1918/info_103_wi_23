{
 "cells": [
  {
   "cell_type": "markdown",
   "id": "575c553f-449d-458b-b501-379c82e47fa3",
   "metadata": {},
   "source": [
    "# Practice: Recursive block list\n",
    "\n",
    "Let's say some user has been annoying you on Twitter. Like, really annoying you. It's not enough to block them, but you want to block everyone who has the nerve to follow them, and the people who follow those people, and so on. \n",
    "\n",
    "For this practice, you'll start with an empty list of users you've blocked (\"block_list\"), and some data about who follows who on Twitter. Write a recursive function that accepts a user (this will be a dictionary object), and a \"degrees of separation\" parameter telling you how many layers deep to block people. For example, if I call this function like, recursive_block(spencer_williams, 2), it should block Spencer Williams, everyone who follows Spencer Williams, and everyone who follows the people who follow Spencer Williams (e.g. 2 layers into Spencer Williams's followers). \n",
    "\n",
    "First, run the code to set up the variables:"
   ]
  },
  {
   "cell_type": "code",
   "execution_count": 12,
   "id": "a3a2f07b-5400-4bd4-9888-54b605202b32",
   "metadata": {},
   "outputs": [],
   "source": [
    "spongebob = {\"name\": \"Spongebob Squarepants\",\n",
    "           \"followers\": [\n",
    "               {\"name\": \"Squidward Tentacles\",\n",
    "                \"followers\": [\n",
    "                    {\"name\": \"Squilliam Fancyson\",\n",
    "                     \"followers\": [\n",
    "                         {\"name\": \"Bob the Fish\",\n",
    "                          \"followers\": []},\n",
    "                         {\"name\": \"Fred the Fish\",\n",
    "                          \"followers\": [\n",
    "                              {\"name\": \"Mermaid Man\",\n",
    "                               \"followers\": []},\n",
    "                              {\"name\": \"Barnacle Boy\",\n",
    "                               \"followers\": []},\n",
    "                          ]}]},\n",
    "                    {\"name\": \"Squidward's Mom\",\n",
    "                     \"followers\": []}]},\n",
    "               {\"name\": \"Patrick Star\",\n",
    "                \"followers\": [\n",
    "                    {\"name\": \"Janet\",\n",
    "                     \"followers\": []},\n",
    "                    {\"name\": \"Marty\",\n",
    "                     \"followers\": []}]},\n",
    "               {\"name\": \"Sandy Cheeks\",\n",
    "                \"followers\": [\n",
    "                    {\"name\": \"Mrs. Puff\",\n",
    "                     \"followers\": []},\n",
    "                    {\"name\": \"Mr. Krabs\",\n",
    "                     \"followers\": []},\n",
    "                    {\"name\": \"The Flying Dutchman\",\n",
    "                     \"followers\": []}]}\n",
    "                ]}\n",
    "\n",
    "mario = {\"name\": \"Mario\",\n",
    "           \"followers\": [\n",
    "               {\"name\": \"Luigi\",\n",
    "                \"followers\": [\n",
    "                    {\"name\": \"Professor Gad\",\n",
    "                     \"followers\": [\n",
    "                         {\"name\": \"Big Boo\",\n",
    "                          \"followers\": []}]},\n",
    "                    {\"name\": \"Princess Daisy\",\n",
    "                     \"followers\": []}]},\n",
    "               {\"name\": \"Princess Peach\",\n",
    "                \"followers\": [\n",
    "                    {\"name\": \"Bowser\",\n",
    "                     \"followers\": [\n",
    "                         {\"name\": \"Bowser Jr.\",\n",
    "                          \"followers\": [\n",
    "                              {\"name\": \"Ill Piannisimo\",\n",
    "                               \"followers\":[]}\n",
    "                          ]},\n",
    "                         {\"name\": \"Wendy Koopa\",\n",
    "                          \"followers\": []}\n",
    "                     ]},\n",
    "                    {\"name\": \"Toad\",\n",
    "                     \"followers\": []}\n",
    "                ]},\n",
    "               {\"name\": \"Donkey Kong\",\n",
    "                \"followers\": []}\n",
    "                ]}"
   ]
  },
  {
   "cell_type": "markdown",
   "id": "807167de-0b4c-4097-81cf-6160e506b853",
   "metadata": {},
   "source": [
    "Now, write a recursive function that accepts two arguments; a person to block, and an integer describing how many layers deep to block. Your function should add the name of everyone who gets blocked to the block_list. "
   ]
  },
  {
   "cell_type": "code",
   "execution_count": null,
   "id": "026aabdc-3c3c-45e9-a3c7-714b845c3c3d",
   "metadata": {},
   "outputs": [],
   "source": [
    "block_list = []\n",
    "\n",
    "def recursive_block(person, layers):\n",
    "    #your code here"
   ]
  }
 ],
 "metadata": {
  "kernelspec": {
   "display_name": "Python 3 (ipykernel)",
   "language": "python",
   "name": "python3"
  },
  "language_info": {
   "codemirror_mode": {
    "name": "ipython",
    "version": 3
   },
   "file_extension": ".py",
   "mimetype": "text/x-python",
   "name": "python",
   "nbconvert_exporter": "python",
   "pygments_lexer": "ipython3",
   "version": "3.12.5"
  }
 },
 "nbformat": 4,
 "nbformat_minor": 5
}
