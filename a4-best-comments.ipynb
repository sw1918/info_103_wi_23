{
 "cells": [
  {
   "attachments": {},
   "cell_type": "markdown",
   "id": "0cd4388e-b71c-4bd1-a60e-d2ef3933f3de",
   "metadata": {},
   "source": [
    "# A4: Best Comments"
   ]
  },
  {
   "attachments": {},
   "cell_type": "markdown",
   "id": "5fdfe7cf-3641-4919-9d56-f3b8c74b7b96",
   "metadata": {},
   "source": [
    "In this assignment you will be modifying a recursive function that prints a comments and replies on a reddit post. Your goal will be to only show the best comments and replies. It will be up to you to decide what rules you use to decide which comments are the best comments."
   ]
  },
  {
   "attachments": {},
   "cell_type": "markdown",
   "id": "cb900b5a-c199-47b8-95a9-417d44a786ab",
   "metadata": {
    "tags": []
   },
   "source": [
    "## Reddit Praw Setup"
   ]
  },
  {
   "cell_type": "code",
   "execution_count": 2,
   "id": "883641dc-a5a4-47d7-ba9c-3532e9df58d8",
   "metadata": {},
   "outputs": [],
   "source": [
    "# make sure praw library is installed\n",
    "import praw"
   ]
  },
  {
   "cell_type": "code",
   "execution_count": 3,
   "id": "d42b7010-2690-4efb-b404-02682e39b559",
   "metadata": {},
   "outputs": [],
   "source": [
    "%run reddit_keys.py"
   ]
  },
  {
   "cell_type": "code",
   "execution_count": 4,
   "id": "9c7a1f06-fb4d-4ce6-bd0b-de421420a198",
   "metadata": {},
   "outputs": [],
   "source": [
    "# Give the praw code your reddit account info so\n",
    "# it can perform reddit actions\n",
    "reddit = praw.Reddit(\n",
    "    username=username, password=password,\n",
    "    client_id=client_id, client_secret=client_secret,\n",
    "    user_agent=\"a custom python script for user /\" + str(username)\n",
    ")"
   ]
  },
  {
   "attachments": {},
   "cell_type": "markdown",
   "id": "da45bc67-b72b-45ef-8f70-7eedf9261945",
   "metadata": {},
   "source": [
    "### Helper function to display text in an indented box\n",
    "(You don't need to worry about how this works)"
   ]
  },
  {
   "cell_type": "code",
   "execution_count": 6,
   "id": "98574fd2-9380-4653-8b42-d5f00fd634c3",
   "metadata": {},
   "outputs": [],
   "source": [
    "from IPython.display import HTML, Image, display\n",
    "import html\n",
    "def display_indented(text, left_margin=0, color=\"white\"):\n",
    "    display(\n",
    "        HTML(\n",
    "            \"<pre style='border:solid 1px;padding:3px;margin-left:\"+str(left_margin)+\"px;background-color:\"+color+\"'>\" + \n",
    "            html.escape(text) + \n",
    "            \"</pre>\"\n",
    "        )\n",
    "    )"
   ]
  },
  {
   "attachments": {},
   "cell_type": "markdown",
   "id": "d37b46e5-c941-4ac9-a95f-a16061ecf7cf",
   "metadata": {
    "tags": []
   },
   "source": [
    "## Code to print a post with all comments and replies\n",
    "We are providing these function that recursively prints all comments and replies, but depends on whether a `should_display` function returns True or False to decide if it actually displays a comment. (Note: if a `should_display` comes back false for a comment, the comment wont be displayed, nor will any replies to it)\n",
    "\n",
    "The `print_post_and_replies` is a function that takes a postId (instructions on where to get one later), prints information about that post, and then uses the `print_comment_and_replies` function to print out all comments and replies."
   ]
  },
  {
   "cell_type": "code",
   "execution_count": 7,
   "id": "f80fa629-1b46-4287-8f51-0dadc13532e5",
   "metadata": {},
   "outputs": [],
   "source": [
    "def print_post_and_replies(postId, show_hidden=False):\n",
    "    submission = reddit.submission(postId)\n",
    "    \n",
    "    print(\"Comments and replies for post from /\"+ submission.subreddit.display_name + \":\" )\n",
    "    display(HTML('<a href=\"'+\"https://www.reddit.com/\" + submission.permalink +'\">'+submission.title+'</a>'))\n",
    "    \n",
    "    submission.comment_sort = \"old\"\n",
    "    submission.comments.replace_more()\n",
    "    comments = submission.comments\n",
    "    \n",
    "    for comment in comments:\n",
    "        print_comment_and_replies(comment, show_hidden=show_hidden)"
   ]
  },
  {
   "attachments": {},
   "cell_type": "markdown",
   "id": "6d28fb60-3e2b-40e1-a3cb-c3b4afac9649",
   "metadata": {},
   "source": [
    "The `print_post_and_replies` function recursively prints a comment as well as all replies to that comment, as well as all replies to those replies, etc."
   ]
  },
  {
   "cell_type": "code",
   "execution_count": 8,
   "id": "d0b83265-3a27-47a3-a68a-5d3293ed7a3d",
   "metadata": {},
   "outputs": [],
   "source": [
    "def print_comment_and_replies(comment, num_indents=0, show_hidden=False):\n",
    "    \n",
    "    replies = comment.replies\n",
    "\n",
    "    display_text = (\n",
    "        comment.body + \"\\n\" +\n",
    "        \"-- \" + str(comment.author) + \n",
    "        \" (score \" + str(comment.score) + \")\"\n",
    "    )\n",
    "    \n",
    "    if(should_display(comment)):# should_display(tweet_with_replies, tweet_info, replies, author_info, public_metrics)):\n",
    "        display_indented(display_text, num_indents*20)\n",
    "\n",
    "        #print replies (and the replies of those, etc.)\n",
    "        for reply in replies:\n",
    "            print_comment_and_replies(reply, num_indents = num_indents + 1, show_hidden=show_hidden)\n",
    "    \n",
    "    elif(show_hidden): #If we want to still see which posts we are hiding, color them LightCoral so we can see they are hidden\n",
    "        display_indented(display_text, num_indents*20, color='LightCoral')"
   ]
  },
  {
   "attachments": {},
   "cell_type": "markdown",
   "id": "495e8a4a-d02d-401c-8ec9-780c14779a9a",
   "metadata": {},
   "source": [
    "## TODO: Create Your Content Moderation Algorithm\n",
    "Your job is to invent and implement your own rule inside the `should_display` function for what comments count as the \"best comments\" and therefore should be displayed. The rule can be complicated or simple, it just can't be the same as the current rule. You can aim for focusing on only hiding a few comments that you judge are bad, or for only showing a few comments you judge are the very best, or a combination of those.\n",
    "\n",
    "When you are making your rule you may want to use different comparison operators (like == for equals, > for greater than, etc.) and different logical operators (like `and` for both things must be true, `or` for at least one thing must be true, etc.). See a list of operators here: https://www.w3schools.com/python/python_operators.asp\n",
    "\n",
    "Some things you can use when you are deciding whether to display a tweet or not:\n",
    "\n",
    "* The text of the commnet: `comment.body`\n",
    "* The score of the comment: `comment.score`\n",
    "* If the comment is \"distinguished\": `comment.distinguished`\n",
    "* If the comment was edited: `comment.edited`\n",
    "* If the comment was made by the author of the original post: `comment.is_submitter`\n",
    "* The number of replies: `len(comment.replies)`\n",
    "\n",
    "You can see more by looking at the official documentation for [lists of attributes of a comment](https://praw.readthedocs.io/en/stable/code_overview/models/comment.html.\n",
    "\n",
    "You can also look at attributes of the author such as (though you'll have to do an extra `if comment.author` check to make sure the author exists):\n",
    "* author name: `comment.author.name`\n",
    "* author comment karma: `comment.author.comment_karma`\n",
    "* author link karma: `comment.author.link_karma`\n",
    "\n",
    "You can see more by looking at [lists of attributes of a redditor](https://praw.readthedocs.io/en/stable/code_overview/models/redditor.html#praw.models.Redditor)\n",
    "\n",
    "* You can use any other information you can figure out about the comment as well, such as the sentiment analysis that was demoed previously.\n"
   ]
  },
  {
   "cell_type": "code",
   "execution_count": 11,
   "id": "375318e4-346d-494d-9425-50fed7e0dc49",
   "metadata": {},
   "outputs": [],
   "source": [
    "def should_display(comment):\n",
    "    #TODO: Make your own rule\n",
    "    \n",
    "    # for a demonstration, we only display comments with the lower case letters \"the\" \n",
    "    # Note: that the way we are checking here, a comment that has the word \"there\" would show up\n",
    "    #       since \"the\" appears in \"there\"\n",
    "    has_letters_the = \"the\" in comment.body\n",
    "    \n",
    "    if(has_letters_the):\n",
    "        return True\n",
    "    else:\n",
    "        return False"
   ]
  },
  {
   "attachments": {},
   "cell_type": "markdown",
   "id": "b8d5835b-ef1d-45a3-a101-065e94cc0d17",
   "metadata": {},
   "source": [
    "## Finding post IDs and testing our code\n",
    "In order to test it out, we need to find an id of a reddit post that has comments on it. Once you have a reddit post open in your browser, find or copy the url website address and look for the piece of random letters after `https://www.reddit.com/r/[subredditname]/comments/`, which is the id.\n",
    "\n",
    "For example, in this post, the id is 'fuulky':\n",
    "![Screenshot of reddit with a post up. The website url is \"https://www.reddit.com//r/MovieDetails/comments/fuulky/in_little_women_2019_laurie_and_jo_swap_articles/\". There is a circle drawn around the letters \"fuulky\" which appears after \"comments/\"](./imgs/get_reddit_post_id.png)\n",
    "\n",
    "Now we can test it out by calling the `print_post_and_replies` with the string `'fuulky'` as the argument, and see what comments are displayed.\n",
    "\n",
    "As you work on your changes to the `should_display` function, you can test it out on different threads by looking up more ids, like: `'vfs5oh'` and `'lzvvwp'`."
   ]
  },
  {
   "cell_type": "code",
   "execution_count": 13,
   "id": "cb70bbcf-2585-426e-b5ff-55ca84a1f35d",
   "metadata": {},
   "outputs": [
    {
     "name": "stdout",
     "output_type": "stream",
     "text": [
      "Comments and replies for post from /MovieDetails:\n"
     ]
    },
    {
     "data": {
      "text/html": [
       "<a href=\"https://www.reddit.com//r/MovieDetails/comments/fuulky/in_little_women_2019_laurie_and_jo_swap_articles/\">In Little Women (2019), Laurie and Jo swap articles of clothing</a>"
      ],
      "text/plain": [
       "<IPython.core.display.HTML object>"
      ]
     },
     "metadata": {},
     "output_type": "display_data"
    },
    {
     "data": {
      "text/html": [
       "<pre style='border:solid 1px;padding:3px;margin-left:0px;background-color:white'>Attention to detail like that helped it win the Oscar for best costumes.\n",
       "-- tomandshell (score 50)</pre>"
      ],
      "text/plain": [
       "<IPython.core.display.HTML object>"
      ]
     },
     "metadata": {},
     "output_type": "display_data"
    },
    {
     "data": {
      "text/html": [
       "<pre style='border:solid 1px;padding:3px;margin-left:0px;background-color:white'>And then they realized, they were no longer little girls...they were little women.\n",
       "-- Dr_Immense_Sack (score 37)</pre>"
      ],
      "text/plain": [
       "<IPython.core.display.HTML object>"
      ]
     },
     "metadata": {},
     "output_type": "display_data"
    },
    {
     "data": {
      "text/html": [
       "<pre style='border:solid 1px;padding:3px;margin-left:20px;background-color:white'>Oh! Like the title!\n",
       "-- cjdennis29 (score 10)</pre>"
      ],
      "text/plain": [
       "<IPython.core.display.HTML object>"
      ]
     },
     "metadata": {},
     "output_type": "display_data"
    },
    {
     "data": {
      "text/html": [
       "<pre style='border:solid 1px;padding:3px;margin-left:0px;background-color:white'>One of last year’s best movies, Greta Gerwig should have earned an Oscar nomination for her direction. And the cast is incredible, the young girls have amazing chemistry together.\n",
       "-- Helloedd (score 27)</pre>"
      ],
      "text/plain": [
       "<IPython.core.display.HTML object>"
      ]
     },
     "metadata": {},
     "output_type": "display_data"
    },
    {
     "data": {
      "text/html": [
       "<pre style='border:solid 1px;padding:3px;margin-left:20px;background-color:white'>HOW does a movie get nominated for; best picture, best actress, best supporting actress, best adapted screenplay, plus costume and score, and NOT get nominated for best director? WHat am I missing about the nomination process?\n",
       "-- pblack177 (score 11)</pre>"
      ],
      "text/plain": [
       "<IPython.core.display.HTML object>"
      ]
     },
     "metadata": {},
     "output_type": "display_data"
    },
    {
     "data": {
      "text/html": [
       "<pre style='border:solid 1px;padding:3px;margin-left:0px;background-color:white'>That’s such a detail that makes you realize they were friends, close friends, like a friend whose closet you raid, but not meant to be together.\n",
       "-- mexicoisforlovers (score 2)</pre>"
      ],
      "text/plain": [
       "<IPython.core.display.HTML object>"
      ]
     },
     "metadata": {},
     "output_type": "display_data"
    }
   ],
   "source": [
    "print_post_and_replies('fuulky')"
   ]
  },
  {
   "attachments": {},
   "cell_type": "markdown",
   "id": "a86d7c7e-c925-478b-9584-7d88bc79fc1a",
   "metadata": {},
   "source": [
    "If we also want to see what comments are being skipped, we can use an optional argument for `print_post_and_replies` by setting `show_hidden = True`, and the comments that are being skipped will show up with a reddish background."
   ]
  },
  {
   "cell_type": "code",
   "execution_count": 14,
   "id": "8de6c2bb-8ad8-425f-be62-bcdec1e408e1",
   "metadata": {},
   "outputs": [
    {
     "name": "stdout",
     "output_type": "stream",
     "text": [
      "Comments and replies for post from /MovieDetails:\n"
     ]
    },
    {
     "data": {
      "text/html": [
       "<a href=\"https://www.reddit.com//r/MovieDetails/comments/fuulky/in_little_women_2019_laurie_and_jo_swap_articles/\">In Little Women (2019), Laurie and Jo swap articles of clothing</a>"
      ],
      "text/plain": [
       "<IPython.core.display.HTML object>"
      ]
     },
     "metadata": {},
     "output_type": "display_data"
    },
    {
     "data": {
      "text/html": [
       "<pre style='border:solid 1px;padding:3px;margin-left:0px;background-color:LightCoral'>Upvote this comment if this is a Movie Detail\n",
       "\n",
       "Downvote this if you feel that it is not.\n",
       "\n",
       "If this comment&#x27;s score falls below a certain number, this submission will be automatically removed.\n",
       "\n",
       "These votes are in a trial run period, give your feedback here: https://redd.it/drz5gq\n",
       "-- MovieDetailsModBot (score 1)</pre>"
      ],
      "text/plain": [
       "<IPython.core.display.HTML object>"
      ]
     },
     "metadata": {},
     "output_type": "display_data"
    },
    {
     "data": {
      "text/html": [
       "<pre style='border:solid 1px;padding:3px;margin-left:0px;background-color:white'>Attention to detail like that helped it win the Oscar for best costumes.\n",
       "-- tomandshell (score 52)</pre>"
      ],
      "text/plain": [
       "<IPython.core.display.HTML object>"
      ]
     },
     "metadata": {},
     "output_type": "display_data"
    },
    {
     "data": {
      "text/html": [
       "<pre style='border:solid 1px;padding:3px;margin-left:20px;background-color:LightCoral'>🤣🤣🤣🤣\n",
       "-- torib613 (score 1)</pre>"
      ],
      "text/plain": [
       "<IPython.core.display.HTML object>"
      ]
     },
     "metadata": {},
     "output_type": "display_data"
    },
    {
     "data": {
      "text/html": [
       "<pre style='border:solid 1px;padding:3px;margin-left:0px;background-color:white'>And then they realized, they were no longer little girls...they were little women.\n",
       "-- Dr_Immense_Sack (score 34)</pre>"
      ],
      "text/plain": [
       "<IPython.core.display.HTML object>"
      ]
     },
     "metadata": {},
     "output_type": "display_data"
    },
    {
     "data": {
      "text/html": [
       "<pre style='border:solid 1px;padding:3px;margin-left:20px;background-color:white'>Oh! Like the title!\n",
       "-- cjdennis29 (score 10)</pre>"
      ],
      "text/plain": [
       "<IPython.core.display.HTML object>"
      ]
     },
     "metadata": {},
     "output_type": "display_data"
    },
    {
     "data": {
      "text/html": [
       "<pre style='border:solid 1px;padding:3px;margin-left:0px;background-color:white'>One of last year’s best movies, Greta Gerwig should have earned an Oscar nomination for her direction. And the cast is incredible, the young girls have amazing chemistry together.\n",
       "-- Helloedd (score 29)</pre>"
      ],
      "text/plain": [
       "<IPython.core.display.HTML object>"
      ]
     },
     "metadata": {},
     "output_type": "display_data"
    },
    {
     "data": {
      "text/html": [
       "<pre style='border:solid 1px;padding:3px;margin-left:20px;background-color:LightCoral'>Florence Pugh actually made me love Amy which I thought was impossible\n",
       "-- Unreasonableberry (score 21)</pre>"
      ],
      "text/plain": [
       "<IPython.core.display.HTML object>"
      ]
     },
     "metadata": {},
     "output_type": "display_data"
    },
    {
     "data": {
      "text/html": [
       "<pre style='border:solid 1px;padding:3px;margin-left:20px;background-color:white'>HOW does a movie get nominated for; best picture, best actress, best supporting actress, best adapted screenplay, plus costume and score, and NOT get nominated for best director? WHat am I missing about the nomination process?\n",
       "-- pblack177 (score 11)</pre>"
      ],
      "text/plain": [
       "<IPython.core.display.HTML object>"
      ]
     },
     "metadata": {},
     "output_type": "display_data"
    },
    {
     "data": {
      "text/html": [
       "<pre style='border:solid 1px;padding:3px;margin-left:20px;background-color:LightCoral'>I was so upset when she didn’t even win best adapted screenplay which she absolutely deserved\n",
       "-- None (score 4)</pre>"
      ],
      "text/plain": [
       "<IPython.core.display.HTML object>"
      ]
     },
     "metadata": {},
     "output_type": "display_data"
    },
    {
     "data": {
      "text/html": [
       "<pre style='border:solid 1px;padding:3px;margin-left:0px;background-color:white'>That’s such a detail that makes you realize they were friends, close friends, like a friend whose closet you raid, but not meant to be together.\n",
       "-- mexicoisforlovers (score 2)</pre>"
      ],
      "text/plain": [
       "<IPython.core.display.HTML object>"
      ]
     },
     "metadata": {},
     "output_type": "display_data"
    },
    {
     "data": {
      "text/html": [
       "<pre style='border:solid 1px;padding:3px;margin-left:0px;background-color:LightCoral'>1990s Sigourney Weaver&#x27;s Little Women. Or not watching it.\n",
       "-- Jremmedy (score -8)</pre>"
      ],
      "text/plain": [
       "<IPython.core.display.HTML object>"
      ]
     },
     "metadata": {},
     "output_type": "display_data"
    }
   ],
   "source": [
    "print_post_and_replies('fuulky', show_hidden = True)"
   ]
  },
  {
   "attachments": {},
   "cell_type": "markdown",
   "id": "46c8f415-b653-4933-b75b-6b0c14bfa15f",
   "metadata": {},
   "source": [
    "## TODO! Test it with 3 tweet threads"
   ]
  },
  {
   "attachments": {},
   "cell_type": "markdown",
   "id": "f8419612-935a-4859-9b4e-82d741dcd56b",
   "metadata": {},
   "source": [
    "Now, after you've modified the `should_display`, try testing out your algorithm on three new posts, answering follow up questions after each one.\n",
    "\n",
    "In the sections below, replace the `?????`s with a reddit post id, and run the code. Then answer the questions about how that went.\n",
    "\n",
    "At the very end will be more reflection questions."
   ]
  },
  {
   "attachments": {},
   "cell_type": "markdown",
   "id": "69877681-4afb-4507-be52-a31faefa85e0",
   "metadata": {},
   "source": [
    "### TODO: Print reddit thread 1"
   ]
  },
  {
   "cell_type": "code",
   "execution_count": null,
   "id": "3de1ec85-99e5-4528-8b43-e321e21ed8b6",
   "metadata": {},
   "outputs": [],
   "source": [
    "print_post_and_replies('?????', show_hidden = True)"
   ]
  },
  {
   "attachments": {},
   "cell_type": "markdown",
   "id": "4e7b91ea-89b7-481e-9412-8f63f14443e1",
   "metadata": {},
   "source": [
    "### TODO: Reddit thread 1 follow-up questions\n",
    "Write an answer in response to each of these questions (you can edit this text by double clicking it):\n",
    "\n",
    "Look through the output of `print_post_and_replies()` based on your modified `should_display` function.\n",
    "\n",
    "Did your function tend to keep most tweets or tend to hide most tweets?"
   ]
  },
  {
   "attachments": {},
   "cell_type": "markdown",
   "id": "b760cf2b-85e0-4eee-9fb6-b3a89f76ee77",
   "metadata": {},
   "source": [
    "TODO: Your answer here"
   ]
  },
  {
   "attachments": {},
   "cell_type": "markdown",
   "id": "597e4d28-b9ec-471d-9ff0-b0165d6f00ea",
   "metadata": {},
   "source": [
    "Do you see any pattern to the contents of the tweets you showed versus hid (e.g., did it actually select better quality or more interesting tweets)?"
   ]
  },
  {
   "attachments": {},
   "cell_type": "markdown",
   "id": "6cb7747b-fc53-440f-9803-7cd1708ec0e3",
   "metadata": {},
   "source": [
    "TODO: Your answer here"
   ]
  },
  {
   "attachments": {},
   "cell_type": "markdown",
   "id": "d36cf784-7cda-48d6-9d31-5bf9e3626c2d",
   "metadata": {
    "tags": []
   },
   "source": [
    "### TODO: Print reddit thread 2"
   ]
  },
  {
   "cell_type": "code",
   "execution_count": null,
   "id": "e36ccf9a-3b90-458e-910c-e31b3178e8a0",
   "metadata": {
    "tags": []
   },
   "outputs": [],
   "source": [
    "print_post_and_replies('?????', show_hidden = True)"
   ]
  },
  {
   "attachments": {},
   "cell_type": "markdown",
   "id": "365d34f2-f551-432b-bc07-b9dc3778997b",
   "metadata": {},
   "source": [
    "### TODO: Reddit thread 2 follow-up questions\n",
    "Write an answer in response to each of these questions (you can edit this text by double clicking it):\n",
    "\n",
    "Look through the output of `print_post_and_replies()` based on your modified `should_display` function.\n",
    "\n",
    "Did your function tend to keep most tweets or tend to hide most tweets?"
   ]
  },
  {
   "attachments": {},
   "cell_type": "markdown",
   "id": "e01b6c4c-3add-4cf2-ad12-3b4403726915",
   "metadata": {},
   "source": [
    "TODO: Your answer here"
   ]
  },
  {
   "attachments": {},
   "cell_type": "markdown",
   "id": "1e79e1e7-ad3f-43ae-a285-925ffce17ac0",
   "metadata": {},
   "source": [
    "Do you see any pattern to the contents of the tweets you showed versus hid (e.g., did it actually select better quality or more interesting tweets)?"
   ]
  },
  {
   "attachments": {},
   "cell_type": "markdown",
   "id": "ddbc7f4b-85b9-4742-bdd2-5241ebf10a82",
   "metadata": {},
   "source": [
    "TODO: Your answer here"
   ]
  },
  {
   "attachments": {},
   "cell_type": "markdown",
   "id": "80d362fd-9f12-45ab-ad49-c7e5a8e21646",
   "metadata": {},
   "source": [
    "### TODO: Print reddit thread 3"
   ]
  },
  {
   "cell_type": "code",
   "execution_count": null,
   "id": "72e4afd2-9ae3-4e8e-bd8c-200d31246dae",
   "metadata": {},
   "outputs": [],
   "source": [
    "print_post_and_replies('?????', show_hidden = True)"
   ]
  },
  {
   "attachments": {},
   "cell_type": "markdown",
   "id": "920bca9c-b111-4fd1-8067-def9e97088c8",
   "metadata": {},
   "source": [
    "### TODO: Reddit thread 3 follow-up questions\n",
    "Write an answer in response to each of these questions (you can edit this text by double clicking it):\n",
    "\n",
    "Look through the output of `print_post_and_replies()` based on your modified `should_display` function.\n",
    "\n",
    "Did your function tend to keep most tweets or tend to hide most tweets?"
   ]
  },
  {
   "attachments": {},
   "cell_type": "markdown",
   "id": "26ce3809-dc93-4c39-a792-315dd5e45075",
   "metadata": {},
   "source": [
    "TODO: Your answer here"
   ]
  },
  {
   "attachments": {},
   "cell_type": "markdown",
   "id": "9c6f4df1-9536-45a6-ac8e-bd73f4004f8b",
   "metadata": {},
   "source": [
    "Do you see any pattern to the contents of the tweets you showed versus hid (e.g., did it actually select better quality or more interesting tweets)?"
   ]
  },
  {
   "attachments": {},
   "cell_type": "markdown",
   "id": "5fdac1c0-ab1e-42ea-954f-06c0ff7102ca",
   "metadata": {},
   "source": [
    "TODO: Your answer here"
   ]
  },
  {
   "attachments": {},
   "cell_type": "markdown",
   "id": "07014041-40af-4ed7-92a7-69ad85ac9f4b",
   "metadata": {},
   "source": [
    "## TODO: Final Reflection questions\n",
    "Write an answer in response in response to each of these questions:\n",
    "\n",
    "Explain why you chose the rules you did for selecting the best comments?"
   ]
  },
  {
   "attachments": {},
   "cell_type": "markdown",
   "id": "2dd5b7d6-e026-4137-ba8e-e5be9b7b6a95",
   "metadata": {},
   "source": [
    "TODO: Your answer here"
   ]
  },
  {
   "attachments": {},
   "cell_type": "markdown",
   "id": "57dfd460-4ef4-45c2-868a-6c2317996811",
   "metadata": {},
   "source": [
    "What was most challenging about coming up with your rules?"
   ]
  },
  {
   "attachments": {},
   "cell_type": "markdown",
   "id": "180ee407-1910-49ce-b08b-9d7a02e11837",
   "metadata": {},
   "source": [
    "TODO: Your answer here"
   ]
  },
  {
   "attachments": {},
   "cell_type": "markdown",
   "id": "987e2526-8095-45ab-b43d-86b193f25d84",
   "metadata": {},
   "source": [
    "What additional information or rules do you wish you could have used?"
   ]
  },
  {
   "attachments": {},
   "cell_type": "markdown",
   "id": "ad295301-cc20-493f-bd95-df6343f0848a",
   "metadata": {},
   "source": [
    "TODO: Your answer here"
   ]
  },
  {
   "attachments": {},
   "cell_type": "markdown",
   "id": "edb0dcf7-227c-4d97-b82a-67112f7c6b8e",
   "metadata": {},
   "source": [
    "If someone or some group wanted to make sure their comments were shown by your function, what would they do? How hard would this be?"
   ]
  },
  {
   "attachments": {},
   "cell_type": "markdown",
   "id": "518863b6-29b1-486a-a2bc-3f4701d2aa80",
   "metadata": {},
   "source": [
    "TODO: Your answer here"
   ]
  },
  {
   "attachments": {},
   "cell_type": "markdown",
   "id": "317bb710-37e9-42d0-ad7b-13ed3c3fa0c4",
   "metadata": {},
   "source": [
    "If someone or some group wanted to make sure someone else's comments were NOT shown by your function, what would they do (if anything)? How hard would this be?"
   ]
  },
  {
   "attachments": {},
   "cell_type": "markdown",
   "id": "21d501d1-6686-4f12-aad5-2d13525ad86c",
   "metadata": {},
   "source": [
    "TODO: Your answer here"
   ]
  },
  {
   "attachments": {},
   "cell_type": "markdown",
   "id": "b662120a-b8e7-467b-bb11-30059a3f2acc",
   "metadata": {},
   "source": [
    "If Reddit adopted this rule as a universal rule for which comments to display, what do you think would happen? (e.g., would people change commenting strategies? would comments look different than currently? would it get overwhelmed with spam?)\n"
   ]
  },
  {
   "attachments": {},
   "cell_type": "markdown",
   "id": "ff6f474b-da91-4120-b5ba-59b3fd1904f8",
   "metadata": {},
   "source": [
    "TODO: Your answer here"
   ]
  }
 ],
 "metadata": {
  "kernelspec": {
   "display_name": "Python 3 (ipykernel)",
   "language": "python",
   "name": "python3"
  },
  "language_info": {
   "codemirror_mode": {
    "name": "ipython",
    "version": 3
   },
   "file_extension": ".py",
   "mimetype": "text/x-python",
   "name": "python",
   "nbconvert_exporter": "python",
   "pygments_lexer": "ipython3",
   "version": "3.9.7"
  }
 },
 "nbformat": 4,
 "nbformat_minor": 5
}
