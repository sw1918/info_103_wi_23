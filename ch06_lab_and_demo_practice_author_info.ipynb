{
 "cells": [
  {
   "cell_type": "markdown",
   "id": "67655e14-ea22-4ff1-9b83-2735028b6dd8",
   "metadata": {},
   "source": [
    "# Demo & Practice: Author Info\n",
    "\n",
    "Though Reddit collects the device/program sources of submissions (like we saw from former President Trump), it unfortunately doesn't let us see them.\n",
    "\n",
    "Instead we will look at other information about the author of posts on Reddit that can perhaps tell us something about their authenticity."
   ]
  },
  {
   "cell_type": "markdown",
   "id": "e2b8ec11-bcc5-4858-b65b-7421e32883a8",
   "metadata": {},
   "source": [
    "## Log into Reddit (PRAW)\n",
    "These are our normal steps get PRAW loaded and logged into Reddit"
   ]
  },
  {
   "cell_type": "code",
   "execution_count": null,
   "id": "ed4d794b-94dc-48bc-bd59-557d2251a135",
   "metadata": {
    "tags": []
   },
   "outputs": [],
   "source": [
    "import praw"
   ]
  },
  {
   "cell_type": "markdown",
   "id": "ce054ad2-ca27-4a41-8720-8bd28b6714a1",
   "metadata": {},
   "source": [
    "(optional) make a fake praw connection with the fake_praw library\n",
    "\n",
    "For testing purposes, we've added this line of code, which loads a fake version of praw, so it wont actually connect to reddit. __If you want to try to actually connect to reddit, don't run this line of code.__"
   ]
  },
  {
   "cell_type": "code",
   "execution_count": null,
   "id": "d055ee8d-4ec6-4ab2-8ee8-3c6784842fd5",
   "metadata": {},
   "outputs": [],
   "source": [
    "%run fake_apis/fake_praw.ipynb"
   ]
  },
  {
   "cell_type": "code",
   "execution_count": null,
   "id": "a4670d0f-d404-49ae-ad88-5234a60254ff",
   "metadata": {},
   "outputs": [],
   "source": [
    "%run reddit_keys.py"
   ]
  },
  {
   "cell_type": "code",
   "execution_count": null,
   "id": "81c60ab0-c6b8-46c0-9e7c-3c022eaa8350",
   "metadata": {},
   "outputs": [],
   "source": [
    "# Give the praw code your reddit account info so\n",
    "# it can perform reddit actions\n",
    "reddit = praw.Reddit(\n",
    "    username=username, password=password,\n",
    "    client_id=client_id, client_secret=client_secret,\n",
    "    user_agent=\"a custom python script for user /\" + str(username)\n",
    ")"
   ]
  },
  {
   "cell_type": "markdown",
   "id": "e5caed17-960d-4a53-9410-1fd5ef3932ae",
   "metadata": {},
   "source": [
    "## Load a set of Reddit posts and look up author information\n",
    "\n",
    "The code below searches for recent submissions from a subreddit, and then does a loop though all the tweets, printing out the information about the authors of the submissions, such as:\n",
    "- Link Karma (a measure of how much people like the links that person submits)\n",
    "- Comment Karma (a measure of how much people like the comments that person makes)\n",
    "\n",
    "Try searching through other subreddits and see what you notice about the authors of posts in different subreddits.\n",
    "\n",
    "To do this:\n",
    "- put in your special Reddit bot passwords\n",
    "- skip the fake_tweepy step above\n",
    "- take the first line of the code below and replace `cuteanimals` with a different subreddit name, like `movies`"
   ]
  },
  {
   "cell_type": "code",
   "execution_count": null,
   "id": "977aaa34-59da-4e73-aacb-fe031b6dc50f",
   "metadata": {
    "tags": []
   },
   "outputs": [],
   "source": [
    "# Look up the subreddit \"cuteanimals\", then find the \"hot\" list, getting up to 10 submission\n",
    "submissions = reddit.subreddit(\"cuteanimals\").hot(limit=10)\n",
    "\n",
    "# Turn the submission results into a Python List\n",
    "submissions_list = list(submissions)\n",
    "\n",
    "for submission in submissions_list:\n",
    "    print(\"Info for submission: \" + str(submission.title))\n",
    "    print(\"  author: \" + str(submission.author))\n",
    "    print(\"  author's Link Karma: \" + str(submission.author.link_karma))\n",
    "    print(\"  author's Comment Karma: \" + str(submission.author.comment_karma))\n",
    "    print(\"  author has a verified email address? \" + str(submission.author.has_verified_email))\n",
    "    print(\"  author is a moderator of a subreddit? \" + str(submission.author.is_mod))\n",
    "    print(\"  author has active Reddit Premium status? \" + str(submission.author.is_gold))\n",
    "    print()"
   ]
  },
  {
   "cell_type": "code",
   "execution_count": null,
   "id": "ceec35d5-6f71-4a13-8f16-3359878222c1",
   "metadata": {},
   "outputs": [],
   "source": []
  }
 ],
 "metadata": {
  "kernelspec": {
   "display_name": "Python 3 (ipykernel)",
   "language": "python",
   "name": "python3"
  },
  "language_info": {
   "codemirror_mode": {
    "name": "ipython",
    "version": 3
   },
   "file_extension": ".py",
   "mimetype": "text/x-python",
   "name": "python",
   "nbconvert_exporter": "python",
   "pygments_lexer": "ipython3",
   "version": "3.9.7"
  },
  "vscode": {
   "interpreter": {
    "hash": "369f2c481f4da34e4445cda3fffd2e751bd1c4d706f27375911949ba6bb62e1c"
   }
  }
 },
 "nbformat": 4,
 "nbformat_minor": 5
}
