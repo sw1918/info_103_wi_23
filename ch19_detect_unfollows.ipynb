{
 "cells": [
  {
   "cell_type": "markdown",
   "id": "a8fb384b-0634-4fe8-98a9-ecdd7d74faf4",
   "metadata": {},
   "source": [
    "# Demo tracking peolpe unfollowing you\n",
    "This will be a fake version of code to alert you when you get unfollowed\n",
    "\n",
    "First, I make a function that pretends to get my current follower list"
   ]
  },
  {
   "cell_type": "code",
   "execution_count": 9,
   "id": "365d8eca-f11e-41f4-ad65-43e378137960",
   "metadata": {},
   "outputs": [],
   "source": [
    "fake_follower_counter = 0\n",
    "\n",
    "def fake_get_followers():\n",
    "    global fake_follower_counter\n",
    "    \n",
    "    fake_follower_counter += 1\n",
    "    \n",
    "    if fake_follower_counter == 1:\n",
    "        return [\"Fake Person\", \"Pretend Person\", \"Imaginary Person\", \"Invisible Person\"]\n",
    "    if fake_follower_counter == 2:\n",
    "        return [\"Fake Person\", \"Pretend Person\", \"Imaginary Person\", \"Invisible Person\"]\n",
    "    if fake_follower_counter == 3:\n",
    "        return [\"Fake Person\", \"Imaginary Person\", \"Invisible Person\"]\n",
    "    if fake_follower_counter == 4:\n",
    "        return [\"Fake Person\", \"Imaginary Person\", \"Invisible Person\"]\n",
    "    if fake_follower_counter == 5:\n",
    "        return [\"Fake Person\", \"Imaginary Person\", \"Invisible Person\", \"Another Person\"]\n",
    "    if fake_follower_counter == 6:\n",
    "        fake_follower_counter = 0\n",
    "        return [\"Fake Person\", \"Imaginary Person\", \"Another Person\"]"
   ]
  },
  {
   "cell_type": "markdown",
   "id": "31aec662-a6e3-42e9-b542-cbd23fa68d8c",
   "metadata": {},
   "source": [
    "# Test out my fake get followers function"
   ]
  },
  {
   "cell_type": "code",
   "execution_count": 11,
   "id": "546e25aa-dbed-4dbb-a149-eb5ea661c8bc",
   "metadata": {},
   "outputs": [
    {
     "name": "stdout",
     "output_type": "stream",
     "text": [
      "['Fake Person', 'Pretend Person', 'Imaginary Person', 'Invisible Person']\n",
      "\n",
      "['Fake Person', 'Pretend Person', 'Imaginary Person', 'Invisible Person']\n",
      "\n",
      "['Fake Person', 'Imaginary Person', 'Invisible Person']\n",
      "\n",
      "['Fake Person', 'Imaginary Person', 'Invisible Person']\n",
      "\n",
      "['Fake Person', 'Imaginary Person', 'Invisible Person', 'Another Person']\n",
      "\n",
      "['Fake Person', 'Imaginary Person', 'Another Person']\n",
      "\n"
     ]
    }
   ],
   "source": [
    "for i in range(6):\n",
    "    current_followers = fake_get_followers()\n",
    "    print(current_followers)\n",
    "    print()"
   ]
  },
  {
   "cell_type": "markdown",
   "id": "08c7d117-5a3d-4395-92bc-ed974f7f28c0",
   "metadata": {},
   "source": [
    "# Now try to see the changes"
   ]
  },
  {
   "cell_type": "code",
   "execution_count": 20,
   "id": "58eee377-8527-4e16-b381-e608979867ea",
   "metadata": {},
   "outputs": [],
   "source": [
    "import time"
   ]
  },
  {
   "cell_type": "code",
   "execution_count": 22,
   "id": "3c072e40-5501-4e1a-96c7-d32ae8cec9a0",
   "metadata": {},
   "outputs": [
    {
     "name": "stdout",
     "output_type": "stream",
     "text": [
      "Checking followers list\n",
      "\n",
      "Checking followers list\n",
      "\n",
      "At least one person unfollowed me:\n",
      "['Pretend Person']\n",
      "I could at this point send myself a message\n",
      "\n",
      "Checking followers list\n",
      "\n",
      "Checking followers list\n",
      "\n",
      "Checking followers list\n",
      "\n",
      "At least one person unfollowed me:\n",
      "['Invisible Person']\n",
      "I could at this point send myself a message\n",
      "\n",
      "Checking followers list\n",
      "\n",
      "At least one person unfollowed me:\n",
      "['Another Person']\n",
      "I could at this point send myself a message\n",
      "\n"
     ]
    }
   ],
   "source": [
    "previous_followers = []\n",
    "\n",
    "for i in range(6):\n",
    "    global previous_followers\n",
    "    \n",
    "    print(\"Checking followers list\")\n",
    "    print()\n",
    "    \n",
    "    ## get the current followers\n",
    "    current_followers = fake_get_followers()\n",
    "    \n",
    "    # find out who is no longer in the follower list\n",
    "    people_who_unfollowed_me = list(set(previous_followers)-set(current_followers))\n",
    "    \n",
    "    if(len(people_who_unfollowed_me) > 0):\n",
    "        print(\"At least one person unfollowed me:\")\n",
    "        print(people_who_unfollowed_me)\n",
    "        print(\"I could at this point send myself a message\")\n",
    "        print()\n",
    "    \n",
    "    # update my list of previous followers\n",
    "    previous_followers = current_followers\n",
    "    \n",
    "    time.sleep(5)"
   ]
  },
  {
   "cell_type": "code",
   "execution_count": null,
   "id": "1e51e3dc-f2bf-411f-951d-ad86dec70db8",
   "metadata": {},
   "outputs": [],
   "source": []
  }
 ],
 "metadata": {
  "kernelspec": {
   "display_name": "Python 3 (ipykernel)",
   "language": "python",
   "name": "python3"
  },
  "language_info": {
   "codemirror_mode": {
    "name": "ipython",
    "version": 3
   },
   "file_extension": ".py",
   "mimetype": "text/x-python",
   "name": "python",
   "nbconvert_exporter": "python",
   "pygments_lexer": "ipython3",
   "version": "3.9.7"
  }
 },
 "nbformat": 4,
 "nbformat_minor": 5
}
