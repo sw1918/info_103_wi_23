{
 "cells": [
  {
   "cell_type": "markdown",
   "id": "8e8b04f7-3262-427e-b125-ec9e4284d0d9",
   "metadata": {
    "tags": []
   },
   "source": [
    "# Demo: Comment on a post"
   ]
  },
  {
   "cell_type": "markdown",
   "id": "71630ecc-59b1-421a-94b8-7c973e0a3c12",
   "metadata": {},
   "source": [
    "### Step 1: Load Praw code"
   ]
  },
  {
   "cell_type": "code",
   "execution_count": 1,
   "id": "d93d5346-7256-48dd-9687-5919aabf6f74",
   "metadata": {},
   "outputs": [],
   "source": [
    "# Load some code called \"praw\" that will help us work with reddit\n",
    "import praw"
   ]
  },
  {
   "cell_type": "code",
   "execution_count": 2,
   "id": "6c17ccfc-269d-4d21-80f8-d7dbe0576423",
   "metadata": {},
   "outputs": [],
   "source": [
    "# load your reddit keys\n",
    "%run reddit_keys.py"
   ]
  },
  {
   "cell_type": "markdown",
   "id": "42779d83-d829-41e5-9b05-cf9c68cd3ca4",
   "metadata": {},
   "source": [
    "### Give praw (or fake_praw) your developer access passwords"
   ]
  },
  {
   "cell_type": "code",
   "execution_count": 3,
   "id": "f2bcdc6b-b6e7-4348-9b9a-231aed259ed1",
   "metadata": {},
   "outputs": [],
   "source": [
    "# Give the praw code your reddit account info so\n",
    "# it can perform reddit actions\n",
    "reddit = praw.Reddit(\n",
    "    username=username, password=password,\n",
    "    client_id=client_id, client_secret=client_secret,\n",
    "    user_agent=\"a custom python script for user /\" + str(username)\n",
    ")"
   ]
  },
  {
   "cell_type": "markdown",
   "id": "006459cb-1a07-4a60-91b0-031174339753",
   "metadata": {},
   "source": [
    "### For a given post (by id), comment on it"
   ]
  },
  {
   "cell_type": "code",
   "execution_count": 4,
   "id": "b44dafab-9d25-4620-b6bd-bd4149400eca",
   "metadata": {
    "tags": []
   },
   "outputs": [
    {
     "data": {
      "text/plain": [
       "Comment(id='jkox2yk')"
      ]
     },
     "execution_count": 4,
     "metadata": {},
     "output_type": "execute_result"
    }
   ],
   "source": [
    "# Look up a post by ID:(like in a4)\n",
    "submission = reddit.submission(\"13f23na\")\n",
    "\n",
    "submission.reply(\"Nice picture!\")"
   ]
  },
  {
   "cell_type": "markdown",
   "id": "87d75407",
   "metadata": {},
   "source": [
    "### Comment on the latest post of a subreddit"
   ]
  },
  {
   "cell_type": "code",
   "execution_count": null,
   "id": "ec54e1a2",
   "metadata": {},
   "outputs": [
    {
     "data": {
      "text/plain": [
       "Comment(id='jkoxb2b')"
      ]
     },
     "execution_count": 7,
     "metadata": {},
     "output_type": "execute_result"
    }
   ],
   "source": [
    "submissions = reddit.subreddit(\"info_103_sp23\").new(limit=1)\n",
    "\n",
    "latest_post = next(submissions)\n",
    "\n",
    "latest_post.reply(\"I am auto-replying\")\n",
    "\n",
    "# mutlitple submissions\n",
    "submissions = reddit.subreddit(\"info_103_sp23\").new(limit=10)\n",
    "\n",
    "for submission in submissions:\n",
    "    submission.reply(\"I am auto-replying\")\n",
    "\n"
   ]
  },
  {
   "cell_type": "markdown",
   "id": "382fe548",
   "metadata": {},
   "source": [
    "### Reply to a a comment on a post"
   ]
  },
  {
   "cell_type": "code",
   "execution_count": 9,
   "id": "a6d3a93f",
   "metadata": {},
   "outputs": [
    {
     "data": {
      "text/plain": [
       "Comment(id='jkoxpol')"
      ]
     },
     "execution_count": 9,
     "metadata": {},
     "output_type": "execute_result"
    }
   ],
   "source": [
    "submissions = reddit.subreddit(\"info_103_sp23\").new(limit=1)\n",
    "\n",
    "latest_post = next(submissions)\n",
    "\n",
    "latest_post.comments\n",
    "\n",
    "a_comment = latest_post.comments[0]\n",
    "\n",
    "a_comment.reply(\"I am auto-replying to a comment\")"
   ]
  },
  {
   "cell_type": "code",
   "execution_count": null,
   "id": "be8827d2-2c48-40a5-a127-d8b437d8d78b",
   "metadata": {},
   "outputs": [],
   "source": []
  }
 ],
 "metadata": {
  "kernelspec": {
   "display_name": "Python 3 (ipykernel)",
   "language": "python",
   "name": "python3"
  },
  "language_info": {
   "codemirror_mode": {
    "name": "ipython",
    "version": 3
   },
   "file_extension": ".py",
   "mimetype": "text/x-python",
   "name": "python",
   "nbconvert_exporter": "python",
   "pygments_lexer": "ipython3",
   "version": "3.9.7"
  },
  "vscode": {
   "interpreter": {
    "hash": "369f2c481f4da34e4445cda3fffd2e751bd1c4d706f27375911949ba6bb62e1c"
   }
  }
 },
 "nbformat": 4,
 "nbformat_minor": 5
}
