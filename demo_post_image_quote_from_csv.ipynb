{
 "cells": [
  {
   "cell_type": "markdown",
   "id": "8e8b04f7-3262-427e-b125-ec9e4284d0d9",
   "metadata": {
    "tags": []
   },
   "source": [
    "# Demo: Post a quote from csv"
   ]
  },
  {
   "cell_type": "markdown",
   "id": "71630ecc-59b1-421a-94b8-7c973e0a3c12",
   "metadata": {},
   "source": [
    "### Step 1: Load Praw code"
   ]
  },
  {
   "cell_type": "code",
   "execution_count": 8,
   "id": "d93d5346-7256-48dd-9687-5919aabf6f74",
   "metadata": {},
   "outputs": [],
   "source": [
    "# Load some code called \"praw\" that will help us work with reddit\n",
    "import praw"
   ]
  },
  {
   "cell_type": "code",
   "execution_count": 9,
   "id": "6c17ccfc-269d-4d21-80f8-d7dbe0576423",
   "metadata": {},
   "outputs": [],
   "source": [
    "# load your reddit keys\n",
    "%run reddit_keys.py"
   ]
  },
  {
   "cell_type": "markdown",
   "id": "42779d83-d829-41e5-9b05-cf9c68cd3ca4",
   "metadata": {},
   "source": [
    "### Give praw (or fake_praw) your developer access passwords"
   ]
  },
  {
   "cell_type": "code",
   "execution_count": 10,
   "id": "f2bcdc6b-b6e7-4348-9b9a-231aed259ed1",
   "metadata": {},
   "outputs": [],
   "source": [
    "# Give the praw code your reddit account info so\n",
    "# it can perform reddit actions\n",
    "reddit = praw.Reddit(\n",
    "    username=username, password=password,\n",
    "    client_id=client_id, client_secret=client_secret,\n",
    "    user_agent=\"a custom python script for user /\" + str(username)\n",
    ")"
   ]
  },
  {
   "cell_type": "markdown",
   "id": "006459cb-1a07-4a60-91b0-031174339753",
   "metadata": {},
   "source": [
    "### Load a csv file with quotes (first column item is \"quotes\")"
   ]
  },
  {
   "cell_type": "code",
   "execution_count": 11,
   "id": "9c999f43",
   "metadata": {},
   "outputs": [],
   "source": [
    "import pandas as pd\n",
    "\n",
    "# load the inspiratational_quotes.csv file\n",
    "quotes_df = pd.read_csv('inspirational_quotes_with_images.csv')\n",
    "\n"
   ]
  },
  {
   "cell_type": "markdown",
   "id": "74874fcc",
   "metadata": {},
   "source": [
    "### Choose a random quote and post it"
   ]
  },
  {
   "cell_type": "code",
   "execution_count": 30,
   "id": "b44dafab-9d25-4620-b6bd-bd4149400eca",
   "metadata": {
    "tags": []
   },
   "outputs": [
    {
     "name": "stdout",
     "output_type": "stream",
     "text": [
      "Feeling better feels better!\n",
      "hybrid_animal_imgs/baboon-bird.jpg\n"
     ]
    },
    {
     "data": {
      "text/plain": [
       "Submission(id='13lck4w')"
      ]
     },
     "execution_count": 30,
     "metadata": {},
     "output_type": "execute_result"
    }
   ],
   "source": [
    "\n",
    "random_entries = quotes_df.sample(1)\n",
    "\n",
    "random_entry = random_entries.iloc[0]\n",
    "\n",
    "quote = str(random_entry['quotes'])\n",
    "print(quote)\n",
    "image = str(random_entry['image_files'])\n",
    "print(image)\n",
    "\n",
    "reddit.subreddit(\n",
    "   \"info_103_sp23\"\n",
    ").submit_image(\n",
    "   str(quote), \n",
    "   str(image)\n",
    ")"
   ]
  },
  {
   "cell_type": "code",
   "execution_count": null,
   "id": "bd05289a-9d5e-4161-a7b4-ae08693fb8b1",
   "metadata": {},
   "outputs": [],
   "source": []
  }
 ],
 "metadata": {
  "kernelspec": {
   "display_name": "Python 3 (ipykernel)",
   "language": "python",
   "name": "python3"
  },
  "language_info": {
   "codemirror_mode": {
    "name": "ipython",
    "version": 3
   },
   "file_extension": ".py",
   "mimetype": "text/x-python",
   "name": "python",
   "nbconvert_exporter": "python",
   "pygments_lexer": "ipython3",
   "version": "3.9.7"
  },
  "vscode": {
   "interpreter": {
    "hash": "369f2c481f4da34e4445cda3fffd2e751bd1c4d706f27375911949ba6bb62e1c"
   }
  }
 },
 "nbformat": 4,
 "nbformat_minor": 5
}
