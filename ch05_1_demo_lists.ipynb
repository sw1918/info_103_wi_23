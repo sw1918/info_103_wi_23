{
 "cells": [
  {
   "cell_type": "markdown",
   "id": "faf79779-95ad-498f-8c19-9a6766d205a4",
   "metadata": {},
   "source": [
    "# Demo: Lists and Loops\n",
    "\n",
    "## Lists\n",
    "\n",
    "Many types of data on social media platforms are organized as lists, such as\n",
    "- lists of friends or followers\n",
    "- lists of posts\n",
    "- lists of photos in a post\n",
    "- lists of people who liked a post\n",
    "- etc.\n",
    "\n",
    "The way to create a list in Python is to make a list of values, separated by commas, inside of square brackets, like this:"
   ]
  },
  {
   "cell_type": "code",
   "execution_count": null,
   "id": "19f1d69e-0c27-406e-bf7c-c4c18a52097c",
   "metadata": {},
   "outputs": [],
   "source": [
    "book_authors = [\"Kyle Thayer\", \"Susan Notess\"]\n",
    "\n",
    "display(book_authors)"
   ]
  },
  {
   "cell_type": "markdown",
   "id": "e1794cd7-3ef3-4e18-94c8-730180169c07",
   "metadata": {},
   "source": [
    "If we are making a list and it gets too long, Python will let us use several lines to do this:"
   ]
  },
  {
   "cell_type": "code",
   "execution_count": null,
   "id": "77cdf37d-25e6-425e-a640-f7c4eff8b0c8",
   "metadata": {},
   "outputs": [],
   "source": [
    "some_book_chapters = [\"Intro\",\n",
    "                     \"Definitions\",\n",
    "                     \"Bots\",\n",
    "                     \"Data\",\n",
    "                     \"History of Social Media\",\n",
    "                     \"Authenticity\"]\n",
    "\n",
    "display(some_book_chapters)"
   ]
  },
  {
   "cell_type": "markdown",
   "id": "731b5d98-760d-4f89-8df0-bb915386c1be",
   "metadata": {},
   "source": [
    "Lists are in order, so Python let's us use the \"index\" to ask for a specific entry, like the 1st, 2nd, 3rd, etc. \n",
    "\n",
    "As we stated in the Data chapter, many programming languages, for historical reasons, make a list's first entry have index 0, it's 2nd entry have index 1, it's 3rd entry have index 2, etc.\n",
    "\n",
    "So if we want to see the first chapter in my `some_book_chapters` list, I select it by putting the index number inside square brackets (`[`, `]`) after the variable name:"
   ]
  },
  {
   "cell_type": "code",
   "execution_count": null,
   "id": "40706f36-811d-4875-a86f-8adf3744772e",
   "metadata": {},
   "outputs": [],
   "source": [
    "first_chapter = some_book_chapters[0]\n",
    "display(first_chapter)"
   ]
  },
  {
   "cell_type": "markdown",
   "id": "1d71ec2f-6d81-4149-8aa8-bf4d16221f76",
   "metadata": {},
   "source": [
    "And if I want the 4th chapter, I'd select it like this"
   ]
  },
  {
   "cell_type": "code",
   "execution_count": null,
   "id": "59d17cb1-c4d4-4bae-8ba3-cf867b3e4557",
   "metadata": {},
   "outputs": [],
   "source": [
    "fourth_chapter = some_book_chapters[3]\n",
    "display(fourth_chapter)"
   ]
  },
  {
   "cell_type": "markdown",
   "id": "10430dff-9576-4c40-90ad-6b6d406eb80a",
   "metadata": {},
   "source": [
    "Now, let's say we have a list of users who liked our latest social media post:"
   ]
  },
  {
   "cell_type": "code",
   "execution_count": null,
   "id": "ccd58307-4722-4688-8467-511aafbfdcda",
   "metadata": {},
   "outputs": [],
   "source": [
    "users_who_liked_our_post = [\"@pretend_user_1\", \"@pretend_user_2\", \"@pretend_user_3\"]"
   ]
  },
  {
   "cell_type": "markdown",
   "id": "07aa60ea-0207-432a-9b7a-f342c4202902",
   "metadata": {},
   "source": [
    "What if we wanted to follow all of them?\n",
    "\n",
    "If our list was long, it would take a lot of code to pull out each one and try to follow them. But Python gives us an easy way to perform actions on all the items in a list, by using `for` loops."
   ]
  },
  {
   "cell_type": "markdown",
   "id": "3374fe62-7235-4018-bfef-a81e29924461",
   "metadata": {},
   "source": [
    "## `for` Loops\n",
    "\n",
    "\n",
    "`for` loops let us perform an action or a set of actions for all of the items in a list.\n",
    "\n",
    "So, if we wanted to go through all the the users that liked our tweet and display a message for each one, we could do this:"
   ]
  },
  {
   "cell_type": "code",
   "execution_count": null,
   "id": "5b44b69c-9b5c-4c3c-b4d9-25cb0a189443",
   "metadata": {},
   "outputs": [],
   "source": [
    "for user in users_who_liked_our_post:\n",
    "    display(\"Yay! \" + user + \" liked our post!\")"
   ]
  },
  {
   "cell_type": "markdown",
   "id": "6c23e6c2-8bb2-417b-b427-c59b72330ee4",
   "metadata": {},
   "source": [
    "Now, there are several things that went into making that for loop code above:\n",
    "- Start the line with a `for`\n",
    "- Make up a new variable name that will be a temporary variable to hold whichever item from the list we are doing our actions on. In this case each item in the list will be a user, so we call our variable `user`\n",
    "- Then we write the word `in` \n",
    "- Then we put the list that we want to go through, in this case `users_who_liked_our_post'\n",
    "- Then put a colon (`:`). In Python, a colon like this means that what comes next is a block of statements that goes together. This block of statements is indented over to indicate that it is part of the block.\n",
    "- Then, on the next line and indented over, we have our display function that uses the `user` variable. This is the line of code that is repeated for each item in the list.\n",
    "\n",
    "If we want to do several actions in our loop, all we need to do is add more lines of code spaced over the same amount, like this (note: We'll use `print` instead of `display`, which mostly work the same, but we think `print` happens to look a little better in this situation):"
   ]
  },
  {
   "cell_type": "code",
   "execution_count": null,
   "id": "45caca87-d8fc-4c63-b83a-766de67bd37f",
   "metadata": {},
   "outputs": [],
   "source": [
    "for user in users_who_liked_our_post:\n",
    "    print(\"Yay! \" + user + \" liked our post!\")\n",
    "    print(\"Perhaps we should follow \" + user)\n",
    "    print(\"We could put code here to do that!\")\n",
    "    print()"
   ]
  },
  {
   "cell_type": "markdown",
   "id": "33794890-3393-4dad-8dc1-f99fccbd129e",
   "metadata": {},
   "source": [
    "In the above code our for loop runs a block of code that has four statements, each doing a `print`. You'll notice we added an extra blank `print` which makes a blank line and helps us see in the output what each loop did."
   ]
  },
  {
   "cell_type": "markdown",
   "id": "fd4bc3bb-645e-459f-a8d9-b217dc4a3062",
   "metadata": {},
   "source": [
    "### Loop a set number of times\n",
    "In order to loop a set number of times, we can use the `range` function to effectively make a list of numbers to go over, so we can loop that many times. \n",
    "\n",
    "For example, if we wanted to ask \"Are we there yet?\" repeatedly, 10 times, we can do this:"
   ]
  },
  {
   "cell_type": "code",
   "execution_count": null,
   "id": "3711eaba-a138-4053-bf2c-efc310de34a9",
   "metadata": {},
   "outputs": [],
   "source": [
    "for i in range(10):\n",
    "    print(\"Are we there yet?\")"
   ]
  },
  {
   "cell_type": "markdown",
   "id": "27250a6f-3dab-4fd2-b6a2-aba47f762660",
   "metadata": {},
   "source": [
    "Now, if we look at what the numbers were in `range(10)`, we can output the `i` we saved the numbers in."
   ]
  },
  {
   "cell_type": "code",
   "execution_count": null,
   "id": "4cbf024b-9022-40c5-b956-289635b291f2",
   "metadata": {},
   "outputs": [],
   "source": [
    "for i in range(10):\n",
    "    print(\"This is loop number \" + str(i))"
   ]
  },
  {
   "cell_type": "markdown",
   "id": "38fbcba6-2e0f-407c-b389-62844ac27433",
   "metadata": {},
   "source": [
    "You'll notice that, while there are 10 numbers, it starts with 0, just like how list indices start with 0.\n",
    "\n",
    "If we want to do a list from 1 to 10 instead, we can do that by either making a new variable and saving i + 1 to it, like this:"
   ]
  },
  {
   "cell_type": "code",
   "execution_count": null,
   "id": "a3a9c2f0-0567-4299-9df3-37e6a200acb7",
   "metadata": {},
   "outputs": [],
   "source": [
    "for i in range(10):\n",
    "    new_i = i + 1\n",
    "    print(\"This is loop number \" + str(new_i))"
   ]
  },
  {
   "cell_type": "markdown",
   "id": "e150471c-a6ed-4fbc-a22a-9a248f61850e",
   "metadata": {},
   "source": [
    "Or, the `range` function let's you set a start and stop, with the first number being the number it starts with, and the last number being the one it stops before:"
   ]
  },
  {
   "cell_type": "code",
   "execution_count": null,
   "id": "b9b90979-eb20-41c8-b4b5-d0f77443c70e",
   "metadata": {},
   "outputs": [],
   "source": [
    "for i in range(1, 11):\n",
    "    print(\"This is loop number \" + str(i))"
   ]
  }
 ],
 "metadata": {
  "kernelspec": {
   "display_name": "Python 3 (ipykernel)",
   "language": "python",
   "name": "python3"
  },
  "language_info": {
   "codemirror_mode": {
    "name": "ipython",
    "version": 3
   },
   "file_extension": ".py",
   "mimetype": "text/x-python",
   "name": "python",
   "nbconvert_exporter": "python",
   "pygments_lexer": "ipython3",
   "version": "3.9.7"
  },
  "vscode": {
   "interpreter": {
    "hash": "369f2c481f4da34e4445cda3fffd2e751bd1c4d706f27375911949ba6bb62e1c"
   }
  }
 },
 "nbformat": 4,
 "nbformat_minor": 5
}
