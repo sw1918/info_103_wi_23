{
 "cells": [
  {
   "cell_type": "markdown",
   "id": "8274a51a-499b-495b-ace6-9f30359b158b",
   "metadata": {},
   "source": [
    "# Lecture 3 Practice: Statements\n",
    "The language we'll be using this quarter is called \"Python.\"\n",
    "\n",
    "In python, you will write lines of text called \"statements\", and the computer will read those statements, turn them into computer language, and execute them. For example, if you want the computer to display something, you can run the following statement:"
   ]
  },
  {
   "cell_type": "code",
   "execution_count": null,
   "id": "04eeaac6-fee8-45ee-b31f-231a662b18c7",
   "metadata": {},
   "outputs": [],
   "source": [
    "print(\"Hello world!\")"
   ]
  },
  {
   "cell_type": "markdown",
   "id": "17e581a8-2157-4148-8045-1f2fdc609607",
   "metadata": {},
   "source": [
    "The above code used the \"print\" function to write something out. Functions in programming are like functions in math, in that they accept something (a variable) and turn it into some output. In this case, print() is as simple as can be; we give it something, and it prints it out! \n",
    "\n",
    "In this case, we're giving print() a \"string\" (a bit of code wrapped in quotation marks like \"\", which represents text). Try using the blank cell below to print your name:"
   ]
  },
  {
   "cell_type": "code",
   "execution_count": null,
   "id": "0b29a8e5-425c-4244-b00e-26371773abc7",
   "metadata": {},
   "outputs": [],
   "source": []
  },
  {
   "cell_type": "markdown",
   "id": "09f2d8f5-e4cc-44a1-843a-1a4939a97f9d",
   "metadata": {},
   "source": [
    "You can also do math in Python. If you want to add some numbers, subtract, multiply, etc, you can use those operators to do so:"
   ]
  },
  {
   "cell_type": "code",
   "execution_count": null,
   "id": "02d3528c-1605-4247-891e-d342e810df68",
   "metadata": {},
   "outputs": [],
   "source": [
    "1 + 1"
   ]
  },
  {
   "cell_type": "code",
   "execution_count": null,
   "id": "1659c1b1-b8ad-401a-a523-d542305f788c",
   "metadata": {},
   "outputs": [],
   "source": [
    "50 - 45"
   ]
  },
  {
   "cell_type": "code",
   "execution_count": null,
   "id": "4ca01d73-bcc0-443e-b1a6-cdb2f6766f5b",
   "metadata": {},
   "outputs": [],
   "source": [
    "(10*10) - (6 / 3)"
   ]
  },
  {
   "cell_type": "markdown",
   "id": "70cb07ae-b1d5-4c51-aedf-e758191e3472",
   "metadata": {},
   "source": [
    "You can use the print() function to print anything in Python, including numbers. Let's say you want to know, on average, how many posts your social media website gets in a year. There are an average of 950 posts a day, with 365 days in a year. Use the print() function combined with the math operators in Python to calculate the number of posts per year, and print the result:"
   ]
  },
  {
   "cell_type": "code",
   "execution_count": null,
   "id": "6ecf46de-a4de-4b72-9f21-e6c943bcc8ff",
   "metadata": {},
   "outputs": [],
   "source": []
  }
 ],
 "metadata": {
  "kernelspec": {
   "display_name": "Python 3 (ipykernel)",
   "language": "python",
   "name": "python3"
  },
  "language_info": {
   "codemirror_mode": {
    "name": "ipython",
    "version": 3
   },
   "file_extension": ".py",
   "mimetype": "text/x-python",
   "name": "python",
   "nbconvert_exporter": "python",
   "pygments_lexer": "ipython3",
   "version": "3.12.5"
  }
 },
 "nbformat": 4,
 "nbformat_minor": 5
}
