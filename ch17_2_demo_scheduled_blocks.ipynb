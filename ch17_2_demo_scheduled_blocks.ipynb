{
 "cells": [
  {
   "cell_type": "markdown",
   "id": "ca8a4d07-9426-4e40-ace6-0a81a2d74558",
   "metadata": {},
   "source": [
    "# Ch 17 demo: Scheduled blocks"
   ]
  },
  {
   "cell_type": "markdown",
   "id": "0fe66180-e66c-47ee-9785-26b892297ddc",
   "metadata": {},
   "source": [
    "This is a demo which shows how to schedule a task to run on a specific schedule"
   ]
  },
  {
   "cell_type": "markdown",
   "id": "55b50eb3-54a7-48cc-9044-2d5887b5a89e",
   "metadata": {},
   "source": [
    "## Reddit Praw Setup"
   ]
  },
  {
   "cell_type": "code",
   "execution_count": 1,
   "id": "1f5f35b3-9a8e-4ab3-bc4e-3945292fcedf",
   "metadata": {},
   "outputs": [],
   "source": [
    "# make sure praw library is installed\n",
    "import praw"
   ]
  },
  {
   "cell_type": "markdown",
   "id": "bd6e3d51-9524-48a3-88ff-edf060e8b877",
   "metadata": {},
   "source": [
    "(optional) use the fake version of Reddit praw, so you don't have to use real Reddit developer access passwords"
   ]
  },
  {
   "cell_type": "code",
   "execution_count": 2,
   "id": "556ba34a-8e5d-41c0-9663-21784b99f4a0",
   "metadata": {},
   "outputs": [
    {
     "data": {
      "text/html": [
       "<strong style='color:darkred'>Fake praw is replacing the praw library. Fake praw doesn&#x27;t need real passwords, and prevents you from accessing real reddit</strong>"
      ],
      "text/plain": [
       "<IPython.core.display.HTML object>"
      ]
     },
     "metadata": {},
     "output_type": "display_data"
    }
   ],
   "source": [
    "%run fake_apis/fake_praw.ipynb"
   ]
  },
  {
   "cell_type": "code",
   "execution_count": 3,
   "id": "39dc0def-3a51-4048-a657-9b4006a45407",
   "metadata": {},
   "outputs": [],
   "source": [
    "%run reddit_keys.pys"
   ]
  },
  {
   "cell_type": "code",
   "execution_count": 4,
   "id": "bc314e0f-6536-40ef-8ca6-b90e4817f216",
   "metadata": {},
   "outputs": [
    {
     "data": {
      "text/html": [
       "<strong style='color:darkred'>Fake praw is pretending to collect account info to use on reddit</strong>"
      ],
      "text/plain": [
       "<IPython.core.display.HTML object>"
      ]
     },
     "metadata": {},
     "output_type": "display_data"
    }
   ],
   "source": [
    "# Give the praw code your reddit account info so\n",
    "# it can perform reddit actions\n",
    "reddit = praw.Reddit(\n",
    "    username=username, password=password,\n",
    "    client_id=client_id, client_secret=client_secret,\n",
    "    user_agent=\"a custom python script for user /\" + str(username)\n",
    ")"
   ]
  },
  {
   "cell_type": "markdown",
   "id": "2f72bcb0-1165-4ca5-ace0-0b39e3bd99d3",
   "metadata": {},
   "source": [
    "## Timed actions\n",
    "load `schedule` library and `time` library that helps us with scheduling"
   ]
  },
  {
   "cell_type": "code",
   "execution_count": 5,
   "id": "e8f829a3-96df-4f34-a508-a68680f38451",
   "metadata": {},
   "outputs": [],
   "source": [
    "# load a library that gives us a scheduling actions\n",
    "import schedule\n",
    "\n",
    "# load time library so we can write code to \n",
    "# check every second if there is a task to run\n",
    "from time import sleep"
   ]
  },
  {
   "cell_type": "markdown",
   "id": "a0d58662-bc33-4a1a-9d54-8b8960745458",
   "metadata": {},
   "source": [
    "Define a function that will be a task to run on a schedule"
   ]
  },
  {
   "cell_type": "code",
   "execution_count": 6,
   "id": "d89bd401-af82-4daf-8b41-5ba75748fb41",
   "metadata": {},
   "outputs": [],
   "source": [
    "# Define a function that when run will say that it will post \"it's lunchtime!\"\n",
    "def block_those_who_dm_me():\n",
    "    print(\"running block task\")\n",
    "    messages = reddit.inbox.messages(limit=100)\n",
    "    if messages:\n",
    "        message_list = list(messages)\n",
    "        print(\"num messages:\" + str(len(message_list)))\n",
    "        for message in message_list:\n",
    "            if(message.author):\n",
    "                message.author.block()\n",
    "            message.delete()\n",
    "    else:\n",
    "        print(\"no new messages\")\n",
    "    print()"
   ]
  },
  {
   "cell_type": "markdown",
   "id": "1b991ed9-7106-44af-bb0e-8d81e9189530",
   "metadata": {},
   "source": [
    "set the schedule for when the task should run"
   ]
  },
  {
   "cell_type": "code",
   "execution_count": 7,
   "id": "737956bd-6765-4bfa-bf03-6262f7633966",
   "metadata": {},
   "outputs": [
    {
     "data": {
      "text/plain": [
       "Every 5 seconds do block_those_who_dm_me() (last run: [never], next run: 2023-02-23 21:12:43)"
      ]
     },
     "execution_count": 7,
     "metadata": {},
     "output_type": "execute_result"
    }
   ],
   "source": [
    "# schedule the \"block_those_who_dm_me\" function to run every 5 minutes\n",
    "schedule.every(5).seconds.do(block_those_who_dm_me)"
   ]
  },
  {
   "cell_type": "markdown",
   "id": "cc315c63-bddf-4d42-9a26-d4ffe44c2efb",
   "metadata": {},
   "source": [
    "Run code that will loop forever, every second running any tasks that are ready to run"
   ]
  },
  {
   "cell_type": "code",
   "execution_count": null,
   "id": "e61a11e2-ad85-4796-a211-e06222a7dbe7",
   "metadata": {},
   "outputs": [
    {
     "name": "stdout",
     "output_type": "stream",
     "text": [
      "running block task\n",
      "num messages:1\n"
     ]
    },
    {
     "data": {
      "text/html": [
       "<strong style='color:darkred'>Fake praw is pretending to reply to block the author of this message:fake_user</strong>"
      ],
      "text/plain": [
       "<IPython.core.display.HTML object>"
      ]
     },
     "metadata": {},
     "output_type": "display_data"
    },
    {
     "data": {
      "text/html": [
       "<strong style='color:darkred'>Fake praw is pretending to delete this message: Wanting bot response</strong>"
      ],
      "text/plain": [
       "<IPython.core.display.HTML object>"
      ]
     },
     "metadata": {},
     "output_type": "display_data"
    },
    {
     "name": "stdout",
     "output_type": "stream",
     "text": [
      "\n",
      "running block task\n",
      "num messages:1\n"
     ]
    },
    {
     "data": {
      "text/html": [
       "<strong style='color:darkred'>Fake praw is pretending to reply to block the author of this message:pretend_user</strong>"
      ],
      "text/plain": [
       "<IPython.core.display.HTML object>"
      ]
     },
     "metadata": {},
     "output_type": "display_data"
    },
    {
     "data": {
      "text/html": [
       "<strong style='color:darkred'>Fake praw is pretending to delete this message: Wanting bot response</strong>"
      ],
      "text/plain": [
       "<IPython.core.display.HTML object>"
      ]
     },
     "metadata": {},
     "output_type": "display_data"
    },
    {
     "name": "stdout",
     "output_type": "stream",
     "text": [
      "\n",
      "running block task\n",
      "num messages:1\n"
     ]
    },
    {
     "data": {
      "text/html": [
       "<strong style='color:darkred'>Fake praw is pretending to reply to block the author of this message:imaginary_user</strong>"
      ],
      "text/plain": [
       "<IPython.core.display.HTML object>"
      ]
     },
     "metadata": {},
     "output_type": "display_data"
    },
    {
     "data": {
      "text/html": [
       "<strong style='color:darkred'>Fake praw is pretending to delete this message: Wanting bot response</strong>"
      ],
      "text/plain": [
       "<IPython.core.display.HTML object>"
      ]
     },
     "metadata": {},
     "output_type": "display_data"
    },
    {
     "name": "stdout",
     "output_type": "stream",
     "text": [
      "\n",
      "running block task\n",
      "num messages:1\n"
     ]
    },
    {
     "data": {
      "text/html": [
       "<strong style='color:darkred'>Fake praw is pretending to reply to block the author of this message:non_existant_user</strong>"
      ],
      "text/plain": [
       "<IPython.core.display.HTML object>"
      ]
     },
     "metadata": {},
     "output_type": "display_data"
    },
    {
     "data": {
      "text/html": [
       "<strong style='color:darkred'>Fake praw is pretending to delete this message: Wanting bot response</strong>"
      ],
      "text/plain": [
       "<IPython.core.display.HTML object>"
      ]
     },
     "metadata": {},
     "output_type": "display_data"
    },
    {
     "name": "stdout",
     "output_type": "stream",
     "text": [
      "\n",
      "running block task\n",
      "num messages:1\n"
     ]
    },
    {
     "data": {
      "text/html": [
       "<strong style='color:darkred'>Fake praw is pretending to reply to block the author of this message:you_can&#x27;t_believe_this_isn&#x27;t_a_real_user</strong>"
      ],
      "text/plain": [
       "<IPython.core.display.HTML object>"
      ]
     },
     "metadata": {},
     "output_type": "display_data"
    },
    {
     "data": {
      "text/html": [
       "<strong style='color:darkred'>Fake praw is pretending to delete this message: Wanting bot response</strong>"
      ],
      "text/plain": [
       "<IPython.core.display.HTML object>"
      ]
     },
     "metadata": {},
     "output_type": "display_data"
    },
    {
     "name": "stdout",
     "output_type": "stream",
     "text": [
      "\n",
      "running block task\n",
      "no new messages\n",
      "\n",
      "running block task\n",
      "no new messages\n",
      "\n",
      "running block task\n",
      "no new messages\n",
      "\n",
      "running block task\n",
      "no new messages\n",
      "\n",
      "running block task\n",
      "no new messages\n",
      "\n",
      "running block task\n",
      "no new messages\n",
      "\n",
      "running block task\n",
      "no new messages\n",
      "\n",
      "running block task\n",
      "no new messages\n",
      "\n",
      "running block task\n",
      "no new messages\n",
      "\n",
      "running block task\n",
      "no new messages\n",
      "\n",
      "running block task\n",
      "no new messages\n",
      "\n",
      "running block task\n",
      "no new messages\n",
      "\n",
      "running block task\n",
      "no new messages\n",
      "\n",
      "running block task\n",
      "no new messages\n",
      "\n",
      "running block task\n",
      "no new messages\n",
      "\n",
      "running block task\n",
      "no new messages\n",
      "\n",
      "running block task\n",
      "no new messages\n",
      "\n",
      "running block task\n",
      "no new messages\n",
      "\n",
      "running block task\n",
      "no new messages\n",
      "\n",
      "running block task\n",
      "no new messages\n",
      "\n",
      "running block task\n",
      "no new messages\n",
      "\n"
     ]
    }
   ],
   "source": [
    "# Loop forever, once a second running every task that needs to be run\n",
    "while True:\n",
    "    # if any tasks are ready to run, run them\n",
    "    schedule.run_pending()\n",
    "    # pause for 1 second before checking again\n",
    "    sleep(1)"
   ]
  },
  {
   "cell_type": "code",
   "execution_count": null,
   "id": "2d970a8d-d0ed-43c7-9c10-8419e133d788",
   "metadata": {},
   "outputs": [],
   "source": []
  },
  {
   "cell_type": "code",
   "execution_count": null,
   "id": "4a300e7e-3d8c-4183-b78a-81f748f370c4",
   "metadata": {},
   "outputs": [],
   "source": []
  }
 ],
 "metadata": {
  "kernelspec": {
   "display_name": "Python 3 (ipykernel)",
   "language": "python",
   "name": "python3"
  },
  "language_info": {
   "codemirror_mode": {
    "name": "ipython",
    "version": 3
   },
   "file_extension": ".py",
   "mimetype": "text/x-python",
   "name": "python",
   "nbconvert_exporter": "python",
   "pygments_lexer": "ipython3",
   "version": "3.9.7"
  }
 },
 "nbformat": 4,
 "nbformat_minor": 5
}
