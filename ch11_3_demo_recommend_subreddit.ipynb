{
 "cells": [
  {
   "cell_type": "markdown",
   "id": "f2446309-25e4-4582-a537-b8292885dcad",
   "metadata": {},
   "source": [
    "# Demo: Recommend a Subreddit\n",
    "\n",
    "Now let's look at a recommendation algorithm for a new subreddit to follow. Our algorithm will be\n",
    "\n",
    "For a given subreddit:\n",
    "1. Make a list of the accounts who made the most recent posts to the subreddit\n",
    "2. For each of those accounts, look up what subreddits they also follow\n",
    "3. While doing this, keep track of what subreddits showed up most \n",
    "4. Recommend the subreddits that showed up the most (the subreddits followed by people posting in a given subreddit)"
   ]
  },
  {
   "cell_type": "markdown",
   "id": "ae27cd44-3897-4154-b7a1-a5a807bf92c7",
   "metadata": {},
   "source": [
    "## Normal Reddit PRAW Setup"
   ]
  },
  {
   "cell_type": "code",
   "execution_count": null,
   "id": "0d45a981-86cd-41f0-bc0a-066afdc985b4",
   "metadata": {
    "tags": []
   },
   "outputs": [],
   "source": [
    "import praw"
   ]
  },
  {
   "cell_type": "markdown",
   "id": "c699f603-a604-43b9-af9e-27e3ca60f542",
   "metadata": {},
   "source": [
    "(optional) use the fake version of Reddit praw, so you don't have to use real Reddit developer access passwords"
   ]
  },
  {
   "cell_type": "code",
   "execution_count": null,
   "id": "24a8ae3d-bc92-4628-b348-75d1ffcf1bfe",
   "metadata": {},
   "outputs": [],
   "source": [
    "%run fake_apis/fake_praw.ipynb"
   ]
  },
  {
   "cell_type": "code",
   "execution_count": null,
   "id": "72567e4d-e517-43f1-a949-49fb29120ddf",
   "metadata": {},
   "outputs": [],
   "source": [
    "%run reddit_keys.py"
   ]
  },
  {
   "cell_type": "code",
   "execution_count": null,
   "id": "94c2d5da-d971-454a-aebf-3ed64e286b01",
   "metadata": {},
   "outputs": [],
   "source": [
    "# Give the praw code your reddit account info so\n",
    "# it can perform reddit actions\n",
    "reddit = praw.Reddit(\n",
    "    username=username, password=password,\n",
    "    client_id=client_id, client_secret=client_secret,\n",
    "    user_agent=\"a custom python script for user /\" + str(username)\n",
    ")"
   ]
  },
  {
   "cell_type": "markdown",
   "id": "21e1b71b-b881-4227-82f4-76df85e47df0",
   "metadata": {},
   "source": [
    "## Make a function to get subreddit suggestions\n",
    "Now we make a function that will generate subreddit suggestions.\n",
    "\n",
    "The function takes a subreddit name to start with, and also two optional arguments: `num_subreddit_posts` for how many posts it should look through in the starting subreddit, and `num_author_posts` for how many other posts by the post authors it should look through.\n",
    "\n",
    "We first get a list of submissions to the given starting subreddit. Then we create a dictionary counter (`possible_suggestion_counts`).\n",
    "\n",
    "For each of the submissions to the starting subreddit, we find the author. Then for the author we look at their recent submissions and see what subreddit that submission was on. We make sure it isn't an over18 (NSFW) subreddit, and then call it a `possible_suggestion`\n",
    "\n",
    "We then check and see if our `possible_suggestion` subreddit is already in the `possible_suggestion_counts` dictionary. If it wasn't already in the dictionary we add it (starting with a count of 1), otherwise add 1 to the count if it was already there.\n",
    "\n",
    "After the for loop we have counts for our possible suggestion subreddits. So we sort the list to put the most commonly appearing ones at the top, and we return the results."
   ]
  },
  {
   "cell_type": "code",
   "execution_count": null,
   "id": "3ef6fd70-0cf6-4b98-aaf9-3f6de82c8f2a",
   "metadata": {},
   "outputs": [],
   "source": [
    "def get_follow_suggestions(subreddit_name, num_subreddit_posts=10, num_author_posts=10):\n",
    "    \n",
    "    # Look up the given subreddit, then find the \"hot\" list, getting up to 10 submission\n",
    "    submissions = reddit.subreddit(subreddit_name).hot(limit=num_subreddit_posts)\n",
    "\n",
    "    # Turn the submission results into a Python List\n",
    "    submissions_list = list(submissions)\n",
    "    \n",
    "    # dictionary to track subreddits posted to by the authors of those submissions\n",
    "    # which will be possible suggestions\n",
    "    # The keys will be the username, and the values will be how often they\n",
    "    # appeared as post subreddits for authors of the subreddit we are starting with\n",
    "    possible_suggestion_counts = {}\n",
    "\n",
    "    # Go through each of the posts on the subreddit we are starting with\n",
    "    for submission in submissions_list:\n",
    "        \n",
    "        # display some information about the post we are looking at\n",
    "        print(\"Getting info for submission: \" + str(submission.title))\n",
    "        print(\"  author: \" + str(submission.author))\n",
    "        \n",
    "        # Get the latest submissions from the author of that post\n",
    "        latest_author_submissions = submission.author.submissions.new(limit=num_author_posts)\n",
    "        \n",
    "        # For each of those posts by that author, we'll look at what subreddit it was on\n",
    "        for author_submission in latest_author_submissions:\n",
    "\n",
    "            # A lot of subreddits are not safe for work, so we'll skip those...\n",
    "            if(not author_submission.subreddit.over18):\n",
    "                \n",
    "                # Get the name of the subreddit that post was made in\n",
    "                possible_suggestion = author_submission.subreddit.display_name\n",
    "                \n",
    "                # If this possible suggestion is not yet in the dictionary,\n",
    "                # add it with a count of one\n",
    "                if possible_suggestion not in possible_suggestion_counts:\n",
    "                    possible_suggestion_counts[possible_suggestion] = 1\n",
    "                else: #otherwise, update the count in the dictionary\n",
    "                    possible_suggestion_counts[possible_suggestion] += 1\n",
    "\n",
    "    # sort the suggestions by who appeared the most\n",
    "    ordered_suggestions = sorted(possible_suggestion_counts.items(), key=lambda x: -x[1])\n",
    "\n",
    "    # return our recommendations for subreddits to follow\n",
    "    return ordered_suggestions"
   ]
  },
  {
   "cell_type": "markdown",
   "id": "e55421ee-bda1-44fc-b7eb-1afa3ae4aed7",
   "metadata": {},
   "source": [
    "## Test our function (suggest follows)\n",
    "Now that our function is ready, we can test it out and see who we suggest our \"fake_user\" should follow (if you skip fake_tweepy and log into real twitter, you can do this for real users)"
   ]
  },
  {
   "cell_type": "code",
   "execution_count": null,
   "id": "1c0e2227-1f1e-4e54-8035-36107b6c7318",
   "metadata": {},
   "outputs": [],
   "source": [
    "suggestions = get_follow_suggestions(\"cuteanimals\")\n",
    "\n",
    "display(\"suggested subreddits:\")\n",
    "display(suggestions)"
   ]
  },
  {
   "cell_type": "markdown",
   "id": "94f52813-14a2-4371-92db-c3d742f97a53",
   "metadata": {},
   "source": [
    "## Try it youself!\n",
    "If you skip the fake_praw step and run this on real Reddit, you might notice:\n",
    "- The top suggestion is often the subreddit you are already looking at\n",
    "- If the same author posted multiple times in our starting subreddit, we count all the places they posted again (double counting)\n",
    "- There might still be some offensive subreddits even after we tried to filter out specifically labeled NSFW ones\n",
    "- the suggestion lists can be very long, even if you are only looking at the default num_subreddit_posts=10 and num_author_posts=10\n",
    "\n",
    "We could of course add more code to deal with those issues, but hopefully you can at least get the idea of how this recommendation algorithm works :)"
   ]
  },
  {
   "cell_type": "code",
   "execution_count": null,
   "id": "e267ec90-69f2-4fc3-935b-709a185f3b62",
   "metadata": {},
   "outputs": [],
   "source": []
  }
 ],
 "metadata": {
  "kernelspec": {
   "display_name": "Python 3 (ipykernel)",
   "language": "python",
   "name": "python3"
  },
  "language_info": {
   "codemirror_mode": {
    "name": "ipython",
    "version": 3
   },
   "file_extension": ".py",
   "mimetype": "text/x-python",
   "name": "python",
   "nbconvert_exporter": "python",
   "pygments_lexer": "ipython3",
   "version": "3.9.7"
  }
 },
 "nbformat": 4,
 "nbformat_minor": 5
}
