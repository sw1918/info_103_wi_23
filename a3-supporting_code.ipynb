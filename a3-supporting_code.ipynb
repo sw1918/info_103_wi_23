{
 "cells": [
  {
   "cell_type": "markdown",
   "id": "e8dd6c88-6977-41e6-a8e7-4bc927524073",
   "metadata": {},
   "source": [
    "# A3 Supporting Code\n",
    "This is code that helps make a3 work. You can look through it if you want, but there is no need to understand it."
   ]
  },
  {
   "cell_type": "markdown",
   "id": "f809fad5-55a7-4fc3-81dd-30d92831fa92",
   "metadata": {},
   "source": [
    "Our measure of media website bias and reliability is based on the Media Bias Chart 9.0 (https://adfontesmedia.com/static-mbc)\n",
    "\n",
    "I have made a file with some of the sites shown on that chart. I made my own simplification based on the grid in the graphic with bias ranging from -4 to +4, and reliability from -4 to +2 as follows:\n",
    "![Media bias chart with grid, showing the range labels](./imgs/bias_chart_divisions.jpg)\n",
    "\n",
    "\n",
    "Note: If you want to look more at the file, it is saved as `media_info.csv`(a comma separated variable file).\n",
    "- Each row of text is the info for one media site. For example:\n",
    "`wsws.org,-3,-1`\n",
    "Means that the site wsws.org has a bias of -3 (Hyper-Partisan Left) and a reliability of -1 (Opinion OR High Variation in Reliability). \n",
    "- You can open the by right-clicking media_info.csv and selecting Open With -> Editor. You can then modify entries, or add new ones for more sites (like from the interactive media bias chart here: https://adfontesmedia.com/interactive-media-bias-chart/). Then save it and rerun this code and the code below.\n",
    "\n",
    "The code below loads the bias and reliability info and makes three things that the code will use later:\n",
    "- a `find_matching_site(url)` function, which given a url to an article or something, tries to find the site it's from (e.g., \"https://www.npr.org/sections/codeswitch/\" is from the site \"npr.org\"\n",
    "- `media_bias_lookup` a dictionary that when given a site (like \"npr.org\"), finds the bias for the site (for npr.org: -1)\n",
    "- `media_reliability_lookup` a dictionary that when given a site (like \"npr.org\"), finds the reliability for the site (for npr.org: 1)"
   ]
  },
  {
   "cell_type": "code",
   "execution_count": null,
   "id": "f607fedf-66bb-4dee-b41c-1c9aeb9c3619",
   "metadata": {},
   "outputs": [],
   "source": [
    "# load the pandas code library, which helps us use the csv file\n",
    "import pandas as pd\n",
    "\n",
    "# load the media_info.csv file\n",
    "media_info_df = pd.read_csv('media_info.csv')\n",
    "\n",
    "# get a list of the sites we have information for in the media_info.csv\n",
    "media_sites = media_info_df['site']\n",
    "\n",
    "def find_matching_site(url):\n",
    "    for site in media_sites:\n",
    "        if site in url:\n",
    "            return site   \n",
    "\n",
    "# make a lookup dictionary, where they key is the site, and the value is the bias for that site\n",
    "media_bias_lookup = {m_info['site']: m_info['bias'] for i, m_info in media_info_df.iterrows()}\n",
    "\n",
    "# make a lookup dictionary, where they key is the site, and the value is the reliability for that site\n",
    "media_reliability_lookup = {m_info['site']: m_info['reliability'] for i, m_info in media_info_df.iterrows()}"
   ]
  }
 ],
 "metadata": {
  "kernelspec": {
   "display_name": "Python 3 (ipykernel)",
   "language": "python",
   "name": "python3"
  },
  "language_info": {
   "codemirror_mode": {
    "name": "ipython",
    "version": 3
   },
   "file_extension": ".py",
   "mimetype": "text/x-python",
   "name": "python",
   "nbconvert_exporter": "python",
   "pygments_lexer": "ipython3",
   "version": "3.9.7"
  }
 },
 "nbformat": 4,
 "nbformat_minor": 5
}
