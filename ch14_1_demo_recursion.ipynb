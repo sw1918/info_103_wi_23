{
 "cells": [
  {
   "cell_type": "markdown",
   "id": "0cd4388e-b71c-4bd1-a60e-d2ef3933f3de",
   "metadata": {},
   "source": [
    "# Demo: Navigating Trees (recursion)"
   ]
  },
  {
   "cell_type": "markdown",
   "id": "58f0c993-bce6-43ed-bb8f-cb1771582cd3",
   "metadata": {},
   "source": [
    "## Structure of Comments & Replies\n",
    "Let's look at our example from before of comments and replies:\n",
    "![Initial tweet: \"That last exam in sure was hard!\" Two main replies, the first is \"It sure was hard, what score did you get?\" and that replies has two replies: \"I got a 67% :(\" and \"I got a 73%\". The second main reply is \"I didn't think it was that bad\". That second main reply has two replies, the first is \"how was that not a super hard exam?\" and the second is \"of course you didn't\", which has a reply \"what's that supposed to mean?\" which has a reply \"you're an overacheiver\" which has a reply \"and that's bad how?\"](imgs/comments_replies_trees.png)\n",
    "\n",
    "When we want to represent Trees (like comments and replies) in code, one way of doing so is by using dictionaries.\n",
    "\n",
    "Our initial tweet will be a dictionary with `text` (the comment text), and `replies` (a list of dictionaries).\n",
    "\n",
    "Each of those replies will in turn be a dictioary with `text` (the reply text), and `replies` to that reply (a list of dictionaries). \n",
    "\n",
    "And so on.\n",
    "\n",
    "Below is code to store that in a variable (though it looks kind of messy):"
   ]
  },
  {
   "cell_type": "code",
   "execution_count": 1,
   "id": "ea0ea0b2-c15b-4fee-bc11-0aaee187dc5a",
   "metadata": {},
   "outputs": [],
   "source": [
    "comment_about_exam = {\n",
    "    'text': 'That last exam in sure was hard!',\n",
    "    'replies':[{\n",
    "        'text': 'It sure was hard, what score did you get? ',\n",
    "        'replies': [{\n",
    "            'text': 'I got a 67% :(',\n",
    "            'replies': []\n",
    "        },{\n",
    "            'text': 'I got a 73%',\n",
    "            'replies': []\n",
    "        }]\n",
    "    }, {\n",
    "        'text': 'I didn\\'t think it was that bad',\n",
    "        'replies': [{\n",
    "            'text': 'how was that not a super hard exam?',\n",
    "            'replies': []\n",
    "        }, {\n",
    "            'text': 'of course you didn\\'t',\n",
    "            'replies': [{\n",
    "                'text': 'what\\'s that supposed to mean?',\n",
    "                'replies': [{\n",
    "                    'text': 'you\\'re an overacheiver',\n",
    "                    'replies': [{\n",
    "                        'text': 'and that\\'s bad how?',\n",
    "                        'replies': []\n",
    "                    }]\n",
    "                }]\n",
    "            }]\n",
    "        }]\n",
    "    }]\n",
    "}"
   ]
  },
  {
   "cell_type": "markdown",
   "id": "9badcac1-e8f5-446a-82cf-df51e704359e",
   "metadata": {},
   "source": [
    "We'll also make a function that will help us display a message in a box that is indented over. Don't worry about the details, but this uses HTML display styling, which is how websites do styling."
   ]
  },
  {
   "cell_type": "code",
   "execution_count": 2,
   "id": "dd2d3325-37ca-4d13-b1cf-09c962654e2c",
   "metadata": {},
   "outputs": [],
   "source": [
    "from IPython.display import HTML, Image, display\n",
    "import html\n",
    "def display_indented(text, left_margin=0):\n",
    "    display(\n",
    "        HTML(\n",
    "            \"<pre style='border:solid 1px;padding:3px;margin-left:\"+ str(left_margin) + \"px'>\" + \n",
    "            html.escape(text) + \n",
    "            \"</pre>\"\n",
    "        )\n",
    "    )"
   ]
  },
  {
   "cell_type": "markdown",
   "id": "9a7881dd-f2f4-41d7-b027-23bf46123d76",
   "metadata": {},
   "source": [
    "The function above takes the `text` to be displayed, and optionally the `left_margin` for how much to indent the text box. \n",
    "\n",
    "Below are some examples of how it works:"
   ]
  },
  {
   "cell_type": "code",
   "execution_count": 3,
   "id": "afa385fa-184f-44ff-ba9e-7de9fe8b1430",
   "metadata": {},
   "outputs": [
    {
     "data": {
      "text/html": [
       "<pre style='border:solid 1px;padding:3px;margin-left:0px'>Here is an example</pre>"
      ],
      "text/plain": [
       "<IPython.core.display.HTML object>"
      ]
     },
     "metadata": {},
     "output_type": "display_data"
    }
   ],
   "source": [
    "display_indented(\"Here is an example\")"
   ]
  },
  {
   "cell_type": "code",
   "execution_count": 4,
   "id": "176bdb18-8b05-4d22-be6f-cfea5c32ece7",
   "metadata": {},
   "outputs": [
    {
     "data": {
      "text/html": [
       "<pre style='border:solid 1px;padding:3px;margin-left:20px'>Here is an example with an left_margin of 20</pre>"
      ],
      "text/plain": [
       "<IPython.core.display.HTML object>"
      ]
     },
     "metadata": {},
     "output_type": "display_data"
    }
   ],
   "source": [
    "display_indented(\"Here is an example with an left_margin of 20\", left_margin=20)"
   ]
  },
  {
   "cell_type": "markdown",
   "id": "6dcd98dd-004e-400d-925b-e603e34e8695",
   "metadata": {},
   "source": [
    "## Navigating tree\n",
    "\n",
    "Now let's consider how we can navigate this tree of comments and replies.\n",
    "\n",
    "First, we can just print out the initial tweet (the root):"
   ]
  },
  {
   "cell_type": "code",
   "execution_count": 5,
   "id": "740191bd-ec6c-460f-9614-25b5711a963c",
   "metadata": {},
   "outputs": [
    {
     "data": {
      "text/html": [
       "<pre style='border:solid 1px;padding:3px;margin-left:0px'>That last exam in sure was hard!</pre>"
      ],
      "text/plain": [
       "<IPython.core.display.HTML object>"
      ]
     },
     "metadata": {},
     "output_type": "display_data"
    }
   ],
   "source": [
    "display_indented(comment_about_exam['text'])"
   ]
  },
  {
   "cell_type": "markdown",
   "id": "168737e9-686d-44ed-a737-09141e526a7d",
   "metadata": {},
   "source": [
    "### Navigate with for loops\n",
    "\n",
    "If we want to print the initial tweet, and just the replies to that tweet, we can use a for loop, like this:"
   ]
  },
  {
   "cell_type": "code",
   "execution_count": 6,
   "id": "05ea4c2e-f2d9-49c0-9ffc-21682595e1fe",
   "metadata": {},
   "outputs": [
    {
     "data": {
      "text/html": [
       "<pre style='border:solid 1px;padding:3px;margin-left:0px'>That last exam in sure was hard!</pre>"
      ],
      "text/plain": [
       "<IPython.core.display.HTML object>"
      ]
     },
     "metadata": {},
     "output_type": "display_data"
    },
    {
     "data": {
      "text/html": [
       "<pre style='border:solid 1px;padding:3px;margin-left:20px'>It sure was hard, what score did you get? </pre>"
      ],
      "text/plain": [
       "<IPython.core.display.HTML object>"
      ]
     },
     "metadata": {},
     "output_type": "display_data"
    },
    {
     "data": {
      "text/html": [
       "<pre style='border:solid 1px;padding:3px;margin-left:20px'>I didn&#x27;t think it was that bad</pre>"
      ],
      "text/plain": [
       "<IPython.core.display.HTML object>"
      ]
     },
     "metadata": {},
     "output_type": "display_data"
    }
   ],
   "source": [
    "display_indented(comment_about_exam['text'])\n",
    "\n",
    "for reply in comment_about_exam['replies']:\n",
    "    display_indented(reply['text'], left_margin=20)\n"
   ]
  },
  {
   "cell_type": "markdown",
   "id": "5aa5738f-4fbf-4696-a044-c2b37894035e",
   "metadata": {},
   "source": [
    "If we also want to include the replies to those initial replies, we can put another for loop inside of there:"
   ]
  },
  {
   "cell_type": "code",
   "execution_count": 7,
   "id": "b8253370-c1dd-41fa-9e70-cca4c69be704",
   "metadata": {},
   "outputs": [
    {
     "data": {
      "text/html": [
       "<pre style='border:solid 1px;padding:3px;margin-left:0px'>That last exam in sure was hard!</pre>"
      ],
      "text/plain": [
       "<IPython.core.display.HTML object>"
      ]
     },
     "metadata": {},
     "output_type": "display_data"
    },
    {
     "data": {
      "text/html": [
       "<pre style='border:solid 1px;padding:3px;margin-left:20px'>It sure was hard, what score did you get? </pre>"
      ],
      "text/plain": [
       "<IPython.core.display.HTML object>"
      ]
     },
     "metadata": {},
     "output_type": "display_data"
    },
    {
     "data": {
      "text/html": [
       "<pre style='border:solid 1px;padding:3px;margin-left:40px'>I got a 67% :(</pre>"
      ],
      "text/plain": [
       "<IPython.core.display.HTML object>"
      ]
     },
     "metadata": {},
     "output_type": "display_data"
    },
    {
     "data": {
      "text/html": [
       "<pre style='border:solid 1px;padding:3px;margin-left:40px'>I got a 73%</pre>"
      ],
      "text/plain": [
       "<IPython.core.display.HTML object>"
      ]
     },
     "metadata": {},
     "output_type": "display_data"
    },
    {
     "data": {
      "text/html": [
       "<pre style='border:solid 1px;padding:3px;margin-left:20px'>I didn&#x27;t think it was that bad</pre>"
      ],
      "text/plain": [
       "<IPython.core.display.HTML object>"
      ]
     },
     "metadata": {},
     "output_type": "display_data"
    },
    {
     "data": {
      "text/html": [
       "<pre style='border:solid 1px;padding:3px;margin-left:40px'>how was that not a super hard exam?</pre>"
      ],
      "text/plain": [
       "<IPython.core.display.HTML object>"
      ]
     },
     "metadata": {},
     "output_type": "display_data"
    },
    {
     "data": {
      "text/html": [
       "<pre style='border:solid 1px;padding:3px;margin-left:40px'>of course you didn&#x27;t</pre>"
      ],
      "text/plain": [
       "<IPython.core.display.HTML object>"
      ]
     },
     "metadata": {},
     "output_type": "display_data"
    }
   ],
   "source": [
    "display_indented(comment_about_exam['text'])\n",
    "\n",
    "for reply in comment_about_exam['replies']:\n",
    "    display_indented(reply['text'], left_margin=20)\n",
    "    \n",
    "    for reply_reply in reply['replies']:\n",
    "        display_indented(reply_reply['text'], left_margin=40)"
   ]
  },
  {
   "cell_type": "markdown",
   "id": "c42333f3-d535-44cc-a3f6-571422832acd",
   "metadata": {},
   "source": [
    "If we want to get all of the replies in our example though, we'll need to have a for loop for each level, but the code is going to be getting messy:"
   ]
  },
  {
   "cell_type": "code",
   "execution_count": 8,
   "id": "729405dd-6fc0-4840-9454-39e6be431ead",
   "metadata": {},
   "outputs": [
    {
     "data": {
      "text/html": [
       "<pre style='border:solid 1px;padding:3px;margin-left:0px'>That last exam in sure was hard!</pre>"
      ],
      "text/plain": [
       "<IPython.core.display.HTML object>"
      ]
     },
     "metadata": {},
     "output_type": "display_data"
    },
    {
     "data": {
      "text/html": [
       "<pre style='border:solid 1px;padding:3px;margin-left:20px'>It sure was hard, what score did you get? </pre>"
      ],
      "text/plain": [
       "<IPython.core.display.HTML object>"
      ]
     },
     "metadata": {},
     "output_type": "display_data"
    },
    {
     "data": {
      "text/html": [
       "<pre style='border:solid 1px;padding:3px;margin-left:40px'>I got a 67% :(</pre>"
      ],
      "text/plain": [
       "<IPython.core.display.HTML object>"
      ]
     },
     "metadata": {},
     "output_type": "display_data"
    },
    {
     "data": {
      "text/html": [
       "<pre style='border:solid 1px;padding:3px;margin-left:40px'>I got a 73%</pre>"
      ],
      "text/plain": [
       "<IPython.core.display.HTML object>"
      ]
     },
     "metadata": {},
     "output_type": "display_data"
    },
    {
     "data": {
      "text/html": [
       "<pre style='border:solid 1px;padding:3px;margin-left:20px'>I didn&#x27;t think it was that bad</pre>"
      ],
      "text/plain": [
       "<IPython.core.display.HTML object>"
      ]
     },
     "metadata": {},
     "output_type": "display_data"
    },
    {
     "data": {
      "text/html": [
       "<pre style='border:solid 1px;padding:3px;margin-left:40px'>how was that not a super hard exam?</pre>"
      ],
      "text/plain": [
       "<IPython.core.display.HTML object>"
      ]
     },
     "metadata": {},
     "output_type": "display_data"
    },
    {
     "data": {
      "text/html": [
       "<pre style='border:solid 1px;padding:3px;margin-left:40px'>of course you didn&#x27;t</pre>"
      ],
      "text/plain": [
       "<IPython.core.display.HTML object>"
      ]
     },
     "metadata": {},
     "output_type": "display_data"
    },
    {
     "data": {
      "text/html": [
       "<pre style='border:solid 1px;padding:3px;margin-left:60px'>what&#x27;s that supposed to mean?</pre>"
      ],
      "text/plain": [
       "<IPython.core.display.HTML object>"
      ]
     },
     "metadata": {},
     "output_type": "display_data"
    },
    {
     "data": {
      "text/html": [
       "<pre style='border:solid 1px;padding:3px;margin-left:80px'>you&#x27;re an overacheiver</pre>"
      ],
      "text/plain": [
       "<IPython.core.display.HTML object>"
      ]
     },
     "metadata": {},
     "output_type": "display_data"
    },
    {
     "data": {
      "text/html": [
       "<pre style='border:solid 1px;padding:3px;margin-left:100px'>and that&#x27;s bad how?</pre>"
      ],
      "text/plain": [
       "<IPython.core.display.HTML object>"
      ]
     },
     "metadata": {},
     "output_type": "display_data"
    }
   ],
   "source": [
    "display_indented(comment_about_exam['text'])\n",
    "\n",
    "for reply in comment_about_exam['replies']:\n",
    "    display_indented(reply['text'], left_margin=20)\n",
    "    \n",
    "    for reply_reply in reply['replies']:\n",
    "        display_indented(reply_reply['text'], left_margin=40)\n",
    "        \n",
    "        for reply_reply_reply in reply_reply['replies']:\n",
    "            display_indented(reply_reply_reply['text'], left_margin=60)\n",
    "            \n",
    "            for reply_reply_reply_reply in reply_reply_reply['replies']:\n",
    "                display_indented(reply_reply_reply_reply['text'], left_margin=80)\n",
    "                \n",
    "                for reply_reply_reply_reply_reply in reply_reply_reply_reply['replies']:\n",
    "                    display_indented(reply_reply_reply_reply_reply['text'], left_margin=100)"
   ]
  },
  {
   "cell_type": "markdown",
   "id": "7b0df479-6097-4c25-83b5-e91d74649df6",
   "metadata": {},
   "source": [
    "#### for loops didn't work great\n",
    "Our code was messy, and if there were even more levels, we'd need even more for loops. This could go on endlessly."
   ]
  },
  {
   "cell_type": "markdown",
   "id": "b82990b4-e510-42e6-97b9-aad3daa78caa",
   "metadata": {
    "tags": []
   },
   "source": [
    "### Navigate with recursion: a function that calls itself\n",
    "We can use a clever programming trick that will work better.\n",
    "\n",
    "We make a function that prints a comment and all the replies (`print_comment_and_replies`). So our function will first print the text of the comment, and then it will go through each reply, but instead of printing the reply directly, there is a function that will print that comment and all replies to it: `print_comment_and_replies` (which is the function we are writing).\n",
    "\n",
    "This trick can be confusing to understand (and it's ok if you don't), but let's look at it again in psuedocode:\n",
    "\n",
    "The function `print_comment_and_replies` does the following\n",
    "1. Print the text of the comment\n",
    "2. For each of the replies to that comment, use the `print_comment_and_replies` function to print it out\n",
    "\n",
    "So, we will call `print_comment_and_replies` with our initial comment, and that function will then call `print_comment_and_replies` for each of the replys to that comment, and then those new calls to `print_comment_and_replies` will call `print_comment_and_replies` for all the replies to those comments, and so on, until all the comments are printed out.\n",
    "\n",
    "_Note: In computer science terms, this is called a \"depth-first search\" algorithm_\n",
    "\n",
    "The actual code for `print_comment_and_replies` is here:"
   ]
  },
  {
   "cell_type": "code",
   "execution_count": 9,
   "id": "2b8f6de2-6423-4906-865e-153d28230264",
   "metadata": {},
   "outputs": [],
   "source": [
    "def print_comment_and_replies(comment):\n",
    "    # print comment\n",
    "    display_indented(comment['text'])\n",
    "    \n",
    "    #print replies (and the replies of those, etc.)\n",
    "    for reply in comment['replies']:\n",
    "        print_comment_and_replies(reply)"
   ]
  },
  {
   "cell_type": "markdown",
   "id": "2e981717-6405-40ca-b3e7-8695a9d50024",
   "metadata": {},
   "source": [
    "And we can test it out on our tweet and see it work"
   ]
  },
  {
   "cell_type": "code",
   "execution_count": 10,
   "id": "f33a524a-9d47-4a24-b388-0bd0033b6fe8",
   "metadata": {},
   "outputs": [
    {
     "data": {
      "text/html": [
       "<pre style='border:solid 1px;padding:3px;margin-left:0px'>That last exam in sure was hard!</pre>"
      ],
      "text/plain": [
       "<IPython.core.display.HTML object>"
      ]
     },
     "metadata": {},
     "output_type": "display_data"
    },
    {
     "data": {
      "text/html": [
       "<pre style='border:solid 1px;padding:3px;margin-left:0px'>It sure was hard, what score did you get? </pre>"
      ],
      "text/plain": [
       "<IPython.core.display.HTML object>"
      ]
     },
     "metadata": {},
     "output_type": "display_data"
    },
    {
     "data": {
      "text/html": [
       "<pre style='border:solid 1px;padding:3px;margin-left:0px'>I got a 67% :(</pre>"
      ],
      "text/plain": [
       "<IPython.core.display.HTML object>"
      ]
     },
     "metadata": {},
     "output_type": "display_data"
    },
    {
     "data": {
      "text/html": [
       "<pre style='border:solid 1px;padding:3px;margin-left:0px'>I got a 73%</pre>"
      ],
      "text/plain": [
       "<IPython.core.display.HTML object>"
      ]
     },
     "metadata": {},
     "output_type": "display_data"
    },
    {
     "data": {
      "text/html": [
       "<pre style='border:solid 1px;padding:3px;margin-left:0px'>I didn&#x27;t think it was that bad</pre>"
      ],
      "text/plain": [
       "<IPython.core.display.HTML object>"
      ]
     },
     "metadata": {},
     "output_type": "display_data"
    },
    {
     "data": {
      "text/html": [
       "<pre style='border:solid 1px;padding:3px;margin-left:0px'>how was that not a super hard exam?</pre>"
      ],
      "text/plain": [
       "<IPython.core.display.HTML object>"
      ]
     },
     "metadata": {},
     "output_type": "display_data"
    },
    {
     "data": {
      "text/html": [
       "<pre style='border:solid 1px;padding:3px;margin-left:0px'>of course you didn&#x27;t</pre>"
      ],
      "text/plain": [
       "<IPython.core.display.HTML object>"
      ]
     },
     "metadata": {},
     "output_type": "display_data"
    },
    {
     "data": {
      "text/html": [
       "<pre style='border:solid 1px;padding:3px;margin-left:0px'>what&#x27;s that supposed to mean?</pre>"
      ],
      "text/plain": [
       "<IPython.core.display.HTML object>"
      ]
     },
     "metadata": {},
     "output_type": "display_data"
    },
    {
     "data": {
      "text/html": [
       "<pre style='border:solid 1px;padding:3px;margin-left:0px'>you&#x27;re an overacheiver</pre>"
      ],
      "text/plain": [
       "<IPython.core.display.HTML object>"
      ]
     },
     "metadata": {},
     "output_type": "display_data"
    },
    {
     "data": {
      "text/html": [
       "<pre style='border:solid 1px;padding:3px;margin-left:0px'>and that&#x27;s bad how?</pre>"
      ],
      "text/plain": [
       "<IPython.core.display.HTML object>"
      ]
     },
     "metadata": {},
     "output_type": "display_data"
    }
   ],
   "source": [
    "print_comment_and_replies(comment_about_exam)"
   ]
  },
  {
   "cell_type": "markdown",
   "id": "b0c5de55-075a-42c6-af6e-8c0e1c781590",
   "metadata": {},
   "source": [
    "In the above result, there were no indents, but we can use another trick (getting more confusing) where we track how many indents to make when the function is called (by default, it starts at 0). When the function calls itself to print the replies, we adde:"
   ]
  },
  {
   "cell_type": "code",
   "execution_count": 11,
   "id": "1c22b0d6-50ea-436f-b101-527b2f58f8ce",
   "metadata": {},
   "outputs": [],
   "source": [
    "def print_comment_and_replies(comment, num_indents=0):\n",
    "    # print indented comment\n",
    "    display_indented(comment['text'], left_margin=num_indents*20)\n",
    "    \n",
    "    #print replies (and the replies of those, etc.)\n",
    "    for reply in comment['replies']:\n",
    "        print_comment_and_replies(reply, num_indents = num_indents + 1)"
   ]
  },
  {
   "cell_type": "markdown",
   "id": "303bb992-7e66-4cad-beb7-6db83a945300",
   "metadata": {},
   "source": [
    "And when we test this out, we can see the result"
   ]
  },
  {
   "cell_type": "code",
   "execution_count": 12,
   "id": "44cdabd3-5c6c-4b38-8fc8-4b3dfeae11c7",
   "metadata": {},
   "outputs": [
    {
     "data": {
      "text/html": [
       "<pre style='border:solid 1px;padding:3px;margin-left:0px'>That last exam in sure was hard!</pre>"
      ],
      "text/plain": [
       "<IPython.core.display.HTML object>"
      ]
     },
     "metadata": {},
     "output_type": "display_data"
    },
    {
     "data": {
      "text/html": [
       "<pre style='border:solid 1px;padding:3px;margin-left:20px'>It sure was hard, what score did you get? </pre>"
      ],
      "text/plain": [
       "<IPython.core.display.HTML object>"
      ]
     },
     "metadata": {},
     "output_type": "display_data"
    },
    {
     "data": {
      "text/html": [
       "<pre style='border:solid 1px;padding:3px;margin-left:40px'>I got a 67% :(</pre>"
      ],
      "text/plain": [
       "<IPython.core.display.HTML object>"
      ]
     },
     "metadata": {},
     "output_type": "display_data"
    },
    {
     "data": {
      "text/html": [
       "<pre style='border:solid 1px;padding:3px;margin-left:40px'>I got a 73%</pre>"
      ],
      "text/plain": [
       "<IPython.core.display.HTML object>"
      ]
     },
     "metadata": {},
     "output_type": "display_data"
    },
    {
     "data": {
      "text/html": [
       "<pre style='border:solid 1px;padding:3px;margin-left:20px'>I didn&#x27;t think it was that bad</pre>"
      ],
      "text/plain": [
       "<IPython.core.display.HTML object>"
      ]
     },
     "metadata": {},
     "output_type": "display_data"
    },
    {
     "data": {
      "text/html": [
       "<pre style='border:solid 1px;padding:3px;margin-left:40px'>how was that not a super hard exam?</pre>"
      ],
      "text/plain": [
       "<IPython.core.display.HTML object>"
      ]
     },
     "metadata": {},
     "output_type": "display_data"
    },
    {
     "data": {
      "text/html": [
       "<pre style='border:solid 1px;padding:3px;margin-left:40px'>of course you didn&#x27;t</pre>"
      ],
      "text/plain": [
       "<IPython.core.display.HTML object>"
      ]
     },
     "metadata": {},
     "output_type": "display_data"
    },
    {
     "data": {
      "text/html": [
       "<pre style='border:solid 1px;padding:3px;margin-left:60px'>what&#x27;s that supposed to mean?</pre>"
      ],
      "text/plain": [
       "<IPython.core.display.HTML object>"
      ]
     },
     "metadata": {},
     "output_type": "display_data"
    },
    {
     "data": {
      "text/html": [
       "<pre style='border:solid 1px;padding:3px;margin-left:80px'>you&#x27;re an overacheiver</pre>"
      ],
      "text/plain": [
       "<IPython.core.display.HTML object>"
      ]
     },
     "metadata": {},
     "output_type": "display_data"
    },
    {
     "data": {
      "text/html": [
       "<pre style='border:solid 1px;padding:3px;margin-left:100px'>and that&#x27;s bad how?</pre>"
      ],
      "text/plain": [
       "<IPython.core.display.HTML object>"
      ]
     },
     "metadata": {},
     "output_type": "display_data"
    }
   ],
   "source": [
    "print_comment_and_replies(comment_about_exam)"
   ]
  }
 ],
 "metadata": {
  "kernelspec": {
   "display_name": "Python 3 (ipykernel)",
   "language": "python",
   "name": "python3"
  },
  "language_info": {
   "codemirror_mode": {
    "name": "ipython",
    "version": 3
   },
   "file_extension": ".py",
   "mimetype": "text/x-python",
   "name": "python",
   "nbconvert_exporter": "python",
   "pygments_lexer": "ipython3",
   "version": "3.10.4"
  }
 },
 "nbformat": 4,
 "nbformat_minor": 5
}
