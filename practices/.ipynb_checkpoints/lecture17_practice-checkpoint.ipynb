{
 "cells": [
  {
   "cell_type": "markdown",
   "id": "4d8fb673-373b-4495-923b-cc5df2d583e1",
   "metadata": {},
   "source": [
    "#Practice: User Input"
   ]
  },
  {
   "cell_type": "markdown",
   "id": "164d31b7-1e28-4eb9-b2ee-361414cf17b9",
   "metadata": {},
   "source": [
    "Imagine the following variable is a list of users you follow on social media:"
   ]
  },
  {
   "cell_type": "code",
   "execution_count": 2,
   "id": "7a6a20f4-a9d6-4b52-bfad-108fdd005698",
   "metadata": {},
   "outputs": [],
   "source": [
    "following = [\"mario\", \"luigi\", \"bowser\", \"toad\", \"peach\", \"donkey kong\", \"rosalina\", \"dry bones\", \"wiggler\", \"goomba\"] "
   ]
  },
  {
   "cell_type": "markdown",
   "id": "fc424fec-3172-4a5a-9101-8787efe09c5c",
   "metadata": {},
   "source": [
    "Create a program that does the following:\n",
    "1. Gives the user the option to follow a user, block a user, or exit.\n",
    "2. If the user picks follow, allows them to input the name of someone they want to follow, and add them to the list\n",
    "3. If the user picks block, allows them to input the name of someone they want to block, and remove them from the list\n",
    "4. Repeats until the user chooses to exit. "
   ]
  },
  {
   "cell_type": "code",
   "execution_count": null,
   "id": "fc58f056-59de-4457-9b97-797aa6b954e4",
   "metadata": {},
   "outputs": [],
   "source": []
  }
 ],
 "metadata": {
  "kernelspec": {
   "display_name": "Python 3 (ipykernel)",
   "language": "python",
   "name": "python3"
  },
  "language_info": {
   "codemirror_mode": {
    "name": "ipython",
    "version": 3
   },
   "file_extension": ".py",
   "mimetype": "text/x-python",
   "name": "python",
   "nbconvert_exporter": "python",
   "pygments_lexer": "ipython3",
   "version": "3.12.0"
  }
 },
 "nbformat": 4,
 "nbformat_minor": 5
}
