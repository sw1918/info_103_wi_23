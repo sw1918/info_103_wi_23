{
 "cells": [
  {
   "cell_type": "markdown",
   "id": "a779ca3a-c174-4e88-93ac-2124c7ea049a",
   "metadata": {},
   "source": [
    "# Practice: Functions"
   ]
  },
  {
   "cell_type": "markdown",
   "id": "f8b9a28a-bce4-43d7-a234-9630cec351e5",
   "metadata": {},
   "source": [
    "Create a function called `say_goodbye` which displays the text \"Goodbye!\""
   ]
  },
  {
   "cell_type": "code",
   "execution_count": null,
   "id": "e545fffe-aaf3-4a95-9986-253a5b38d59e",
   "metadata": {},
   "outputs": [],
   "source": [
    "# TODO: enter your code here"
   ]
  },
  {
   "cell_type": "markdown",
   "id": "1c12fad5-2a64-4b62-a2f7-e1e11de61c76",
   "metadata": {},
   "source": [
    "Write code that calls the function `say_goodbye`"
   ]
  },
  {
   "cell_type": "code",
   "execution_count": null,
   "id": "f900305a-fce0-4454-90da-0ee7bb7281b4",
   "metadata": {},
   "outputs": [],
   "source": [
    "# TODO: enter your code here"
   ]
  },
  {
   "cell_type": "markdown",
   "id": "e92e7c28-e056-464a-ab85-8c2fdfede606",
   "metadata": {},
   "source": [
    "Redefine the function `say_goodbye` to take a parameter called `name`, and have it display \"Goodbye name!\" where \"name\" is replaced by whatever was in the `name` variable "
   ]
  },
  {
   "cell_type": "code",
   "execution_count": null,
   "id": "aed3ac8c-0e5e-47f3-b717-342b2268f6a4",
   "metadata": {},
   "outputs": [],
   "source": [
    "# TODO: enter your code here"
   ]
  },
  {
   "cell_type": "markdown",
   "id": "02c35e96-aab7-4e9e-abef-a7abbd6ee89c",
   "metadata": {},
   "source": [
    "Write code that calls the function say_goodbye but with your name as a parameter"
   ]
  },
  {
   "cell_type": "code",
   "execution_count": null,
   "id": "cb994c52-8e78-4217-b5ca-87bb0a415574",
   "metadata": {},
   "outputs": [],
   "source": [
    "# TODO: enter your code here"
   ]
  },
  {
   "cell_type": "markdown",
   "id": "b081c675-30e5-44aa-a0a6-65294c3786d5",
   "metadata": {},
   "source": [
    "Try out the code below which counts from 0 to 4 slowly:"
   ]
  },
  {
   "cell_type": "code",
   "execution_count": null,
   "id": "4b5e76a1-ff50-419d-94b9-a30ef25a74f2",
   "metadata": {},
   "outputs": [],
   "source": [
    "import time # We need the time library for the following examples"
   ]
  },
  {
   "cell_type": "code",
   "execution_count": null,
   "id": "ce648053-6a47-4cd2-9396-9d12c1d973fc",
   "metadata": {},
   "outputs": [],
   "source": [
    "for i in range(5):\n",
    "    print(i)\n",
    "    time.sleep(1)"
   ]
  },
  {
   "cell_type": "markdown",
   "id": "cade7f0e-7bc3-4876-b9de-87b1fb2a300f",
   "metadata": {},
   "source": [
    "We can put that for loop in a function like this:"
   ]
  },
  {
   "cell_type": "code",
   "execution_count": null,
   "id": "5ccac175-f949-4ca3-8e59-a43c0948bd81",
   "metadata": {},
   "outputs": [],
   "source": [
    "def counter():\n",
    "    for i in range(5):\n",
    "        print(i)\n",
    "        time.sleep(1)"
   ]
  },
  {
   "cell_type": "markdown",
   "id": "41c06c45-492e-43ad-af43-606e4e8a4454",
   "metadata": {},
   "source": [
    "And then we can call it:"
   ]
  },
  {
   "cell_type": "code",
   "execution_count": null,
   "id": "1fbff3d0-9e3e-4efe-995e-fda0576b1d10",
   "metadata": {},
   "outputs": [],
   "source": [
    "counter()"
   ]
  },
  {
   "cell_type": "markdown",
   "id": "88908f91-b78c-4e31-81c7-459505e5a85a",
   "metadata": {},
   "source": [
    "Now redifine `counter` by \n",
    "1. copying the code above which defines `counter` \n",
    "2. make the counter take a parameter called `max` \n",
    "3. Have the `range` call use the parameter `max` "
   ]
  },
  {
   "cell_type": "code",
   "execution_count": null,
   "id": "53bb3438-0f84-470c-bdb6-5f493cf2a9c9",
   "metadata": {},
   "outputs": [],
   "source": [
    "# TODO: enter your code here"
   ]
  },
  {
   "cell_type": "markdown",
   "id": "27884446-4ac4-4598-8ddb-76423d1540a2",
   "metadata": {},
   "source": [
    "Now try calling the new version of `counter` but passing it the argument 7"
   ]
  },
  {
   "cell_type": "code",
   "execution_count": null,
   "id": "68b82a59-41e6-4a61-951f-021f2ef6f9a8",
   "metadata": {},
   "outputs": [],
   "source": [
    "# TODO: enter your code here"
   ]
  },
  {
   "cell_type": "markdown",
   "id": "d02ea08a-e74e-4d6e-ae39-8da8f7068699",
   "metadata": {},
   "source": [
    "Create a function called `multiply` which takes two arguments, multiplies them together (`*`), and then returns the multiplied value"
   ]
  },
  {
   "cell_type": "code",
   "execution_count": null,
   "id": "3d3b3c2d-3500-448a-a9f4-9d500977b792",
   "metadata": {},
   "outputs": [],
   "source": [
    "# TODO: enter your code here"
   ]
  },
  {
   "cell_type": "markdown",
   "id": "63400d09-6c97-471f-8b25-d7eb10da002a",
   "metadata": {},
   "source": [
    "Call the `mutliply` function with two numbers and save the result in a variable. Then print out the variable to see that the multiplied number was saved."
   ]
  },
  {
   "cell_type": "code",
   "execution_count": null,
   "id": "4652addb-023c-45e5-bb0c-2d27cf3c8564",
   "metadata": {},
   "outputs": [],
   "source": [
    "# TODO: enter your code here"
   ]
  }
 ],
 "metadata": {
  "kernelspec": {
   "display_name": "Python 3 (ipykernel)",
   "language": "python",
   "name": "python3"
  },
  "language_info": {
   "codemirror_mode": {
    "name": "ipython",
    "version": 3
   },
   "file_extension": ".py",
   "mimetype": "text/x-python",
   "name": "python",
   "nbconvert_exporter": "python",
   "pygments_lexer": "ipython3",
   "version": "3.9.7"
  }
 },
 "nbformat": 4,
 "nbformat_minor": 5
}
