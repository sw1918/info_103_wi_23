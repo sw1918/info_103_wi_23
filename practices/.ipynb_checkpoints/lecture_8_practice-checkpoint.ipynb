{
 "cells": [
  {
   "cell_type": "markdown",
   "id": "0e560754-f971-4df9-b443-e7e4de6ccba4",
   "metadata": {},
   "source": [
    "# Practice: Sentiment Analysis and Loop Variables"
   ]
  },
  {
   "cell_type": "markdown",
   "id": "d7b27389-4e2e-498d-8acf-9df6bccf4356",
   "metadata": {},
   "source": [
    "Now it's your turn to practice sentiment analysis and loop variables\n",
    "\n",
    "## Sentiment Analyasis\n",
    "First run the code to load up the Sentiment Intensity Analyzer"
   ]
  },
  {
   "cell_type": "code",
   "execution_count": null,
   "id": "e95a0801-5d07-479e-b22b-e4faa380ae7c",
   "metadata": {},
   "outputs": [],
   "source": [
    "import nltk\n",
    "nltk.download([\"vader_lexicon\"])\n",
    "from nltk.sentiment import SentimentIntensityAnalyzer\n",
    "sia = SentimentIntensityAnalyzer()"
   ]
  },
  {
   "cell_type": "markdown",
   "id": "89287285-7570-4518-8015-ff92fed8c009",
   "metadata": {},
   "source": [
    "Also, look at this example from the demo of running sentiment analysis:"
   ]
  },
  {
   "cell_type": "code",
   "execution_count": null,
   "id": "c3351719-b40c-466d-bcec-c7bfef1d264e",
   "metadata": {},
   "outputs": [],
   "source": [
    "sentence = \"I love love love pizza!!!!!!!!\"\n",
    "sia.polarity_scores(sentence)[\"compound\"]"
   ]
  },
  {
   "cell_type": "markdown",
   "id": "a9d0b4ba-e722-40d7-87b8-66de210a5e57",
   "metadata": {},
   "source": [
    "Now, copy that two lines of code above, and try out your own sentences, and run the sentiment analysis on them"
   ]
  },
  {
   "cell_type": "code",
   "execution_count": null,
   "id": "b772da2b-97f4-430b-bb05-d207e2423bf8",
   "metadata": {},
   "outputs": [],
   "source": [
    "# TODO: enter your code here"
   ]
  },
  {
   "cell_type": "markdown",
   "id": "a4281750-2573-4f3c-b29f-5a9650fe540d",
   "metadata": {},
   "source": [
    "Try several sentences and see how the Sentiment Intensity Analyzer handles them"
   ]
  },
  {
   "cell_type": "code",
   "execution_count": null,
   "id": "c3b35590-facd-4577-858e-02cb67a0bdc7",
   "metadata": {},
   "outputs": [],
   "source": [
    "# TODO: enter your code here"
   ]
  },
  {
   "cell_type": "markdown",
   "id": "f54654ea-5945-4be1-a4ab-0574755006ea",
   "metadata": {},
   "source": [
    "## Loop variables\n",
    "\n",
    "Now let's practice with loop variables.\n",
    "\n",
    "Below is a for loop which goes through each letter in the word \"Mississipi\"."
   ]
  },
  {
   "cell_type": "code",
   "execution_count": null,
   "id": "8be4970b-8ee4-4e7f-8026-c37084edbef4",
   "metadata": {},
   "outputs": [],
   "source": [
    "for letter in \"Mississipi\":\n",
    "    print(letter)"
   ]
  },
  {
   "cell_type": "markdown",
   "id": "a035bb7f-b2d6-41cf-8fca-8332263f5b61",
   "metadata": {},
   "source": [
    "Make another copy of that loop, but add a variable before the loop called `num_letters` and use it count how many letters were in the word \"Mississipi\". At the end display the number of letters."
   ]
  },
  {
   "cell_type": "code",
   "execution_count": null,
   "id": "99ebd137-49ed-4fdf-9be1-751870eb495f",
   "metadata": {},
   "outputs": [],
   "source": [
    "# TODO: enter your code here"
   ]
  },
  {
   "cell_type": "markdown",
   "id": "04d13cc6-d922-437c-836e-f72d570d839e",
   "metadata": {},
   "source": [
    "Make another copy of what you just did, but this time also count the number of \"i\"s. Make a variable called `num_i` to count how many \"i\"s. \n",
    "\n",
    "_Hint: To see if a letter is an \"i\", check if `letter == \"i\"`_\n",
    "\n",
    "At the end print out how many of the letters were \"i\"s and what percentage of the word was \"i\"s."
   ]
  },
  {
   "cell_type": "code",
   "execution_count": null,
   "id": "a32e0c15-106e-4fa1-ad79-bd93ca4e8156",
   "metadata": {},
   "outputs": [],
   "source": [
    "# TODO: enter your code here"
   ]
  }
 ],
 "metadata": {
  "kernelspec": {
   "display_name": "Python 3 (ipykernel)",
   "language": "python",
   "name": "python3"
  },
  "language_info": {
   "codemirror_mode": {
    "name": "ipython",
    "version": 3
   },
   "file_extension": ".py",
   "mimetype": "text/x-python",
   "name": "python",
   "nbconvert_exporter": "python",
   "pygments_lexer": "ipython3",
   "version": "3.10.4"
  }
 },
 "nbformat": 4,
 "nbformat_minor": 5
}
