{
 "cells": [
  {
   "cell_type": "markdown",
   "id": "7b025936-ee37-4308-a7f0-02c879134e4e",
   "metadata": {},
   "source": [
    "#Lab 4: Find the most positive subreddit\n",
    "\n",
    "In this lab, you're going to combine what you've learned about loops, conditions, and sentiment analysis to find the most positive subreddit you can!\n",
    "\n",
    "First, run the code to get the sentiment analyzer running:"
   ]
  },
  {
   "cell_type": "code",
   "execution_count": null,
   "id": "0002b4cd-e991-4293-ab7d-45a513ca0674",
   "metadata": {},
   "outputs": [],
   "source": [
    "import nltk\n",
    "nltk.download([\"vader_lexicon\"])\n",
    "from nltk.sentiment import SentimentIntensityAnalyzer\n",
    "sia = SentimentIntensityAnalyzer()"
   ]
  },
  {
   "cell_type": "markdown",
   "id": "e4a22d6f-5372-46e1-a575-e3e78fbf3599",
   "metadata": {},
   "source": [
    "Remember, this is the code you can use to analyze the sentiment of a sentence:"
   ]
  },
  {
   "cell_type": "code",
   "execution_count": null,
   "id": "de196f33-79c9-454e-8dc1-ba09f39c685d",
   "metadata": {},
   "outputs": [],
   "source": [
    "sentence = \"I love INFO 103!!! It's the best class I've ever taken!!!\"\n",
    "sia.polarity_scores(sentence)[\"compound\"]"
   ]
  },
  {
   "cell_type": "markdown",
   "id": "6ac40f77-a504-41a5-8698-f9228b0528fe",
   "metadata": {},
   "source": [
    "Now, run the normal praw steps to access Reddit:"
   ]
  },
  {
   "cell_type": "code",
   "execution_count": null,
   "id": "982697f4-17e0-4de6-9d63-e879e12b0b10",
   "metadata": {},
   "outputs": [],
   "source": [
    "import praw"
   ]
  },
  {
   "cell_type": "code",
   "execution_count": null,
   "id": "560dfe31-3ecd-4040-aca5-4dd6067f7a50",
   "metadata": {},
   "outputs": [],
   "source": [
    "%run reddit_keys.py"
   ]
  },
  {
   "cell_type": "code",
   "execution_count": null,
   "id": "892a8bff-bb33-433e-b2d0-52c984a4fe42",
   "metadata": {},
   "outputs": [],
   "source": [
    "reddit = praw.Reddit(\n",
    "    username=username, password=password,\n",
    "    client_id=client_id, client_secret=client_secret,\n",
    "    user_agent=\"a custom python script for user /\" + str(username)\n",
    ")"
   ]
  },
  {
   "cell_type": "markdown",
   "id": "575385b2-1bbe-42dd-a1b4-1c23e6d1efb1",
   "metadata": {},
   "source": [
    "The code below will grab the 10 most \"hot\" posts from the \"news\" subreddit, and format those posts into a list called \"submissions_list.\" Run it to store posts from your first subreddit. "
   ]
  },
  {
   "cell_type": "code",
   "execution_count": null,
   "id": "8a1b401a-a9fa-44df-a904-6f105014dc1f",
   "metadata": {},
   "outputs": [],
   "source": [
    "# Look up the subreddit \"news\", then find the \"hot\" list, getting up to 10 submission\n",
    "submissions = reddit.subreddit(\"news\").hot(limit=10)\n",
    "\n",
    "submissions_list = list(submissions)"
   ]
  },
  {
   "cell_type": "markdown",
   "id": "842ac901-1442-45e3-a64f-0033ab877ffb",
   "metadata": {},
   "source": [
    "Now, modify the code below so that, instead of just printing the titles of the posts, you are calculating the average sentiment of each post title, and storing it in a variable. Hint: To do this, you'll need some variables to keep track of the number of posts and the total sentiment as you loop through each submission, so you can find the average at the end."
   ]
  },
  {
   "cell_type": "code",
   "execution_count": null,
   "id": "f6d61258-5ba7-4b70-83d4-49dad72f1f48",
   "metadata": {},
   "outputs": [],
   "source": [
    "#add some variables here to keep track of submissions and sentiment\n",
    "\n",
    "for submission in submissions_list:\n",
    "    #modify this code to calculate sentiment (you can remove the print statements if you want)\n",
    "    print(\"Sentiment: \" + str(submission_sentiment))\n",
    "    print(\"   Submission Title: \" + submission.title)\n",
    "    print()\n",
    "\n",
    "#modify this code to calculate the average sentiment\n",
    "news_sentiment = 0"
   ]
  },
  {
   "cell_type": "markdown",
   "id": "96c11ba6-ccd8-4e45-b0d2-a911a2ee04e3",
   "metadata": {},
   "source": [
    "Now, try to repeat the steps from above, but find the average sentiment of at least 4-5 different subreddits. Make sure to store them all in different variables. "
   ]
  },
  {
   "cell_type": "code",
   "execution_count": null,
   "id": "3c9fffee-8b66-4289-ad36-cb3ba83e6ef8",
   "metadata": {},
   "outputs": [],
   "source": []
  },
  {
   "cell_type": "code",
   "execution_count": null,
   "id": "72ebc640-56be-4298-90bd-f1914e6f673d",
   "metadata": {},
   "outputs": [],
   "source": []
  },
  {
   "cell_type": "code",
   "execution_count": null,
   "id": "f9a3ddba-b547-42d3-b55a-ba8a1fd48789",
   "metadata": {},
   "outputs": [],
   "source": []
  },
  {
   "cell_type": "code",
   "execution_count": null,
   "id": "b7723dac-e4cb-4d45-ab4d-e92bcd6e6ff8",
   "metadata": {},
   "outputs": [],
   "source": []
  },
  {
   "cell_type": "markdown",
   "id": "c96ae429-2556-4668-87d8-ec483662d949",
   "metadata": {},
   "source": [
    "Finally, create a list of all your average sentiment variables (e.g. all_averages = [news_sentiment, ...]). Use a for loop to iterate through that list, keeping track of which subreddit has the highest average sentiment, and display the highest score. "
   ]
  },
  {
   "cell_type": "code",
   "execution_count": null,
   "id": "8a2d6371-4978-4547-be0c-373b3f7829d6",
   "metadata": {},
   "outputs": [],
   "source": []
  }
 ],
 "metadata": {
  "kernelspec": {
   "display_name": "Python 3 (ipykernel)",
   "language": "python",
   "name": "python3"
  },
  "language_info": {
   "codemirror_mode": {
    "name": "ipython",
    "version": 3
   },
   "file_extension": ".py",
   "mimetype": "text/x-python",
   "name": "python",
   "nbconvert_exporter": "python",
   "pygments_lexer": "ipython3",
   "version": "3.12.0"
  }
 },
 "nbformat": 4,
 "nbformat_minor": 5
}
