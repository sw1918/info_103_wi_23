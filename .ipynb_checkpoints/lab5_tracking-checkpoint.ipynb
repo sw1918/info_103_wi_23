{
 "cells": [
  {
   "cell_type": "markdown",
   "id": "38525e01-34d0-432f-af9b-f3abcbb31804",
   "metadata": {},
   "source": [
    "#Lab 5: A tracking function"
   ]
  },
  {
   "cell_type": "markdown",
   "id": "534d6787-874e-4b11-9edb-d3d88f680bac",
   "metadata": {},
   "source": [
    "Let's say you're a sneaky developer, who wants to create a function to help people decide whether to join a subreddit or not. However, you also want to harvest data about their interests to sell to advertisers!\n",
    "\n",
    "You need a function that will help collect as much data from them as possible. To do that, write a function that accepts a list of interests, as well as a target subreddit. Collect submissions from that subreddit to see whether any of those interests appear in the title or body of those submissions, and if they do, recommend that subreddit to the user. \n",
    "\n",
    "However, you will also be storing those interests in a hidden variable, which you will send to yourself as a Reddit message."
   ]
  },
  {
   "cell_type": "markdown",
   "id": "64788717-4274-4da0-b599-9c29454c3be3",
   "metadata": {},
   "source": [
    "First, go through the normal praw steps"
   ]
  },
  {
   "cell_type": "code",
   "execution_count": null,
   "id": "3ea53d69-f057-4cde-8bfd-c3e1dcc27f1b",
   "metadata": {},
   "outputs": [],
   "source": [
    "import praw"
   ]
  },
  {
   "cell_type": "code",
   "execution_count": null,
   "id": "c44bb9d6-ed9f-4d56-aeea-81e36aabdba9",
   "metadata": {},
   "outputs": [],
   "source": [
    "%run reddit_keys.py"
   ]
  },
  {
   "cell_type": "code",
   "execution_count": null,
   "id": "043171e4-8849-41ff-8c14-a55a01d5ad38",
   "metadata": {},
   "outputs": [],
   "source": [
    "reddit = praw.Reddit(\n",
    "    username=username, password=password,\n",
    "    client_id=client_id, client_secret=client_secret,\n",
    "    user_agent=\"a custom python script for user /\" + str(username)\n",
    ")"
   ]
  },
  {
   "cell_type": "markdown",
   "id": "28d5e235-50f2-46f1-9f8b-63a5dfffa603",
   "metadata": {},
   "source": [
    "If you want to check if a string contains a substring in python, it's helpful to make sure they're both lowercase, like this:"
   ]
  },
  {
   "cell_type": "code",
   "execution_count": null,
   "id": "de4321ed-5dd2-4fa4-9c6a-5b1b6a3e1bd2",
   "metadata": {},
   "outputs": [],
   "source": [
    "\"Hi There\".lower()"
   ]
  },
  {
   "cell_type": "markdown",
   "id": "cb21541a-7c04-4a0e-98e1-7c43f2708285",
   "metadata": {},
   "source": [
    "If you want to get the text from a submission on Reddit, you can use .title to get its title, or .selftext to get any text from its body (note that selftext is often just an empty string, if the post is just an image or link). For example:"
   ]
  },
  {
   "cell_type": "code",
   "execution_count": null,
   "id": "0f4eee69-fc2b-44f5-86ed-ffbcda8ae04d",
   "metadata": {},
   "outputs": [],
   "source": [
    "submissions = reddit.subreddit(\"science\").hot(limit=5)\n",
    "submissions_list = list(submissions)\n",
    "print(submissions_list[0].title)\n",
    "print(submissions_list[0].selftext)"
   ]
  },
  {
   "cell_type": "markdown",
   "id": "ed5d9fa7-d4ac-4816-9112-7c47cab0a09d",
   "metadata": {},
   "source": [
    "Now, define a function that takes two parameters: a list of interest, and a subreddit to check out. If any of the words in the list of interests appears in the title or body of submissions in that subreddit, tell the user they should join!\n",
    "\n",
    "But remember, you also want to store their interests, and the subreddit, in a hidden variable. Get both their interests, and the subreddit they chose..."
   ]
  },
  {
   "cell_type": "code",
   "execution_count": null,
   "id": "70c05087-2b2b-489f-a196-cc28846fac92",
   "metadata": {},
   "outputs": [],
   "source": [
    "user_data = {}\n",
    "\n",
    "def should_join(interests, sub):\n",
    "    submissions = reddit.subreddit(sub).hot(limit=10)\n",
    "    submissions_list = list(submissions)\n",
    "    #your code here\n",
    "    "
   ]
  },
  {
   "cell_type": "markdown",
   "id": "0f041d80-aa7f-4b60-b7a5-d4ebcc7df308",
   "metadata": {},
   "source": [
    "Now, modify your code from above, so that it sends you the data in a private message right before printing a message to the user. You can use the following function to send private messages on Reddit:"
   ]
  },
  {
   "cell_type": "code",
   "execution_count": null,
   "id": "026b9020-31e7-4ee4-ac32-4f8e0ecca3c3",
   "metadata": {},
   "outputs": [],
   "source": [
    "reddit.redditor(\"\").message(subject=\"\", message=\"\")"
   ]
  },
  {
   "cell_type": "code",
   "execution_count": null,
   "id": "70dd8deb-ae81-48d3-9268-7260edcdaa57",
   "metadata": {},
   "outputs": [],
   "source": [
    "#your code here"
   ]
  }
 ],
 "metadata": {
  "kernelspec": {
   "display_name": "Python 3 (ipykernel)",
   "language": "python",
   "name": "python3"
  },
  "language_info": {
   "codemirror_mode": {
    "name": "ipython",
    "version": 3
   },
   "file_extension": ".py",
   "mimetype": "text/x-python",
   "name": "python",
   "nbconvert_exporter": "python",
   "pygments_lexer": "ipython3",
   "version": "3.12.0"
  }
 },
 "nbformat": 4,
 "nbformat_minor": 5
}
