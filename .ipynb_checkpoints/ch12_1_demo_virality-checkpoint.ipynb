{
 "cells": [
  {
   "cell_type": "markdown",
   "id": "67655e14-ea22-4ff1-9b83-2735028b6dd8",
   "metadata": {},
   "source": [
    "# Demo: Virality\n",
    "Let's look at how posts are shared across reddit\n",
    "\n",
    "## Log into Reddit (PRAW)\n",
    "Our code starts with our Redddit PRAW setup:"
   ]
  },
  {
   "cell_type": "code",
   "execution_count": 1,
   "id": "ed4d794b-94dc-48bc-bd59-557d2251a135",
   "metadata": {
    "tags": []
   },
   "outputs": [],
   "source": [
    "import praw"
   ]
  },
  {
   "cell_type": "code",
   "execution_count": 3,
   "id": "92e97170-80c2-42b7-b661-2eb909b71f14",
   "metadata": {},
   "outputs": [],
   "source": [
    "%run reddit_keys.py"
   ]
  },
  {
   "cell_type": "code",
   "execution_count": 4,
   "id": "a4670d0f-d404-49ae-ad88-5234a60254ff",
   "metadata": {},
   "outputs": [],
   "source": [
    "# Give the praw code your reddit account info so\n",
    "# it can perform reddit actions\n",
    "reddit = praw.Reddit(\n",
    "    username=username, password=password,\n",
    "    client_id=client_id, client_secret=client_secret,\n",
    "    user_agent=\"a custom python script for user /\" + str(username)\n",
    ")"
   ]
  },
  {
   "cell_type": "markdown",
   "id": "0198af1c-b595-486a-aedc-755ab20b680a",
   "metadata": {
    "tags": []
   },
   "source": [
    "## Find a submission"
   ]
  },
  {
   "cell_type": "code",
   "execution_count": 23,
   "id": "871897ce-9319-47df-9fbe-d1e66011340f",
   "metadata": {},
   "outputs": [
    {
     "data": {
      "text/plain": [
       "\"latest message subject: 'The Donald' forum user convicted of assaulting officers on Jan. 6\""
      ]
     },
     "metadata": {},
     "output_type": "display_data"
    },
    {
     "data": {
      "text/plain": [
       "'latest message body: https://www.nbcnews.com/politics/justice-department/-donald-forum-user-convicted-assaulting-officers-jan-6-rcna82675'"
      ]
     },
     "metadata": {},
     "output_type": "display_data"
    },
    {
     "data": {
      "text/plain": [
       "'latest message time: 2023-05-04 11:57:41'"
      ]
     },
     "metadata": {},
     "output_type": "display_data"
    }
   ],
   "source": [
    "# Look up the subreddit \"cuteanimals\", then find the \"hot\" list, getting up to 1 submission\n",
    "messages = reddit.subreddit(\"news\").hot(limit=1)\n",
    "\n",
    "# get the first submission off the list (should only be one anyway)\n",
    "latest_submission = next(messages) \n",
    "\n",
    "import datetime\n",
    "\n",
    "# display the subject and body of the message, so we can see what we found\n",
    "display(\"latest message subject: \" + str(latest_submission.title))\n",
    "display(\"latest message body: \" + str(latest_submission.url))\n",
    "display(\"latest message time: \" + str(datetime.datetime.fromtimestamp(latest_submission.created_utc)))"
   ]
  },
  {
   "cell_type": "markdown",
   "id": "cade94a4-8c39-40fa-b8e0-c9df3a9f0f73",
   "metadata": {},
   "source": [
    "## Find all the times this news story has been published:"
   ]
  },
  {
   "cell_type": "code",
   "execution_count": 24,
   "id": "e8a8c18b-0478-4c46-b33a-665f83bc7058",
   "metadata": {
    "tags": []
   },
   "outputs": [
    {
     "name": "stdout",
     "output_type": "stream",
     "text": [
      "subreddit: conservativeterrorism\n",
      "time: 2023-05-04 15:49:06\n",
      "subreddit: conservativeterrorism\n",
      "time: 2023-05-04 15:49:06\n",
      "subreddit: inthenews\n",
      "time: 2023-05-04 12:58:14\n",
      "subreddit: inthenews\n",
      "time: 2023-05-04 12:58:14\n",
      "subreddit: MarchAgainstTrump\n",
      "time: 2023-05-04 15:49:23\n",
      "subreddit: DemocraticDiscussions\n",
      "time: 2023-05-04 18:08:21\n",
      "subreddit: WhatAboutTD\n",
      "time: 2023-05-04 12:20:34\n",
      "subreddit: WhatAboutTD\n",
      "time: 2023-05-04 12:20:34\n",
      "subreddit: MarchAgainstTrump\n",
      "time: 2023-05-04 15:49:23\n",
      "subreddit: sdrawkcabtidder\n",
      "time: 2023-05-04 16:38:17\n",
      "subreddit: sdrawkcabtidder\n",
      "time: 2023-05-04 16:38:17\n",
      "subreddit: DemocraticDiscussions\n",
      "time: 2023-05-04 18:08:21\n"
     ]
    }
   ],
   "source": [
    "\n",
    "\n",
    "duplicate_submissions = list(latest_submission.duplicates(params={'crossposts_only': True, 'limit': 100}))\n",
    "\n",
    "for duplicate_submission in duplicate_submissions:\n",
    "    print(\"subreddit: \" + str(duplicate_submission.subreddit))\n",
    "    print(\"time: \" + str(datetime.datetime.fromtimestamp(duplicate_submission.created_utc)))\n",
    "    \n"
   ]
  },
  {
   "cell_type": "markdown",
   "id": "02487c58-73aa-4ef8-9904-bc08a62ea704",
   "metadata": {},
   "source": [
    "## Sort by Time and output again"
   ]
  },
  {
   "cell_type": "code",
   "execution_count": 25,
   "id": "d333fb31-0080-457e-9394-9de822450f2c",
   "metadata": {},
   "outputs": [
    {
     "name": "stdout",
     "output_type": "stream",
     "text": [
      "subreddit: WhatAboutTD\n",
      "time: 2023-05-04 12:20:34\n",
      "subreddit: WhatAboutTD\n",
      "time: 2023-05-04 12:20:34\n",
      "subreddit: inthenews\n",
      "time: 2023-05-04 12:58:14\n",
      "subreddit: inthenews\n",
      "time: 2023-05-04 12:58:14\n",
      "subreddit: conservativeterrorism\n",
      "time: 2023-05-04 15:49:06\n",
      "subreddit: conservativeterrorism\n",
      "time: 2023-05-04 15:49:06\n",
      "subreddit: MarchAgainstTrump\n",
      "time: 2023-05-04 15:49:23\n",
      "subreddit: MarchAgainstTrump\n",
      "time: 2023-05-04 15:49:23\n",
      "subreddit: sdrawkcabtidder\n",
      "time: 2023-05-04 16:38:17\n",
      "subreddit: sdrawkcabtidder\n",
      "time: 2023-05-04 16:38:17\n",
      "subreddit: DemocraticDiscussions\n",
      "time: 2023-05-04 18:08:21\n",
      "subreddit: DemocraticDiscussions\n",
      "time: 2023-05-04 18:08:21\n"
     ]
    }
   ],
   "source": [
    "# sort so that the first in the list is the first place it was posted\n",
    "ordered_duplicate_submissions = sorted(\n",
    "    duplicate_submissions, key=lambda x: x.created_utc\n",
    ")\n",
    "\n",
    "\n",
    "for duplicate_submission in ordered_duplicate_submissions:\n",
    "    print(\"subreddit: \" + str(duplicate_submission.subreddit))\n",
    "    print(\"time: \" + str(datetime.datetime.fromtimestamp(duplicate_submission.created_utc)))\n",
    "    "
   ]
  },
  {
   "cell_type": "markdown",
   "id": "dd127827-635b-44ca-8a8e-757b346569d0",
   "metadata": {},
   "source": [
    "## now try this all on multiple stories from politics"
   ]
  },
  {
   "cell_type": "code",
   "execution_count": 28,
   "id": "b04cc392-6477-4547-a5c0-344064766fb6",
   "metadata": {},
   "outputs": [
    {
     "data": {
      "text/plain": [
       "\"latest message subject: 'The Donald' forum user convicted of assaulting officers on Jan. 6\""
      ]
     },
     "metadata": {},
     "output_type": "display_data"
    },
    {
     "data": {
      "text/plain": [
       "'latest message body: https://www.nbcnews.com/politics/justice-department/-donald-forum-user-convicted-assaulting-officers-jan-6-rcna82675'"
      ]
     },
     "metadata": {},
     "output_type": "display_data"
    },
    {
     "data": {
      "text/plain": [
       "'latest message time: 2023-05-04 11:57:41'"
      ]
     },
     "metadata": {},
     "output_type": "display_data"
    },
    {
     "name": "stdout",
     "output_type": "stream",
     "text": [
      "duplicates:\n",
      "  subreddit: WhatAboutTD\n",
      "  subreddit: inthenews\n",
      "  subreddit: conservativeterrorism\n",
      "  subreddit: MarchAgainstTrump\n",
      "  subreddit: sdrawkcabtidder\n",
      "  subreddit: DemocraticDiscussions\n",
      "\n"
     ]
    },
    {
     "data": {
      "text/plain": [
       "'latest message subject: Alex Murdaugh lied about dogs causing longtime housekeeper’s fatal fall, his lawyers say'"
      ]
     },
     "metadata": {},
     "output_type": "display_data"
    },
    {
     "data": {
      "text/plain": [
       "'latest message body: https://www.nbcnews.com/news/alex-murdaugh-lied-dogs-causing-longtime-housekeepers-fatal-fall-lawye-rcna82657?cid=sm_npd_nn_fb_ma&utm_campaign=trueanthem&utm_medium=social&utm_source=facebook&_branch_match_id=835286669271519582&_branch_referrer=H4sIAAAAAAAAA8soKSkottLXz0tKzkstL9ZLLCjQy8nMy9Y3DnNzMYwqKSmrSgIAr1BLWSQAAAA%3D'"
      ]
     },
     "metadata": {},
     "output_type": "display_data"
    },
    {
     "data": {
      "text/plain": [
       "'latest message time: 2023-05-04 12:45:26'"
      ]
     },
     "metadata": {},
     "output_type": "display_data"
    },
    {
     "name": "stdout",
     "output_type": "stream",
     "text": [
      "duplicates:\n",
      "  subreddit: MurdaughMystery\n",
      "  subreddit: MurdaughMystery\n",
      "  subreddit: sdrawkcabtidder\n",
      "  subreddit: sdrawkcabtidder\n",
      "\n"
     ]
    },
    {
     "data": {
      "text/plain": [
       "'latest message subject: Ed Sheeran wins copyright infringement case'"
      ]
     },
     "metadata": {},
     "output_type": "display_data"
    },
    {
     "data": {
      "text/plain": [
       "'latest message body: https://abcnews.go.com/Entertainment/jury-reaches-verdict-ed-sheeran-copyright-infringement-case/story?id=99022695'"
      ]
     },
     "metadata": {},
     "output_type": "display_data"
    },
    {
     "data": {
      "text/plain": [
       "'latest message time: 2023-05-04 17:13:07'"
      ]
     },
     "metadata": {},
     "output_type": "display_data"
    },
    {
     "name": "stdout",
     "output_type": "stream",
     "text": [
      "duplicates:\n",
      "\n"
     ]
    },
    {
     "data": {
      "text/plain": [
       "'latest message subject: Partial verdict reached in Proud Boys seditious conspiracy trial'"
      ]
     },
     "metadata": {},
     "output_type": "display_data"
    },
    {
     "data": {
      "text/plain": [
       "'latest message body: https://www.cbsnews.com/news/proud-boys-seditious-conspiracy-trial-verdict/'"
      ]
     },
     "metadata": {},
     "output_type": "display_data"
    },
    {
     "data": {
      "text/plain": [
       "'latest message time: 2023-05-04 15:05:40'"
      ]
     },
     "metadata": {},
     "output_type": "display_data"
    },
    {
     "name": "stdout",
     "output_type": "stream",
     "text": [
      "duplicates:\n",
      "  subreddit: Trumpgret\n",
      "  subreddit: uspolitics\n",
      "  subreddit: MarchAgainstNazis\n",
      "  subreddit: u_Groundbreaking_Depth\n",
      "  subreddit: u_Groundbreaking_Depth\n",
      "\n"
     ]
    },
    {
     "data": {
      "text/plain": [
       "'latest message subject: GOP donor paid private school tuition for Justice Thomas’s grandnephew, report says'"
      ]
     },
     "metadata": {},
     "output_type": "display_data"
    },
    {
     "data": {
      "text/plain": [
       "'latest message body: https://www.washingtonpost.com/politics/2023/05/04/clarence-thomas-tuition-harlan-crow/'"
      ]
     },
     "metadata": {},
     "output_type": "display_data"
    },
    {
     "data": {
      "text/plain": [
       "'latest message time: 2023-05-04 16:49:23'"
      ]
     },
     "metadata": {},
     "output_type": "display_data"
    },
    {
     "name": "stdout",
     "output_type": "stream",
     "text": [
      "duplicates:\n",
      "  subreddit: Corruption\n",
      "\n"
     ]
    },
    {
     "data": {
      "text/plain": [
       "'latest message subject: Fast-food industry drives workers to homelessness, report finds'"
      ]
     },
     "metadata": {},
     "output_type": "display_data"
    },
    {
     "data": {
      "text/plain": [
       "'latest message body: https://www.cbsnews.com/news/fast-food-low-wages-homelessness-mcdonalds/'"
      ]
     },
     "metadata": {},
     "output_type": "display_data"
    },
    {
     "data": {
      "text/plain": [
       "'latest message time: 2023-05-04 07:31:35'"
      ]
     },
     "metadata": {},
     "output_type": "display_data"
    },
    {
     "name": "stdout",
     "output_type": "stream",
     "text": [
      "duplicates:\n",
      "  subreddit: u_Groundbreaking_Depth\n",
      "  subreddit: ABoringDystopia\n",
      "  subreddit: socialism\n",
      "\n"
     ]
    },
    {
     "data": {
      "text/plain": [
       "\"latest message subject: Tyre Nichols' autopsy reveals brain injuries from blunt force trauma, attorneys say\""
      ]
     },
     "metadata": {},
     "output_type": "display_data"
    },
    {
     "data": {
      "text/plain": [
       "'latest message body: https://www.npr.org/2023/05/03/1173857299/tyre-nichols-autopsy-memphis-police'"
      ]
     },
     "metadata": {},
     "output_type": "display_data"
    },
    {
     "data": {
      "text/plain": [
       "'latest message time: 2023-05-04 14:36:20'"
      ]
     },
     "metadata": {},
     "output_type": "display_data"
    },
    {
     "name": "stdout",
     "output_type": "stream",
     "text": [
      "duplicates:\n",
      "  subreddit: u_AdditionalTalk\n",
      "\n"
     ]
    },
    {
     "data": {
      "text/plain": [
       "'latest message subject: Three charged with murder in Colorado rock-throwing death'"
      ]
     },
     "metadata": {},
     "output_type": "display_data"
    },
    {
     "data": {
      "text/plain": [
       "'latest message body: https://www.nbcnews.com/news/us-news/three-charged-murder-colorado-rock-throwing-death-rcna82798'"
      ]
     },
     "metadata": {},
     "output_type": "display_data"
    },
    {
     "data": {
      "text/plain": [
       "'latest message time: 2023-05-04 15:23:56'"
      ]
     },
     "metadata": {},
     "output_type": "display_data"
    },
    {
     "name": "stdout",
     "output_type": "stream",
     "text": [
      "duplicates:\n",
      "\n"
     ]
    },
    {
     "data": {
      "text/plain": [
       "'latest message subject: Test scores for 8th-grade students decline in US history and civics following prior declines in math and reading, report says'"
      ]
     },
     "metadata": {},
     "output_type": "display_data"
    },
    {
     "data": {
      "text/plain": [
       "'latest message body: https://www.cnn.com/2023/05/04/us/nations-report-card-us-history-civics/index.html?utm_medium=social&utm_source=twCNN&utm_content=2023-05-04T13%3A49%3A58&utm_term=link'"
      ]
     },
     "metadata": {},
     "output_type": "display_data"
    },
    {
     "data": {
      "text/plain": [
       "'latest message time: 2023-05-04 16:54:49'"
      ]
     },
     "metadata": {},
     "output_type": "display_data"
    },
    {
     "name": "stdout",
     "output_type": "stream",
     "text": [
      "duplicates:\n",
      "  subreddit: u_IllustriousCondition\n",
      "  subreddit: u_IllustriousCondition\n",
      "\n"
     ]
    },
    {
     "data": {
      "text/plain": [
       "'latest message subject: Ex-FBI agent who feds say urged Jan. 6 rioters to kill police worked terrorism task force'"
      ]
     },
     "metadata": {},
     "output_type": "display_data"
    },
    {
     "data": {
      "text/plain": [
       "'latest message body: https://www.nbcnews.com/politics/justice-department/ex-fbi-agent-feds-say-urged-jan-6-rioters-kill-police-worked-terrorism-rcna82775'"
      ]
     },
     "metadata": {},
     "output_type": "display_data"
    },
    {
     "data": {
      "text/plain": [
       "'latest message time: 2023-05-04 07:31:25'"
      ]
     },
     "metadata": {},
     "output_type": "display_data"
    },
    {
     "name": "stdout",
     "output_type": "stream",
     "text": [
      "duplicates:\n",
      "  subreddit: center_right_left\n",
      "\n"
     ]
    }
   ],
   "source": [
    "# Look up the subreddit \"cuteanimals\", then find the \"hot\" list, getting up to 1 submission\n",
    "messages = reddit.subreddit(\"news\").hot(limit=10)\n",
    "\n",
    "# get the first submission off the list (should only be one anyway)\n",
    "messages_list = list(messages) \n",
    "\n",
    "for submission in messages_list:\n",
    "\n",
    "    # display the subject and body of the message, so we can see what we found\n",
    "    display(\"latest message subject: \" + str(submission.title))\n",
    "    display(\"latest message body: \" + str(submission.url))\n",
    "    display(\"latest message time: \" + str(datetime.datetime.fromtimestamp(submission.created_utc)))\n",
    "    \n",
    "    duplicate_submissions = list(submission.duplicates(params={'crossposts_only': True, 'limit': 100}))\n",
    "\n",
    "    ordered_duplicate_submissions = sorted(\n",
    "        duplicate_submissions, key=lambda x: x.created_utc\n",
    "    )\n",
    "    \n",
    "    print(\"duplicates:\")\n",
    "    for duplicate_submission in ordered_duplicate_submissions:\n",
    "        print(\"  subreddit: \" + str(duplicate_submission.subreddit))\n",
    "\n",
    "    print()\n"
   ]
  },
  {
   "cell_type": "markdown",
   "id": "99499d3f-f70d-46b6-9ec6-14665ab699a6",
   "metadata": {},
   "source": [
    "### If tweet matches our pattern, reply\n",
    "We do the same code for this as before, but after we get the action we are told to do, we put another `if`/`else` to either do the action if we recognize it, or say we didn't recognize the action.\n",
    "\n",
    "We will use `in` to see if the action is in our list of allowed actions (called an allow_list)"
   ]
  },
  {
   "cell_type": "code",
   "execution_count": null,
   "id": "2115a5e1-01d4-4f9f-8670-aa623c26df20",
   "metadata": {},
   "outputs": [],
   "source": [
    "expected_subject = \"Wanting bot response\"\n",
    "expected_body_pattern = \"I want you to \"\n",
    "\n",
    "actions_allow_list = [\"run\", \"jump\", \"fly\"]\n",
    "\n",
    "# check if the mention text starts with our set phrase\n",
    "if latest_message.subject == expected_subject:\n",
    "    \n",
    "    if latest_message.body.startswith(expected_body_pattern):\n",
    "        # get the action, which should be the end of the string after the expected pattern\n",
    "        action = latest_message.body[len(expected_body_pattern) :]\n",
    "        \n",
    "        # See if it is one of our recognized actions\n",
    "        if(action in actions_allow_list):\n",
    "            # make a new message which says we will do the action\n",
    "            message = \"I will now \" + action\n",
    "\n",
    "            # send our message in reply\n",
    "            latest_message.reply(message)\n",
    "            \n",
    "        else: # we didn't recognize the action\n",
    "            # make a new message which says we will NOT do the action\n",
    "            message = \"I do not recognize the command \" + action\n",
    "\n",
    "            # send our message in reply\n",
    "            latest_message.reply(message)\n",
    "        \n",
    "    else: # else code for if the message body didn't match\n",
    "        display(\"The message body (\" + latest_message.body + \") didn't match our pattern (\" + expected_body_pattern + \")\")\n",
    "        \n",
    "else: # else code for if the message subject didn't match\n",
    "    display(\"The message subject (\" + latest_message.subject + \") didn't match our expected subject (\" + expected_subject + \")\" )\n",
    "\n"
   ]
  },
  {
   "cell_type": "markdown",
   "id": "ed81d85f-8ae2-474d-b48e-5c187b1be78b",
   "metadata": {},
   "source": [
    "That one was in our allow list so it worked. Let's do it all again, with the tweet that caused us problems last time\n",
    "\n",
    "_Note: the code below is just copied from the code sections above_"
   ]
  },
  {
   "cell_type": "code",
   "execution_count": null,
   "id": "324b0d40-7407-49bd-a951-12c0101742c0",
   "metadata": {},
   "outputs": [],
   "source": [
    "# Look up the subreddit \"cuteanimals\", then find the \"hot\" list, getting up to 1 submission\n",
    "messages = reddit.inbox.messages(limit=1)\n",
    "\n",
    "# get the first submission off the list (should only be one anyway)\n",
    "latest_message = next(messages) \n",
    "\n",
    "# display the subject and body of the message, so we can see what we found\n",
    "display(\"latest message subject: \" + str(latest_message.subject))\n",
    "display(\"latest message body: \" + str(latest_message.body))\n",
    "\n",
    "expected_subject = \"Wanting bot response\"\n",
    "expected_body_pattern = \"I want you to \"\n",
    "\n",
    "actions_allow_list = [\"run\", \"jump\", \"fly\"]\n",
    "\n",
    "# check if the mention text starts with our set phrase\n",
    "if latest_message.subject == expected_subject:\n",
    "    \n",
    "    if latest_message.body.startswith(expected_body_pattern):\n",
    "        # get the action, which should be the end of the string after the expected pattern\n",
    "        action = latest_message.body[len(expected_body_pattern) :]\n",
    "        \n",
    "        # See if it is one of our recognized actions\n",
    "        if(action in actions_allow_list):\n",
    "            # make a new message which says we will do the action\n",
    "            message = \"I will now \" + action\n",
    "\n",
    "            # send our message in reply\n",
    "            latest_message.reply(message)\n",
    "            \n",
    "        else: # we didn't recognize the action\n",
    "            # make a new message which says we will NOT do the action\n",
    "            message = \"I do not recognize the command \" + action\n",
    "\n",
    "            # send our message in reply\n",
    "            latest_message.reply(message)\n",
    "        \n",
    "    else: # else code for if the message body didn't match\n",
    "        display(\"The message body (\" + latest_message.body + \") didn't match our pattern (\" + expected_body_pattern + \")\")\n",
    "        \n",
    "else: # else code for if the message subject didn't match\n",
    "    display(\"The message subject (\" + latest_message.subject + \") didn't match our expected subject (\" + expected_subject + \")\" )"
   ]
  },
  {
   "cell_type": "markdown",
   "id": "afc64a17-31df-4d18-b56c-407fb2a5bfef",
   "metadata": {},
   "source": [
    "Ok, this time we said `I do not recognize the command do something horrible!`. \n",
    "\n",
    "That looks a little better! Are we safe now?"
   ]
  }
 ],
 "metadata": {
  "kernelspec": {
   "display_name": "Python 3 (ipykernel)",
   "language": "python",
   "name": "python3"
  },
  "language_info": {
   "codemirror_mode": {
    "name": "ipython",
    "version": 3
   },
   "file_extension": ".py",
   "mimetype": "text/x-python",
   "name": "python",
   "nbconvert_exporter": "python",
   "pygments_lexer": "ipython3",
   "version": "3.9.7"
  }
 },
 "nbformat": 4,
 "nbformat_minor": 5
}
