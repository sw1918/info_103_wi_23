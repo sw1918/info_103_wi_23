{
 "cells": [
  {
   "cell_type": "markdown",
   "id": "62d9cd26-13e3-4df0-99e5-bcfa7fbfad4a",
   "metadata": {},
   "source": [
    "# Demo: Data from a Reddit Submission\n",
    "Let's see what the data actually looks like from a Reddit Post (called a \"submission\")!\n",
    "\n",
    "First we need to do our normal Reddit login steps (and optional fake praw step)\n",
    "## Log into tweepy (or fake tweepy)\n",
    "### Load Praw library"
   ]
  },
  {
   "cell_type": "code",
   "execution_count": 6,
   "id": "1a3df841-d3c4-4c0c-8790-1e5224c351f1",
   "metadata": {},
   "outputs": [],
   "source": [
    "# Load some code called \"praw\" that will help us work with reddit\n",
    "import praw"
   ]
  },
  {
   "cell_type": "markdown",
   "id": "d644c195-845e-412f-93b4-dcd8e058e504",
   "metadata": {},
   "source": [
    "### (Optional) Step 1b: Make a fake praw connection with the fake_praw library\n",
    "For testing purposes, we've added this line of code, which loads a fake version of praw, so it wont actually connect to reddit. __If you want to try to actually connect to reddit, don't run this line of code.__"
   ]
  },
  {
   "cell_type": "code",
   "execution_count": 7,
   "id": "6d977d90-5091-470d-ab5c-8814d6b0072f",
   "metadata": {},
   "outputs": [
    {
     "data": {
      "text/html": [
       "<strong style='color:darkred'>Fake praw is replacing the praw library. Fake praw doesn&#x27;t need real passwords, and prevents you from accessing real reddit</strong>"
      ],
      "text/plain": [
       "<IPython.core.display.HTML object>"
      ]
     },
     "metadata": {},
     "output_type": "display_data"
    }
   ],
   "source": [
    "%run fake_apis/fake_praw.ipynb"
   ]
  },
  {
   "cell_type": "markdown",
   "id": "a204fa9d-613e-4dfe-849c-d2f053a2f012",
   "metadata": {},
   "source": [
    "### Step 2: Load your developer access passwords\n",
    "To use this on your real Reddit account, copy your [developer access passwords](../../appendix/bot_set_ups/making_reddit_account.md) into the code below, replacing our fake passwords."
   ]
  },
  {
   "cell_type": "code",
   "execution_count": 8,
   "id": "199ccb44-f8f1-4d23-b9f6-e06a499b2c73",
   "metadata": {},
   "outputs": [],
   "source": [
    "%run reddit_keys.py"
   ]
  },
  {
   "cell_type": "markdown",
   "id": "1e89b2ac-f84f-4307-8b2d-e609fd17185c",
   "metadata": {},
   "source": [
    "### Step 4: Give praw (or fake_praw) your developer access passwords"
   ]
  },
  {
   "cell_type": "code",
   "execution_count": 9,
   "id": "c6de9bfe-fb20-4a79-9f52-dd02c558f542",
   "metadata": {},
   "outputs": [
    {
     "data": {
      "text/html": [
       "<strong style='color:darkred'>Fake praw is pretending to collect account info to use on reddit</strong>"
      ],
      "text/plain": [
       "<IPython.core.display.HTML object>"
      ]
     },
     "metadata": {},
     "output_type": "display_data"
    }
   ],
   "source": [
    "# Give the praw code your reddit account info so\n",
    "# it can perform reddit actions\n",
    "reddit = praw.Reddit(\n",
    "    username=username, password=password,\n",
    "    client_id=client_id, client_secret=client_secret,\n",
    "    user_agent=\"a custom python script for user /\" + str(username)\n",
    ")"
   ]
  },
  {
   "cell_type": "markdown",
   "id": "b69feda2-7122-4487-b924-c7a98a2dea4d",
   "metadata": {},
   "source": [
    "## Find a Reddit submission\n",
    "Below I have the code to find a recent Reddit submission on the subreddit \"[cuteanimals](https://www.reddit.com/r/cuteanimals)\" (we'll get the top post on the default reddit view, called \"hot\").. \n",
    "\n",
    "Don't worry if you don't understand this part yet. We are\n",
    "just doing this, so we can get to the point of seeing what tweet data looks like.\n",
    "\n",
    "_Note: If you run this on real reddit, we can't gurantee anything about how offensive what you might find is._"
   ]
  },
  {
   "cell_type": "code",
   "execution_count": 10,
   "id": "2f2616c7-4c67-45c8-9788-9cf9b8ea2ace",
   "metadata": {},
   "outputs": [
    {
     "data": {
      "text/html": [
       "<strong style='color:darkred'>Fake praw is pretending to select the subreddit: cuteanimals</strong>"
      ],
      "text/plain": [
       "<IPython.core.display.HTML object>"
      ]
     },
     "metadata": {},
     "output_type": "display_data"
    }
   ],
   "source": [
    "# Look up the subreddit \"cuteanimals\", then find the \"hot\" list, getting up to 1 submission\n",
    "submissions = reddit.subreddit(\"cuteanimals\").hot(limit=1)\n",
    "\n",
    "# get the first submission off the list (should only be one anyway)\n",
    "recent_submission = next(submissions) "
   ]
  },
  {
   "cell_type": "markdown",
   "id": "b1fbe575-1e06-4af5-8b25-ff0d90f1339e",
   "metadata": {},
   "source": [
    "## Look at data in Reddit submission\n",
    "\n",
    "Now we will look at some of the data that came back!\n",
    "\n",
    "Again, don't worry too much about the code, we want to look at the data and data types.\n",
    "\n",
    "### submission title:"
   ]
  },
  {
   "cell_type": "code",
   "execution_count": 11,
   "id": "6a47156c-496a-41b1-9696-0d04f428e3da",
   "metadata": {},
   "outputs": [
    {
     "data": {
      "text/plain": [
       "'The data type of the submission title is: str'"
      ]
     },
     "metadata": {},
     "output_type": "display_data"
    },
    {
     "data": {
      "text/plain": [
       "'The submission title is: Look at my cute dog!'"
      ]
     },
     "metadata": {},
     "output_type": "display_data"
    }
   ],
   "source": [
    "display(\"The data type of the submission title is: \" + type(recent_submission.title).__name__)\n",
    "display(\"The submission title is: \" + recent_submission.title)"
   ]
  },
  {
   "cell_type": "markdown",
   "id": "b4099352-6e07-4575-b98e-e86cd3597bac",
   "metadata": {},
   "source": [
    "As you can see above, the title of a submission is a string (`str`) data type. "
   ]
  },
  {
   "cell_type": "markdown",
   "id": "9186f642-bec8-41d1-a4e5-71e914767507",
   "metadata": {},
   "source": [
    "### submission id"
   ]
  },
  {
   "cell_type": "code",
   "execution_count": 12,
   "id": "eed12635-a6c5-4403-ba5f-2fc4bdd58665",
   "metadata": {},
   "outputs": [
    {
     "data": {
      "text/plain": [
       "'The data type of the submission id is: str'"
      ]
     },
     "metadata": {},
     "output_type": "display_data"
    },
    {
     "data": {
      "text/plain": [
       "'The submission id is: 904tjwdf093j'"
      ]
     },
     "metadata": {},
     "output_type": "display_data"
    }
   ],
   "source": [
    "display(\"The data type of the submission id is: \" + type(recent_submission.id).__name__)\n",
    "display(\"The submission id is: \" + str(recent_submission.id))"
   ]
  },
  {
   "cell_type": "markdown",
   "id": "7f4ac8f6-c3af-4d75-be03-291e3d1e0339",
   "metadata": {},
   "source": [
    "The submission id is a piece of text (`str`) that looks like random letters and numbers. This is how the submission is referred to inside Reddit's computers. So if someone is commenting on a submission, Reddit just puts uses submission ID they were commenting on to see where to display it."
   ]
  },
  {
   "cell_type": "markdown",
   "id": "ff21d864-0014-44e0-b9bd-6c7f87ba8712",
   "metadata": {},
   "source": [
    "### submission author name"
   ]
  },
  {
   "cell_type": "code",
   "execution_count": 13,
   "id": "a16bcfcf-6ebe-49ae-a84a-8ad53655ea26",
   "metadata": {},
   "outputs": [
    {
     "data": {
      "text/plain": [
       "'The data type of the author name is: str'"
      ]
     },
     "metadata": {},
     "output_type": "display_data"
    },
    {
     "data": {
      "text/plain": [
       "'The author name is: fake_user'"
      ]
     },
     "metadata": {},
     "output_type": "display_data"
    }
   ],
   "source": [
    "display(\"The data type of the author name is: \" + type(recent_submission.author.name).__name__)\n",
    "display(\"The author name is: \" + str(recent_submission.author.name))"
   ]
  },
  {
   "cell_type": "markdown",
   "id": "2341e4cf-4347-42fa-8f51-4aabbdc39fdb",
   "metadata": {},
   "source": [
    "The author name is an string (`str`). Note recent_submission.author has other information about the author as well as the name."
   ]
  },
  {
   "cell_type": "markdown",
   "id": "fb826161-1dc7-4a36-ac9b-63267000e9b0",
   "metadata": {},
   "source": [
    "### submission edited"
   ]
  },
  {
   "cell_type": "code",
   "execution_count": 14,
   "id": "84a79e89-a382-4452-91c2-816370df2ed9",
   "metadata": {},
   "outputs": [
    {
     "data": {
      "text/plain": [
       "'The data type of edited is: bool'"
      ]
     },
     "metadata": {},
     "output_type": "display_data"
    },
    {
     "data": {
      "text/plain": [
       "'The submission edited is: False'"
      ]
     },
     "metadata": {},
     "output_type": "display_data"
    }
   ],
   "source": [
    "display(\"The data type of edited is: \" + type(recent_submission.edited).__name__)\n",
    "display(\"The submission edited is: \" + str(recent_submission.edited))"
   ]
  },
  {
   "cell_type": "markdown",
   "id": "8937e2a6-0688-4712-a481-9b3dbac3d643",
   "metadata": {},
   "source": [
    "The \"edited\" field represents whether a submission has been edited or not. It is a boolean true/false value (`bool`)."
   ]
  },
  {
   "cell_type": "markdown",
   "id": "e7df5f55-a70d-4219-a95e-bc0dc0db9d1f",
   "metadata": {},
   "source": [
    "### tweet created at"
   ]
  },
  {
   "cell_type": "code",
   "execution_count": 15,
   "id": "f66d41c7-d0b2-4b8d-bb30-7d5b61fee40e",
   "metadata": {},
   "outputs": [
    {
     "data": {
      "text/plain": [
       "'The data type of the tweet created_utc at is: int'"
      ]
     },
     "metadata": {},
     "output_type": "display_data"
    },
    {
     "data": {
      "text/plain": [
       "'The created_utc at is: 1673327625'"
      ]
     },
     "metadata": {},
     "output_type": "display_data"
    },
    {
     "data": {
      "text/plain": [
       "'The data type of the converted_time at is: datetime'"
      ]
     },
     "metadata": {},
     "output_type": "display_data"
    },
    {
     "data": {
      "text/plain": [
       "'The converted_time at is: 2023-01-10 05:13:45'"
      ]
     },
     "metadata": {},
     "output_type": "display_data"
    }
   ],
   "source": [
    "display(\"The data type of the tweet created_utc at is: \" + type(recent_submission.created_utc).__name__)\n",
    "display(\"The created_utc at is: \" + str(recent_submission.created_utc))\n",
    "\n",
    "# convert the utc to a different datetime\n",
    "import datetime\n",
    "converted_time = datetime.datetime.fromtimestamp(recent_submission.created_utc)\n",
    "display(\"The data type of the converted_time at is: \" + type(converted_time).__name__)\n",
    "display(\"The converted_time at is: \" + str(converted_time))"
   ]
  },
  {
   "cell_type": "markdown",
   "id": "f9307638-8889-4932-b376-432ef82ca4c9",
   "metadata": {},
   "source": [
    "The created at time for the submission is a floating point number (`float`), which is in [Unix Time](https://en.wikipedia.org/wiki/Unix_time), which is the number of seconds since Jan 1, 1970 in the [Coordinated Universal Time](https://en.wikipedia.org/wiki/Coordinated_Universal_Time) zone.\n",
    "\n",
    "This is not a very useful number, so we use a python library called `datetime` to convert it into a more readable `datetime` data type, which we then can display and read easier."
   ]
  },
  {
   "cell_type": "markdown",
   "id": "1ddc0fc0-3d63-44c6-81c3-73d97554b763",
   "metadata": {},
   "source": [
    "### number of upvotes (score)"
   ]
  },
  {
   "cell_type": "code",
   "execution_count": 16,
   "id": "15d683fc-50ea-4603-b332-0e90487a4fa7",
   "metadata": {},
   "outputs": [
    {
     "data": {
      "text/plain": [
       "'The data type of the score is: int'"
      ]
     },
     "metadata": {},
     "output_type": "display_data"
    },
    {
     "data": {
      "text/plain": [
       "'The submission score is: 23'"
      ]
     },
     "metadata": {},
     "output_type": "display_data"
    }
   ],
   "source": [
    "display(\"The data type of the score is: \" + type(recent_submission.score).__name__)\n",
    "display(\"The submission score is: \" + str(recent_submission.score))"
   ]
  },
  {
   "cell_type": "markdown",
   "id": "5d7db748-dde7-4e37-9979-a02faae9373a",
   "metadata": {},
   "source": [
    "The number of upvotes is called `score` and it is a whole number (`int`). "
   ]
  },
  {
   "cell_type": "markdown",
   "id": "3a39921b-33f5-4dc8-9779-75339d80fbde",
   "metadata": {},
   "source": [
    "### upvote ratio"
   ]
  },
  {
   "cell_type": "code",
   "execution_count": 17,
   "id": "d1da69d1-fc64-4c44-9259-8ad6b1a8889c",
   "metadata": {},
   "outputs": [
    {
     "data": {
      "text/plain": [
       "'The data type of the upvote ratio is: float'"
      ]
     },
     "metadata": {},
     "output_type": "display_data"
    },
    {
     "data": {
      "text/plain": [
       "'The submission upvote ratio is: 0.93'"
      ]
     },
     "metadata": {},
     "output_type": "display_data"
    }
   ],
   "source": [
    "display(\"The data type of the upvote ratio is: \" + type(recent_submission.upvote_ratio).__name__)\n",
    "display(\"The submission upvote ratio is: \" + str(recent_submission.upvote_ratio))"
   ]
  },
  {
   "cell_type": "markdown",
   "id": "00cc8f52-f396-4b03-8c02-1d57cf559196",
   "metadata": {},
   "source": [
    "The upvote ratio (how many upvotes divided by total number of votes including downvotes) is a floating point number (`float`). "
   ]
  },
  {
   "cell_type": "markdown",
   "id": "aa6a7bb5-fd5d-4df6-8628-2084f75f5922",
   "metadata": {},
   "source": [
    "### number of comments"
   ]
  },
  {
   "cell_type": "code",
   "execution_count": 18,
   "id": "187786cd-6417-4040-85ca-a8d326ed0b66",
   "metadata": {},
   "outputs": [
    {
     "data": {
      "text/plain": [
       "'The data type of num_comments is: int'"
      ]
     },
     "metadata": {},
     "output_type": "display_data"
    },
    {
     "data": {
      "text/plain": [
       "'The submission number of comments is: 7'"
      ]
     },
     "metadata": {},
     "output_type": "display_data"
    }
   ],
   "source": [
    "display(\"The data type of num_comments is: \" + type(recent_submission.num_comments).__name__)\n",
    "display(\"The submission number of comments is: \" + str(recent_submission.num_comments))"
   ]
  },
  {
   "cell_type": "markdown",
   "id": "8484f92c-d47f-44ed-932a-2ac4ba2f2dcd",
   "metadata": {},
   "source": [
    "The number of comments is a whole number (`int`). Note: You can also get a data structure of all the comments, but we will look at that later."
   ]
  },
  {
   "cell_type": "markdown",
   "id": "b5cb1396-699d-4105-be66-f88fabc5aa0c",
   "metadata": {},
   "source": [
    "### submission text (selftext)"
   ]
  },
  {
   "cell_type": "code",
   "execution_count": 19,
   "id": "3483b4d9-a52e-44d1-b0af-5423d7e28f02",
   "metadata": {},
   "outputs": [
    {
     "data": {
      "text/plain": [
       "'The data type of selftext is: str'"
      ]
     },
     "metadata": {},
     "output_type": "display_data"
    },
    {
     "data": {
      "text/plain": [
       "'The submission selftext is: '"
      ]
     },
     "metadata": {},
     "output_type": "display_data"
    }
   ],
   "source": [
    "display(\"The data type of selftext is: \" + type(recent_submission.selftext).__name__)\n",
    "display(\"The submission selftext is: \" + str(recent_submission.selftext))"
   ]
  },
  {
   "cell_type": "markdown",
   "id": "e6590f6c-251c-469a-936b-44ed835b69fb",
   "metadata": {},
   "source": [
    "The submission selftext (the contents of the post if the post isn't a link url), is a string (`str`). Note that a submission can either be text saved as `selftext`, or a link (e.g., image or news story) saved as `url`."
   ]
  },
  {
   "cell_type": "markdown",
   "id": "0369e1e0-13a1-4cab-9270-faea35455bd4",
   "metadata": {},
   "source": [
    "### submission url (link)"
   ]
  },
  {
   "cell_type": "code",
   "execution_count": 20,
   "id": "d9be0ab0-30c4-46a7-89fe-b870a141b90f",
   "metadata": {},
   "outputs": [
    {
     "data": {
      "text/plain": [
       "'The data type of url is: str'"
      ]
     },
     "metadata": {},
     "output_type": "display_data"
    },
    {
     "data": {
      "text/plain": [
       "'The submission url is: example.com/fake_image.jpg'"
      ]
     },
     "metadata": {},
     "output_type": "display_data"
    }
   ],
   "source": [
    "display(\"The data type of url is: \" + type(recent_submission.url).__name__)\n",
    "display(\"The submission url is: \" + str(recent_submission.url))"
   ]
  },
  {
   "cell_type": "markdown",
   "id": "abc5f1e5-7579-40a7-9c8f-af7c81548aa8",
   "metadata": {},
   "source": [
    "The submission url is a string (`str`)."
   ]
  },
  {
   "cell_type": "markdown",
   "id": "4ed35a69-2487-4555-b117-845e0863ee77",
   "metadata": {},
   "source": [
    "## Still more!\n",
    "In addition to the data we looked at above, there are even more options for reddit submissions, which you can see in the table of \"attributes\" at the top of the [PRAW library page on Submissions](https://praw.readthedocs.io/en/stable/code_overview/models/submission.html). You can also see the \"attributes tables in the PRAW library pages for [Redditors](https://praw.readthedocs.io/en/stable/code_overview/models/redditor.html) and [Comments](https://praw.readthedocs.io/en/stable/code_overview/models/comment.html)"
   ]
  },
  {
   "cell_type": "code",
   "execution_count": null,
   "id": "eb0501bf-b827-4bf9-91c7-7772e6374900",
   "metadata": {},
   "outputs": [],
   "source": []
  }
 ],
 "metadata": {
  "kernelspec": {
   "display_name": "Python 3 (ipykernel)",
   "language": "python",
   "name": "python3"
  },
  "language_info": {
   "codemirror_mode": {
    "name": "ipython",
    "version": 3
   },
   "file_extension": ".py",
   "mimetype": "text/x-python",
   "name": "python",
   "nbconvert_exporter": "python",
   "pygments_lexer": "ipython3",
   "version": "3.9.7"
  },
  "vscode": {
   "interpreter": {
    "hash": "369f2c481f4da34e4445cda3fffd2e751bd1c4d706f27375911949ba6bb62e1c"
   }
  }
 },
 "nbformat": 4,
 "nbformat_minor": 5
}
