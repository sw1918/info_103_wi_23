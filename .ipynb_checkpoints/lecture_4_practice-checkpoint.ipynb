{
 "cells": [
  {
   "cell_type": "markdown",
   "id": "8274a51a-499b-495b-ace6-9f30359b158b",
   "metadata": {},
   "source": [
    "# Lecture 4 Practice: Data\n",
    "\n",
    "Below are some variables that store the number of likes from different posts:"
   ]
  },
  {
   "cell_type": "code",
   "execution_count": null,
   "id": "04eeaac6-fee8-45ee-b31f-231a662b18c7",
   "metadata": {},
   "outputs": [],
   "source": [
    "post_a = 5\n",
    "post_b = 10\n",
    "post_c = 512\n",
    "post_d = 1"
   ]
  },
  {
   "cell_type": "markdown",
   "id": "17e581a8-2157-4148-8045-1f2fdc609607",
   "metadata": {},
   "source": [
    "We want to know the range of likes between those posts. Write a statement that finds the max and the min from that list, subtracts them, and stores the resulting number in a variable. "
   ]
  },
  {
   "cell_type": "code",
   "execution_count": null,
   "id": "0b29a8e5-425c-4244-b00e-26371773abc7",
   "metadata": {},
   "outputs": [],
   "source": []
  },
  {
   "cell_type": "markdown",
   "id": "09f2d8f5-e4cc-44a1-843a-1a4939a97f9d",
   "metadata": {},
   "source": [
    "Now, using string addition, print out a statement that explains what that number means by transforming your variable to a string and adding it to another string. The output should be something like, \"The range of likes was {x}\""
   ]
  },
  {
   "cell_type": "code",
   "execution_count": null,
   "id": "02d3528c-1605-4247-891e-d342e810df68",
   "metadata": {},
   "outputs": [],
   "source": []
  }
 ],
 "metadata": {
  "kernelspec": {
   "display_name": "Python 3 (ipykernel)",
   "language": "python",
   "name": "python3"
  },
  "language_info": {
   "codemirror_mode": {
    "name": "ipython",
    "version": 3
   },
   "file_extension": ".py",
   "mimetype": "text/x-python",
   "name": "python",
   "nbconvert_exporter": "python",
   "pygments_lexer": "ipython3",
   "version": "3.12.0"
  }
 },
 "nbformat": 4,
 "nbformat_minor": 5
}
