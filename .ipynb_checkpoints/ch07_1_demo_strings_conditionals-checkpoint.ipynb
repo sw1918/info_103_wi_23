{
 "cells": [
  {
   "cell_type": "markdown",
   "id": "f945d49a-b2be-4da7-9a9e-b2d3f5e9cb1c",
   "metadata": {},
   "source": [
    "# Demo: Conditionals and String Manipulation\n",
    "\n",
    "We are later going to build a bot that, if you message it: \n",
    "- Subject: \"Wanting bot response\", body: \"I want you to ___\" (where the ___ is some action)\n",
    "- then the bot will reply, \"I will now ____\" (where the ___ is that same action).\n",
    "\n",
    "But in order to build a bot that does this, we will first need to learn how to use conditionals (`if`) and some string manipulation techniques."
   ]
  },
  {
   "cell_type": "markdown",
   "id": "91d82408-2699-4e0e-998c-1b070693cb17",
   "metadata": {},
   "source": [
    "## Conditionals\n",
    "### `if` statements\n",
    "\n",
    "Conditionals let us change what we do depending on the situation. In a Python we do this using an `if` statement. \n",
    "\n",
    "Here is an example:"
   ]
  },
  {
   "cell_type": "code",
   "execution_count": null,
   "id": "4b444c79-32e2-4122-81d7-3d305c7761c1",
   "metadata": {},
   "outputs": [],
   "source": [
    "if 1 < 2:\n",
    "    display(\"We have determined that 1 is indeed less than 2\")"
   ]
  },
  {
   "cell_type": "markdown",
   "id": "882c59cb-84d7-49a7-9d75-55f3d13f7a31",
   "metadata": {},
   "source": [
    "In the above code we can see the different pieces we need for an `if`:\n",
    "- We start by writing `if`\n",
    "- After the `if` we have a piece of code (an \"expression\") that will produce a booolean. In this case `1 < 2` checks if 1 is less than 2, and since it is, it `1 < 2` comes out as `True`\n",
    "- After expression that produced a boolean is a `:` which indicates that next will come a block of code indented over. That block of code will only run __if__ the expression came out as `True`\n",
    "- Inside the block of code we have a display statement, which runs because `1 < 2` came out as `True`\n",
    "\n",
    "Let's do another example, but where the expression comes out as false"
   ]
  },
  {
   "cell_type": "code",
   "execution_count": null,
   "id": "1648aa3b-3b11-4e9a-9f47-95fcde92edb7",
   "metadata": {},
   "outputs": [],
   "source": [
    "if 1 > 2:\n",
    "    display(\"We have determined that 1 is greater than 2\")"
   ]
  },
  {
   "cell_type": "markdown",
   "id": "106a77e2-6b9d-4541-9b92-d5bd18793672",
   "metadata": {},
   "source": [
    "In this case we test if 1 is greater than two, but `1 > 2` comes out as `False`, so the code block in this if statement does not get run and we never display that \"`We have determined that 1 is greater than 2`\""
   ]
  },
  {
   "cell_type": "markdown",
   "id": "de5607ce-e3b9-48b5-b87c-79313e3e6ef7",
   "metadata": {},
   "source": [
    "### `else` and `elif` statements"
   ]
  },
  {
   "cell_type": "markdown",
   "id": "374cc867-0279-432a-a741-6cc51e6c6bec",
   "metadata": {},
   "source": [
    "What if we want to do something different if the expression turned out to be `False`? \n",
    "\n",
    "For that we can use `else` or `elif` statements.\n",
    "\n",
    "Here's an example with `else`:"
   ]
  },
  {
   "cell_type": "code",
   "execution_count": null,
   "id": "3a61cc43-398c-4ac0-8934-3a5d45f8c137",
   "metadata": {},
   "outputs": [],
   "source": [
    "if 1 > 2:\n",
    "    display(\"We have determined that 1 is greater than 2\")\n",
    "else:\n",
    "    display(\"We NOT have determined that 1 is greater than 2\")"
   ]
  },
  {
   "cell_type": "markdown",
   "id": "9bf81739-dae4-4bd2-923f-cfe335531750",
   "metadata": {},
   "source": [
    "In the above code, after the code block inside an `if`, we have an `else` (at the same indent as the `if`), with a `:` indicating that next will be a block of code to run in case the `if` expression came back as `False` (which it did, because 1 is not greater than 2).\n",
    "\n",
    "Now, what if we have multiple courses of action we might want to take depending on several checks? For that we can use an `elif` (short for \"else if\") like this:"
   ]
  },
  {
   "cell_type": "code",
   "execution_count": null,
   "id": "1c29fc83-465c-464d-a45f-b01b7ba13fc5",
   "metadata": {},
   "outputs": [],
   "source": [
    "if 1 > 1:\n",
    "    display(\"1 is greater than 1\")\n",
    "elif 1 < 1:\n",
    "    display(\"1 is less than 1\")\n",
    "else:\n",
    "    display(\"1 is neither greater than 1, nor less than 1, so it must be equal to 1\")"
   ]
  },
  {
   "cell_type": "markdown",
   "id": "78f5500c-1423-4507-baa5-7bb9decfb836",
   "metadata": {},
   "source": [
    "The `elif` above works just like an `if` statement, but the check in the `elif` is only run if the `if` statement's check came back `False`.\n",
    "\n",
    "_Note: in a sequence of an `if` statement, followed by `elif`s and ending with an `else`, only one of the code blocks will run._"
   ]
  },
  {
   "cell_type": "markdown",
   "id": "717d4836-2bfd-48e9-990f-bd30cc26103a",
   "metadata": {},
   "source": [
    "### variables in `if` statements\n",
    "\n",
    "In the above examples, all of our checks were based on specific numbers (like `1 > 2`), which will always come out to the same answer. But we can make our code more useful by using variables, like below:"
   ]
  },
  {
   "cell_type": "code",
   "execution_count": null,
   "id": "a08df006-b215-4727-82d3-edafdd8d1b6b",
   "metadata": {},
   "outputs": [],
   "source": [
    "money_in_wallet = 7\n",
    "cost_of_item = 5\n",
    "\n",
    "if money_in_wallet > cost_of_item:\n",
    "    change = money_in_wallet - cost_of_item\n",
    "    display(\"You can purchase the item with $\" + str(change) + \" in change\")\n",
    "elif money_in_wallet == cost_of_item:\n",
    "    display(\"You can purchase the item, but with no change\")\n",
    "else: # This else runs when money_in_wallet < cost_of_item\n",
    "    display(\"You don't have enough money to purchase the item\")"
   ]
  },
  {
   "cell_type": "markdown",
   "id": "919b6a73-47dc-492c-b9b1-65d78cdff261",
   "metadata": {},
   "source": [
    "In the above code we have variables that represent how much money we have in our wallet and the cost of the item. Note: You can change the values and run the code to get different results!\n",
    "\n",
    "We then have a series of checks to see if we have more than enough money, or exactly the right amount of money. The final else will only run in the remaining situation where there wasn't enough money, so we added a comment to clarify this, even though the code will work fine without the comment."
   ]
  },
  {
   "cell_type": "markdown",
   "id": "f2d5bd03-27f6-4865-bab8-ddc8ab2ca98e",
   "metadata": {},
   "source": [
    "## String Manipulation\n",
    "The next programming topics we need to cover have to do with string manipulation (which we will also use some with `if` statements)"
   ]
  },
  {
   "cell_type": "markdown",
   "id": "9f9fff96-94ba-43f5-aed9-f53e14df1b89",
   "metadata": {},
   "source": [
    "### using strings like lists of characters\n",
    "Python lets us treat strings like a list of characters, so we can do things like:\n",
    "- loop through each character in a string\n",
    "- get the first character of the string\n",
    "\n",
    "You can loop through each character of a string like this:"
   ]
  },
  {
   "cell_type": "code",
   "execution_count": null,
   "id": "a0dd790c-ad91-45d6-8a31-0f559231f5ec",
   "metadata": {},
   "outputs": [],
   "source": [
    "important_word = \"Ethics\"\n",
    "\n",
    "for character in important_word:\n",
    "    print(character)"
   ]
  },
  {
   "cell_type": "markdown",
   "id": "5d945459-3781-461a-ba14-21450f776a14",
   "metadata": {},
   "source": [
    "The above code looped through the letters in \"Ethics\" and for each letter it printed the letter out on its own line (note: I use `print` instead of `display` because it happens to look better in the online textbook)\n",
    "\n",
    "We can select letters as well by their index, like this:"
   ]
  },
  {
   "cell_type": "code",
   "execution_count": null,
   "id": "784e3393-ae68-45d3-b736-1bc075ccdecc",
   "metadata": {},
   "outputs": [],
   "source": [
    "important_word = \"Ethics\"\n",
    "\n",
    "display(\"The first letter is: \" + important_word[0])"
   ]
  },
  {
   "cell_type": "code",
   "execution_count": null,
   "id": "36ee3ab3-6b62-4ff7-9051-014bce1b34e9",
   "metadata": {},
   "outputs": [],
   "source": [
    "display(\"The sixth letter is: \" + important_word[5])"
   ]
  },
  {
   "cell_type": "markdown",
   "id": "8efb0e23-31f8-4bbd-99dc-f8c0ca51c2b7",
   "metadata": {},
   "source": [
    "Python also lets us do more complicated selections (called a \"slice\") by index using the format:\n",
    "- `[start_index : stop_index]`\n",
    "\n",
    "So, for example, to select the first 3 letters of our string, we can do this:"
   ]
  },
  {
   "cell_type": "code",
   "execution_count": null,
   "id": "cc209834-6ae0-42f5-9be9-0dac7e17ea64",
   "metadata": {},
   "outputs": [],
   "source": [
    "important_word[0 : 3]"
   ]
  },
  {
   "cell_type": "markdown",
   "id": "bcd02ced-6ef0-43e7-a63e-40f26f722343",
   "metadata": {},
   "source": [
    "Note: The start index is the first index selected, and the stop index is the one it stops __before__. So our code `important_word[0 : 3]` selected the letters at indexes: 0, 1, and 2.\n",
    "\n",
    "If we want to select the characters at index 2 and 3 (that is the 3rd and 4th letters), we would write:"
   ]
  },
  {
   "cell_type": "code",
   "execution_count": null,
   "id": "01c13c09-2783-40a8-8fa7-d6c0b980d877",
   "metadata": {},
   "outputs": [],
   "source": [
    "important_word[2 : 4]"
   ]
  },
  {
   "cell_type": "markdown",
   "id": "8fb3b5e0-6ee5-47ba-a357-02f1d6c82309",
   "metadata": {},
   "source": [
    "If we leave have the `:` in our square bracket selector but leave one side blank, that side will go to the beginning or end.\n",
    "\n",
    "So if we want to select the first three characters we can write:"
   ]
  },
  {
   "cell_type": "code",
   "execution_count": null,
   "id": "66a6fa20-e70a-4121-8aa3-3b86915f52e8",
   "metadata": {},
   "outputs": [],
   "source": [
    "important_word[ : 3]"
   ]
  },
  {
   "cell_type": "markdown",
   "id": "6acd054c-fb8d-44af-84db-c4da2d81eaa8",
   "metadata": {},
   "source": [
    "And if we want to select everything after the first 3 letters we can write:"
   ]
  },
  {
   "cell_type": "code",
   "execution_count": null,
   "id": "7a4b3a04-b1d9-46de-81aa-3ccb8b9f30b6",
   "metadata": {},
   "outputs": [],
   "source": [
    "important_word[3 : ]"
   ]
  },
  {
   "cell_type": "markdown",
   "id": "b90f0129-a375-4798-9050-af4b66a8ba4c",
   "metadata": {},
   "source": [
    "Python also lets us index backwards from the end of the string using negative numbers. So if we wanted to select the last two letters, we can do that like this:"
   ]
  },
  {
   "cell_type": "code",
   "execution_count": null,
   "id": "fbc6ac8c-25f2-4c78-aaf9-1969e456a11c",
   "metadata": {},
   "outputs": [],
   "source": [
    "important_word[-2 : ]"
   ]
  },
  {
   "cell_type": "markdown",
   "id": "9b3c1bb0-172e-4af1-b834-8e201da2dcf1",
   "metadata": {},
   "source": [
    "You can read more about Python string slicing on [GeeksforGeeks](https://www.geeksforgeeks.org/string-slicing-in-python/)"
   ]
  },
  {
   "cell_type": "markdown",
   "id": "51e14d3d-2fc9-4f5a-b5e7-1f5b779a98e8",
   "metadata": {},
   "source": [
    "### `if` statements and strings\n",
    "Now let's see how we can use if statements together with strings.\n",
    "\n",
    "First we will use `in` to see if a string appears as part of another string"
   ]
  },
  {
   "cell_type": "code",
   "execution_count": null,
   "id": "0a97e57b-99f1-4fbd-b043-2ddb9a8723c1",
   "metadata": {},
   "outputs": [],
   "source": [
    "weather_report = \"The weather will be cold and rainy today\"\n",
    "\n",
    "if \"cold\" in weather_report:\n",
    "    display(\"bring a jacket\")\n",
    "else:\n",
    "    display(\"probably don't need a jacket\")\n",
    "    \n",
    "if \"rainy\" in weather_report:\n",
    "    display(\"bring an umbrella\")\n",
    "else:\n",
    "    display(\"no need for an umbrella\")"
   ]
  },
  {
   "cell_type": "markdown",
   "id": "b2400759-2855-42b5-9d34-a6b539a26cd2",
   "metadata": {},
   "source": [
    "In the above code we are looking to see if the weather_report includes the text \"cold\" and \"rainy\" to decide whether we need a jacket or umbrella. \n",
    "\n",
    "Note: you can see how this code could give bad advice if the weather report used unexpected words like: \"The weather will be freezing and there will be a downpour.\" Getting computers to correctly interpret human language can be very hard!\n",
    "\n",
    "Now let's look at an example of using string slices."
   ]
  },
  {
   "cell_type": "code",
   "execution_count": null,
   "id": "012315ce-170c-4f6d-a7b5-7283eb937be8",
   "metadata": {},
   "outputs": [],
   "source": [
    "user_preference = \"My favorite vegitable is broccoli\"\n",
    "\n",
    "\n",
    "# check if the user is telling us their favorite vegitable\n",
    "if user_preference[ : 25] == \"My favorite vegitable is \":\n",
    "    display(\"The user was telling us their favorite vegitable\")"
   ]
  },
  {
   "cell_type": "markdown",
   "id": "c7a0657e-2f95-4705-8439-42bbbcfe87d7",
   "metadata": {},
   "source": [
    "Now, in the above code I had to count the length of the text \"`My favorite vegitable is `\" (25 characters long) so I could cut out the same length start of user_preference and see if it matched.\n",
    "\n",
    "I can improve this code by using variables and having Python count that length for me like using the `len` function:"
   ]
  },
  {
   "cell_type": "code",
   "execution_count": null,
   "id": "3830f126-b391-443f-9466-94b1e85cf6ce",
   "metadata": {},
   "outputs": [],
   "source": [
    "user_preference = \"My favorite vegitable is broccoli\"\n",
    "\n",
    "\n",
    "vegitable_start = \"My favorite vegitable is \"\n",
    "vegitable_start_len = len(vegitable_start)\n",
    "\n",
    "# check if the user is telling us their favorite vegitable\n",
    "if user_preference[ : vegitable_start_len] == vegitable_start:\n",
    "    display(\"The user was telling us their favorite vegitable\")"
   ]
  },
  {
   "cell_type": "markdown",
   "id": "e7067d20-7a0d-4970-bead-f415e5eb76f7",
   "metadata": {},
   "source": [
    "The above code is longer, but now I have python doing the counting for me, which makes it (hopefully) easier to modify and understand.\n",
    "\n",
    "Python offers us one more way of improving this code, which is with a function called `startswith` which does what we are trying to do (and if we looked at the source code for `startswith`, it is probably similar to what we were doing)"
   ]
  },
  {
   "cell_type": "code",
   "execution_count": null,
   "id": "a76b877b-59f3-4a34-9f6a-31f4f8caefd7",
   "metadata": {},
   "outputs": [],
   "source": [
    "user_preference = \"My favorite vegitable is broccoli\"\n",
    "\n",
    "\n",
    "vegitable_start = \"My favorite vegitable is \"\n",
    "\n",
    "# check if the user is telling us their favorite vegitable\n",
    "if user_preference.startswith(vegitable_start):\n",
    "    display(\"The user was telling us their favorite vegitable\")"
   ]
  },
  {
   "cell_type": "markdown",
   "id": "5c0581fb-2db4-4478-97c0-64f2b58de0b8",
   "metadata": {},
   "source": [
    "We can also use the length of the `vegitable_start` string to take the `user_preference` string to select the thing the user said was their favorite:"
   ]
  },
  {
   "cell_type": "code",
   "execution_count": null,
   "id": "1b8e8564-39d0-41a4-92c4-1e84b7c418a1",
   "metadata": {},
   "outputs": [],
   "source": [
    "user_preference = \"My favorite vegitable is broccoli\"\n",
    "\n",
    "\n",
    "vegitable_start = \"My favorite vegitable is \"\n",
    "vegitable_start_len = len(vegitable_start)\n",
    "\n",
    "# check if the user is telling us their favorite vegitable\n",
    "if user_preference.startswith(vegitable_start):\n",
    "    favorite_vegitable = user_preference[vegitable_start_len: ]\n",
    "    display(\"The user's favorite vegitable: \" + favorite_vegitable)"
   ]
  },
  {
   "cell_type": "markdown",
   "id": "dd59c857-0645-4df8-8e92-5c2fbaa487a2",
   "metadata": {},
   "source": [
    "This gives us some of the pieces we need to  build a bot that, if you tweet at it: \n",
    "- \"Hi @mybotname, please ___\" (where the ___ is some action)\n",
    "- will reply, \"I will now ____\" (where the ___ is that same action).\n",
    "\n",
    "Though before we do that, we'll give you some additional practice with conditionals and strings."
   ]
  }
 ],
 "metadata": {
  "kernelspec": {
   "display_name": "Python 3 (ipykernel)",
   "language": "python",
   "name": "python3"
  },
  "language_info": {
   "codemirror_mode": {
    "name": "ipython",
    "version": 3
   },
   "file_extension": ".py",
   "mimetype": "text/x-python",
   "name": "python",
   "nbconvert_exporter": "python",
   "pygments_lexer": "ipython3",
   "version": "3.9.7"
  }
 },
 "nbformat": 4,
 "nbformat_minor": 5
}
