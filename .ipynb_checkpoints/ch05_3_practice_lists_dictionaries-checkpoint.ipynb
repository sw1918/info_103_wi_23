{
 "cells": [
  {
   "cell_type": "markdown",
   "id": "d6103326-2c1e-4e0c-9cbc-62b9c3dceb2d",
   "metadata": {},
   "source": [
    "# Practice: Looping through lists and dictionaries\n",
    "Try out these coding problems to practice looping, lists, and dictionaries"
   ]
  },
  {
   "cell_type": "markdown",
   "id": "449c727b-c78d-43d6-b971-b129f32b9e5a",
   "metadata": {},
   "source": [
    "Make a loop that displays \"Are you awake yet?\" 5 times"
   ]
  },
  {
   "cell_type": "code",
   "execution_count": null,
   "id": "4cd991c7-1a6b-451a-b719-5275aa18b7f9",
   "metadata": {},
   "outputs": [],
   "source": [
    "# TODO: enter your code here"
   ]
  },
  {
   "cell_type": "markdown",
   "id": "cc675390-1381-4068-b26f-457c09d07f7a",
   "metadata": {},
   "source": [
    "Make a list of names (at least three), and save it in a variable called `names`"
   ]
  },
  {
   "cell_type": "code",
   "execution_count": null,
   "id": "dd4ac079-8915-447b-8785-265cdbd2e8d0",
   "metadata": {},
   "outputs": [],
   "source": [
    "# TODO: enter your code here"
   ]
  },
  {
   "cell_type": "markdown",
   "id": "c51239b3-efac-479d-b580-7129fdf79765",
   "metadata": {},
   "source": [
    "Now loop over each of those names, and for each name display \"[name] is awesome!\""
   ]
  },
  {
   "cell_type": "code",
   "execution_count": null,
   "id": "2a96b83e-f33a-4aad-ba70-70898f9713b8",
   "metadata": {},
   "outputs": [],
   "source": [
    "# TODO: enter your code here"
   ]
  },
  {
   "cell_type": "markdown",
   "id": "a4135fc3-aff1-41ea-9240-aefbae97379a",
   "metadata": {},
   "source": [
    "Now, do the same thing as before, but for each name, first make a string that has \"[name] is awesome!\" and save it in a variable, then use the `.upper()` function on the string to make it all uppercase and save it into a variable, then display the final string."
   ]
  },
  {
   "cell_type": "code",
   "execution_count": null,
   "id": "241beed4-97ff-4da2-9d94-18accd4e176a",
   "metadata": {},
   "outputs": [],
   "source": [
    "# TODO: enter your code here"
   ]
  },
  {
   "cell_type": "markdown",
   "id": "4e61cc85-b12f-4ee5-82a3-00ec4bbd4637",
   "metadata": {},
   "source": [
    "Now, we are going to make a dictionary with information on a photo"
   ]
  },
  {
   "cell_type": "code",
   "execution_count": null,
   "id": "69619acb-bbd4-4e0b-9167-a07aa618448f",
   "metadata": {},
   "outputs": [],
   "source": [
    "photo_1_info = {\n",
    "    \"width\": 800,\n",
    "    \"height\": 600,\n",
    "    \"location\": \"that one mountain\",\n",
    "    \"device\": \"iPhone 6\"\n",
    "}"
   ]
  },
  {
   "cell_type": "markdown",
   "id": "faa15e18-0c2c-4f57-9ce1-4b1711f4745a",
   "metadata": {},
   "source": [
    "Select and display the width of the photo"
   ]
  },
  {
   "cell_type": "code",
   "execution_count": null,
   "id": "475abcc3-6194-49e8-912d-d46e1353dbbb",
   "metadata": {},
   "outputs": [],
   "source": [
    "# TODO: enter your code here"
   ]
  },
  {
   "cell_type": "markdown",
   "id": "13c334f8-57ee-4d6b-808a-bc3e2105a410",
   "metadata": {},
   "source": [
    "Select and display the location of the photo"
   ]
  },
  {
   "cell_type": "code",
   "execution_count": null,
   "id": "4d68c6b8-50d5-403e-b530-bd0fa873ee1c",
   "metadata": {},
   "outputs": [],
   "source": [
    "# TODO: enter your code here"
   ]
  },
  {
   "cell_type": "markdown",
   "id": "8bc42e61-80ac-4043-96f0-83b603b985f4",
   "metadata": {},
   "source": [
    "Now we are going to make a list of photo info for you to go through"
   ]
  },
  {
   "cell_type": "code",
   "execution_count": null,
   "id": "4a41eab6-d88c-40f8-ad8e-f5d4e1abc540",
   "metadata": {},
   "outputs": [],
   "source": [
    "photo_info_list = [\n",
    "    {\n",
    "        \"width\": 800,\n",
    "        \"height\": 600,\n",
    "        \"location\": \"that one mountain\",\n",
    "        \"device\": \"iPhone 6\"\n",
    "    },\n",
    "    {\n",
    "        \"width\": 800,\n",
    "        \"height\": 600,\n",
    "        \"location\": \"on the lake\",\n",
    "        \"device\": \"iPhone 5\"\n",
    "    },\n",
    "    {\n",
    "        \"width\": 1600,\n",
    "        \"height\": 800,\n",
    "        \"location\": \"The underground mines\",\n",
    "        \"device\": \"Nokia 3310\"\n",
    "    }\n",
    "]"
   ]
  },
  {
   "cell_type": "markdown",
   "id": "ba6b0a65-8052-4b07-bdb9-dac0d93e0214",
   "metadata": {},
   "source": [
    "Now, make a for loop to go through each set of phone info in `photo_info_list`, and for each one, use `print` commands to display the width, height, location, and device"
   ]
  },
  {
   "cell_type": "code",
   "execution_count": null,
   "id": "5baa1c41-9771-4468-932e-e87790e5c614",
   "metadata": {},
   "outputs": [],
   "source": [
    "# TODO: enter your code here"
   ]
  }
 ],
 "metadata": {
  "kernelspec": {
   "display_name": "Python 3 (ipykernel)",
   "language": "python",
   "name": "python3"
  },
  "language_info": {
   "codemirror_mode": {
    "name": "ipython",
    "version": 3
   },
   "file_extension": ".py",
   "mimetype": "text/x-python",
   "name": "python",
   "nbconvert_exporter": "python",
   "pygments_lexer": "ipython3",
   "version": "3.9.7"
  }
 },
 "nbformat": 4,
 "nbformat_minor": 5
}
